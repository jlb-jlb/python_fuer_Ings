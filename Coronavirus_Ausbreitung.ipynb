{
 "cells": [
  {
   "cell_type": "markdown",
   "metadata": {},
   "source": [
    "## Visualisierung und Vorhersage der Coronavirus-Ausbreitung\n",
    "<!-- (CC BY 4.0) Gert Herold, 2022 -->\n",
    "\n",
    "\n",
    "In diesem Skript werden anhand täglich gemeldeter Infektionszahlen der aktuelle Stand der Coronavirus-Infektionslage visualisiert sowie der zukünftige Verlauf geschätzt.\n",
    "Die Schätzungen basieren auf Modellannahmen zum Wachstum der Infiziertenzahl.\n",
    "\n",
    "Import benötigter Pakete:"
   ]
  },
  {
   "cell_type": "code",
   "execution_count": null,
   "metadata": {},
   "outputs": [],
   "source": [
    "#%matplotlib widget\n",
    "import pandas as pd\n",
    "import numpy as np\n",
    "import matplotlib\n",
    "import matplotlib.pyplot as plt\n",
    "import matplotlib.dates as mdates\n",
    "\n",
    "from datetime import datetime\n",
    "from pandas.plotting import register_matplotlib_converters\n",
    "\n",
    "register_matplotlib_converters()"
   ]
  },
  {
   "cell_type": "markdown",
   "metadata": {},
   "source": [
    "#### Aktuelle Daten laden\n",
    "\n",
    "Quellen für Daten zum Verlauf der Covid-Pandemie gibt es mittlerweile sehr viele. Unter anderem stellen die [WHO](https://covid19.who.int) und das [\"European Centre for Disease Prevention and Control\"](https://www.ecdc.europa.eu/en/covid-19/data) Datensätze zum Download zur Verfügung.\n",
    "Wir verwenden den sehr detaillierten Datensatz der Seite \"[Our World in Data](https://ourworldindata.org/coronavirus-source-data)\".\n",
    "Die Daten laden wir direkt aus dem Internet und legen damit ein [DataFrame-Objekt aus dem pandas-Modul](https://pandas.pydata.org/pandas-docs/stable/reference/api/pandas.DataFrame.html) an (aktuell knapp 43 MB):"
   ]
  },
  {
   "cell_type": "code",
   "execution_count": null,
   "metadata": {},
   "outputs": [],
   "source": [
    "df = pd.read_csv(\"https://github.com/owid/covid-19-data/raw/master/public/data/owid-covid-data.csv\", encoding='latin1', on_bad_lines='skip') # wird aktuell gehalten\n",
    "\n",
    "# Falls der obige Aufruf nicht funktioniert, können Sie die Datei auch unter\n",
    "# https://covid.ourworldindata.org/data/owid-covid-data.csv\n",
    "# herunterladen, ins aktuelle Verzeichnis kopieren und dann so öffnen:\n",
    "# df = pd.read_csv(\"owid-covid-data.csv\", encoding='latin1', error_bad_lines=False)\n",
    "\n",
    "# Für eine grobe Übersicht eine Teil-Ausgabe der Daten:\n",
    "df "
   ]
  },
  {
   "cell_type": "markdown",
   "metadata": {},
   "source": [
    "Ein DataFrame ist in etwa ein Dictionary, das jedoch noch wesentlich mehr Funktionen mitbringt. Wir geben mal aus, wie die Spalten (Keys), auf die zugegriffen werden kann, heißen:"
   ]
  },
  {
   "cell_type": "code",
   "execution_count": null,
   "metadata": {},
   "outputs": [],
   "source": [
    "print(df.keys())"
   ]
  },
  {
   "cell_type": "markdown",
   "metadata": {},
   "source": [
    "Wir definieren einige Aliase:"
   ]
  },
  {
   "cell_type": "code",
   "execution_count": null,
   "metadata": {},
   "outputs": [],
   "source": [
    "key_country = 'location'# Key für die Länder\n",
    "key_date = 'date' # Key fürs Tagesdatum\n",
    "date_format = '%Y-%m-%d' # Format des Datums zum späteren Parsen\n",
    "default_key = 'total_cases' # Standardkey für Daten, die geplottet werden sollen"
   ]
  },
  {
   "cell_type": "markdown",
   "metadata": {},
   "source": [
    "Jetzt erzeugen wir aus der Länder-Spalte ein Set (unsortiert), um Duplikate zu vermeiden, und sortieren die Liste alphabetisch. \n",
    "Dann geben wir aus, wie viele und welche Länder in diesem Datensatz enthalten sind."
   ]
  },
  {
   "cell_type": "code",
   "execution_count": null,
   "metadata": {},
   "outputs": [],
   "source": [
    "sorted_list = np.sort(list(set(df[key_country])))\n",
    "nlaender = len(sorted_list)\n",
    "print('Anzahl Länder:',nlaender)\n",
    "print('Länderliste:',sorted_list)"
   ]
  },
  {
   "cell_type": "markdown",
   "metadata": {},
   "source": [
    "Ausgabe aller Ländernamen, die die Zeichenkette 'United' enthalten:"
   ]
  },
  {
   "cell_type": "code",
   "execution_count": null,
   "metadata": {},
   "outputs": [],
   "source": [
    "[_ for _ in set(df[key_country]) if 'United' in _]"
   ]
  },
  {
   "cell_type": "markdown",
   "metadata": {},
   "source": [
    "Schauen wir uns ein paar Daten für Deutschland an:"
   ]
  },
  {
   "cell_type": "code",
   "execution_count": null,
   "metadata": {},
   "outputs": [],
   "source": [
    "df[df[key_country] == 'Germany']"
   ]
  },
  {
   "cell_type": "markdown",
   "metadata": {},
   "source": [
    "### Lineare Regression:\n",
    "\n",
    "In erster Näherung kann davon ausgegangen werden, dass der Anstieg der Anzahl an Infizierten exponentiell ist, also der Rechenvorschrift\n",
    "$$\n",
    "y=a\\cdot \\mathrm{e}^{b \\cdot x}\n",
    "$$\n",
    "folgt. Dabei ist $y$ die Infektionszahl und $x$ der Tag. Die Koeffizienten $a$ und $b$ sind zunächst unbekannt.\n",
    "Das Problem ist in dieser Formulierung nicht linear, aber kann einfach linear gemacht werden, indem der Logarithmus auf beiden Seiten gebildet wird:\n",
    "\n",
    "$$\n",
    "\\log y= \\log (a\\cdot \\mathrm{e}^{b \\cdot x}) = \\log a + b\\cdot x\n",
    "$$\n",
    "\n",
    "Wie in Hausaufgabe 4 kann nun ein Regressionsgerade berechnet werden.\n",
    "Hier wird dafür die Funktion [*numpy.polyfit()*](https://docs.scipy.org/doc/numpy/reference/generated/numpy.polyfit.html) verwendet, die zusätzlich auch eine Gewichtung der Eingangsdaten erlaubt.\n",
    "Je geringer die Anzahl an Infektionen, desto größer kann der relative Fehler angenommen werden. Deshalb werden hier kleine Zahlen auch geringer gewichtet.\n",
    "\n",
    "Das tatsächliche Wachstum hängt von einer Vielzahl von Faktoren hat. \n",
    "Zusätzlich zum exponentiellen Wachstum ist in diesem Skript exemplarisch das Modell eines polynomialen Wachstums (mit nur einem unbekannten Exponenten) implementiert:\n",
    "$$\n",
    "y=a\\cdot x^b\n",
    "$$\n",
    "bzw. als lineare Formulierung:\n",
    "$$\n",
    "\\log y=\\log (a\\cdot x^b) = \\log a + b\\cdot \\log x\n",
    "$$\n",
    "\n",
    "Da das Wachstum in der Realität (glücklicherweise) beschränkt ist, wird irgendwann eine Sättigung erreicht (dann, wenn ein bestimmter Anteil der Bevölkerung infiziert ist). \n",
    "Ein solcher Verlauf könnte mithilfe der [logistischen Funktion](https://de.wikipedia.org/wiki/Logistische_Funktion) modelliert werden.\n",
    "Diese lässt sich jedoch nicht mehr so einfach linear abbilden.\n",
    "\n",
    "\n",
    "Wir basteln uns eine Klasse, die die Daten für ein Land aufbereiten kann."
   ]
  },
  {
   "cell_type": "code",
   "execution_count": null,
   "metadata": {},
   "outputs": [],
   "source": [
    "np.random.seed(1)\n",
    "# Liste der verfügbaren Farben erstellen\n",
    "colorlist = list(matplotlib.colors.TABLEAU_COLORS.values()) + list(matplotlib.colors.XKCD_COLORS.values())\n",
    "\n",
    "class covid_trend():\n",
    "    \"\"\"\n",
    "    Klasse zum Laden, Berechnen und Plotten länderspezifischer Daten und Trends\n",
    "    \"\"\"    \n",
    "    def __init__( self, country):\n",
    "        self.country = country\n",
    "        # eindeutige Farbe zuordnen (pop entfernt Element aus Liste)\n",
    "        self.color = colorlist.pop(0)\n",
    "        # alle Daten für das Land holen\n",
    "        self.data = df[df[key_country] == country]\n",
    "        # eindeutige Linienstärke zuordnen\n",
    "        self.lw = np.random.uniform(1.3,4.3)\n",
    "    \n",
    "    def __get_idays(self):\n",
    "        # Tage im Datensatz als Liste von Zahlen\n",
    "        return [(datetime.strptime(_, date_format)-datetime(1970,1,1)).days for _ in self.data[key_date]]\n",
    "        \n",
    "    def __get_dates(self):\n",
    "        # Tage als Liste von Datumsangaben\n",
    "        return [datetime.strptime(_, date_format) for _ in self.data[key_date]]#[::-1]\n",
    "    \n",
    "    def numbers(self, key=default_key, sum_all=False):\n",
    "        \"\"\"\n",
    "        Gib Anzahl der Fälle zurück.\n",
    "        Parameter:\n",
    "            key: Welche Zahlen sollen geholt werden (Default: Gesamtzahl)\n",
    "            sum_all: Wenn \"True\", berechne kumulative Summe der Größe\n",
    "        \"\"\"\n",
    "        cases = np.array(self.data[key])\n",
    "        #cases[np.isnan(cases)] = 0\n",
    "        # falls gewünscht, berechne kumulative Summe\n",
    "        if sum_all: \n",
    "            cases[np.isnan(cases)] = 0\n",
    "            cases = np.cumsum(cases)\n",
    "        return cases\n",
    "\n",
    "    \n",
    "    def plot_data(self, mask_limit=0, key=default_key, sum_all=False):\n",
    "        \"\"\"\n",
    "        Kurve mit \"Messdaten\" plotten\n",
    "        Parameter:\n",
    "            mask_limit: Anzahl Fälle, ab der Kurve geplottet werden soll\n",
    "            key: Plotte Anzahl Infektionen (key_new_cases) oder Verstorbener (key_new_deaths)\n",
    "            sum_all: Wenn \"True\", plotte kumulative Summe der Größe\n",
    "        \"\"\"\n",
    "        # Hole die Daten\n",
    "        data = self.numbers(key, sum_all)\n",
    "        # Index, ab dem geplottet werden soll, festlegen\n",
    "        ind_start = np.argmax(data>=mask_limit)\n",
    "        # eigentliche Kurve plotten\n",
    "        plt.plot(self.dates[ind_start:],data[ind_start:],\n",
    "                 ls='-', lw = self.lw,\n",
    "                 c=self.color,\n",
    "                 label=\"Data %s\"%self.country, alpha=0.9)\n",
    "        # x-Achse mit Datumsangaben versehen\n",
    "        plt.gca().format_xdata = mdates.DateFormatter('%Y-%m-%d')\n",
    "    \n",
    "   \n",
    "    def params(self, x, y, model='exp'):\n",
    "        # Funktion, die die lineare Regression durchführt und die Parameter a und b zurückgibt.\n",
    "        if model == 'pol':\n",
    "            x = np.log(x)\n",
    "        logy = np.log(y)\n",
    "        # nimm nur gültige Werte für die Regression\n",
    "        valid_inds = np.isfinite(x) & np.isfinite(logy)\n",
    "        # Polyfit mit Grad 1 = Lineare Regression\n",
    "        yvalid=y[valid_inds]\n",
    "        ba = np.polyfit(x[valid_inds], logy[valid_inds], deg=1, w=(yvalid/yvalid.max())**0.5)\n",
    "        return np.exp(ba[1]), ba[0]\n",
    "    \n",
    "    \n",
    "    def plot_trend(self, end_date='', model='exp', days_past=21, key=default_key, sum_all=False):\n",
    "        \"\"\" \n",
    "        Funktion, die die Daten fittet und ggf. Vorhersage plottet sowie den letzten Wert zurück gibt\n",
    "        Parameter:\n",
    "            end_date: Vorhersagedatum im Format YYYY-MM-DD; Default: heute\n",
    "            model: exponentiell oder polynomiales Wachstum\n",
    "            days_past: Anzahl der Tage (genauer: Datumsangaben im Datensatz) in der Vergangenheit, die für die Modellierung noch mitbetrachtet werden sollen\n",
    "            key: Betrachte Anzahl Infektionen (key_new_cases) oder Verstorbener (key_new_deaths)\n",
    "            sum_all: Wenn \"True\", plotte kumulative Summe der Größe\n",
    "        Returns:\n",
    "            letzter Wert der Vorhersage, Exponent\n",
    "        \"\"\"\n",
    "        \n",
    "        if end_date=='':\n",
    "            # letzter Tag, der uns interessiert\n",
    "            endday = self.idays[-1]\n",
    "        else:\n",
    "            endday = (datetime.fromisoformat(end_date)-datetime(1970,1,1)).days\n",
    "        \n",
    "        # \"x-Werte\", für die mit dem verwendeten Modell y-Werte berechnet werden sollen\n",
    "        days = np.linspace(self.idays[-int(1.2*days_past)],endday,100)\n",
    "        daysdate = np.array([datetime.fromtimestamp(_*3600*24) for _ in days])\n",
    "        \n",
    "        # Damit die Exponenten nicht so hoch werden (verursacht numerische Probleme), \n",
    "        # setzen wir den Referenztag auf ca. einen Monat vor unseren Modelldaten\n",
    "        day0 = self.idays[-days_past-1]-30\n",
    "        \n",
    "        # Hole gewünschte Zahl an Datumsangaben aus dem Datensatz (Annahme: jeder Tag hat einen Eintrag), Referenz auf ersten Tag\n",
    "        xdata = np.array(self.idays[(-days_past-1):])-day0\n",
    "        # Hole gewünschte Zahl an Daten aus dem Datensatz (Annahme: jeder Tag hat einen Eintrag)\n",
    "        ydata = self.numbers(key=key)[(-days_past-1):]\n",
    "        \n",
    "        a,b = self.params(xdata, ydata, model=model)\n",
    "        # Plotstil anpassen, je nach Modell\n",
    "        if model == 'exp':\n",
    "            infected_trend = a*np.exp(b*(days-day0))\n",
    "            ls='--'\n",
    "        else:\n",
    "            infected_trend = a*(days-day0)**b\n",
    "            ls = ':'\n",
    "         \n",
    "        # Trendkurve plotten\n",
    "        plt.plot(daysdate, infected_trend, \n",
    "                 ls=ls, lw = self.lw,\n",
    "                 c=self.color, \n",
    "                 label=\"Trend %s, %s\" % (self.country,'exp'), alpha=0.7)\n",
    "        # x-Achse mit Datumsangaben versehen\n",
    "        plt.gca().format_xdata = mdates.DateFormatter('%Y-%m-%d')\n",
    "        \n",
    "        # zusätzlich Vorhersage für letzten betrachteten Tag zurückgeben\n",
    "        return infected_trend[-1],b\n",
    "            \n",
    "    \n",
    "    idays = property(__get_idays)\n",
    "    #: Attribut, dass die Datumsangaben in \"Tage seit 1.1.1970\" enthält\n",
    "    \n",
    "    dates = property(__get_dates)\n",
    "    #: Attribut, dass die Datumsangaben als Liste von datetime-Objekten enthält"
   ]
  },
  {
   "cell_type": "markdown",
   "metadata": {},
   "source": [
    "Wir instanzieren ein Dictionary mit Objekten der obigen Klasse für verschiedene Länder:"
   ]
  },
  {
   "cell_type": "code",
   "execution_count": null,
   "metadata": {},
   "outputs": [],
   "source": [
    "laenderliste = [\"Germany\",\"United Kingdom\",\n",
    "                \"Poland\", \"Spain\", \"China\", \n",
    "                \"United States\", \"Brazil\", \n",
    "                \"Austria\", \"Israel\"]\n",
    "\n",
    "# Erstelle Objekte für obige Länderliste in Dictionary\n",
    "land = {name:covid_trend(country=name) for name in laenderliste}\n",
    "land"
   ]
  },
  {
   "cell_type": "markdown",
   "metadata": {},
   "source": [
    "### Visualisierung der Datenlage\n",
    "\n",
    "Nun erstellen wir Plots der vorhandenen Daten (gesamte Zahl an gemeldeten Erkrankungen und Verstorbenen). \n",
    "Da der Anstieg zunächst stark nichtlinear ist, plotten wir die Daten mit logarithmisch skalierter y-Achse.\n",
    "Außerdem geben wir die Daten für Deutschland als Text aus."
   ]
  },
  {
   "cell_type": "code",
   "execution_count": null,
   "metadata": {},
   "outputs": [],
   "source": [
    "# Plotte Anzahl der Gesamtinfektionen\n",
    "plt.figure(1, figsize=(20,8))\n",
    "\n",
    "for einland in land.values():\n",
    "    einland.plot_data(mask_limit=1e4)\n",
    "\n",
    "plt.ylabel('Number of overall infections')\n",
    "plt.legend()\n",
    "\n",
    "plt.grid(True)\n",
    "plt.yscale(\"log\")\n",
    "plt.show()\n",
    "\n",
    "name_key = \"Germany\"\n",
    "print('Infections %s:' % name_key,land[name_key].dates[-1],land[name_key].numbers()[-1])\n",
    "\n",
    "# Plotte Anzahl der Verstorbenen\n",
    "plt.figure(2, figsize=(20,8))\n",
    "\n",
    "for name in land.values():\n",
    "    name.plot_data(key='total_deaths',mask_limit=300)\n",
    "\n",
    "plt.ylabel('Number of deaths')\n",
    "plt.legend()\n",
    "\n",
    "plt.grid(True)\n",
    "plt.yscale(\"log\")\n",
    "\n",
    "plt.show()\n",
    "\n",
    "print('Deaths %s:' % name_key,land[name_key].dates[-1],land[name_key].numbers('total_deaths')[-1])"
   ]
  },
  {
   "cell_type": "markdown",
   "metadata": {},
   "source": [
    "Um ein Gefühl für das aktuelle Infektionsgeschehen zu erhalten, schauen wir uns auch mal die geglätteten Werte der Neu-Infektionen relativ zur Einwohnerzahl an:"
   ]
  },
  {
   "cell_type": "code",
   "execution_count": null,
   "metadata": {},
   "outputs": [],
   "source": [
    "plt.figure(1, figsize=(20,13))\n",
    "\n",
    "for einland in land.values():\n",
    "    einland.plot_data(mask_limit=0, key='new_cases_smoothed_per_million')\n",
    "\n",
    "plt.ylabel('Number of NEW infections per 1e6')\n",
    "plt.legend()\n",
    "\n",
    "plt.grid(True)\n",
    "plt.yscale(\"log\")\n",
    "plt.ylim([1e-2,2e4])\n",
    "plt.show()\n",
    "\n"
   ]
  },
  {
   "cell_type": "markdown",
   "metadata": {},
   "source": [
    "### Vorhersage\n",
    "\n",
    "Wir wollen zu den Plots der Gesamtinfektionen Trendlinien hinzufügen. Wir berechnen diese aus den Daten der letzten 14 Tage.\n",
    "Außerdem geben wir die hochgerechnete Anzahl an Infizierten und Verstorbenen zu einem von uns gewählten Datum aus."
   ]
  },
  {
   "cell_type": "code",
   "execution_count": null,
   "metadata": {},
   "outputs": [],
   "source": [
    "auswahl = [\"Germany\", \"Israel\",  \"Brazil\", \"United States\", \"Spain\"]\n",
    "\n",
    "# Hier geben wir das zukünftige Datum ein, das uns interessiert\n",
    "datum='2022-08-14'\n",
    "tage = 14\n",
    "\n",
    "\n",
    "plt.figure(3, figsize=(22,15))\n",
    "\n",
    "#########################################################\n",
    "limit=5000\n",
    "plt.subplot(221)\n",
    "for name in auswahl:\n",
    "    land[name].plot_data(mask_limit=limit)\n",
    "    nexp,bexp=land[name].plot_trend(end_date=datum, days_past=tage)\n",
    "    print('%s (Exp. Anstieg: %9.2e) -> Anzahl Infektionen %s: %d'  %(name, bexp, datum, nexp))\n",
    "    npol,bpol=land[name].plot_trend(end_date=datum, days_past=tage, model='pol')\n",
    "    print('%s (Pol. Anstieg: %9.2e) -> Anzahl Infektionen %s: %d\\n'%(name, bpol, datum, npol))\n",
    "\n",
    "\n",
    "#plt.legend()\n",
    "plt.yscale(\"log\")\n",
    "plt.ylim([limit,None])\n",
    "plt.ylabel('Number of infections')\n",
    "plt.grid(True)\n",
    "\n",
    "#########################################################\n",
    "limit=5000\n",
    "plt.subplot(222)\n",
    "\n",
    "for name in auswahl:\n",
    "    land[name].plot_data(mask_limit=limit, key='total_deaths')\n",
    "    nexp,bexp=land[name].plot_trend(end_date=datum, days_past=tage, key='total_deaths')\n",
    "    print('%s (Exp. Anstieg: %9.2e) -> Anzahl Verstorben %s: %d'  %(name, bexp, datum, nexp))\n",
    "    npol,bpol=land[name].plot_trend(end_date=datum, days_past=tage, model='pol', key='total_deaths')\n",
    "    print('%s (Pol. Anstieg: %9.2e) -> Anzahl Verstorben %s: %d\\n'%(name, bpol, datum, npol))\n",
    "\n",
    "plt.legend(bbox_to_anchor=(1.04,1), loc=\"upper left\")\n",
    "plt.yscale(\"log\")\n",
    "plt.ylim([limit,None])\n",
    "plt.ylabel('Number of deaths')\n",
    "plt.grid(True)\n",
    "\n",
    "\n",
    "#########################################################\n",
    "# Betrachtung bezogen auf die Bevölkerungsgröße\n",
    "#######################################################pc#\n",
    "limit=5000\n",
    "plt.subplot(223)\n",
    "\n",
    "for name in auswahl:\n",
    "    land[name].plot_data(mask_limit=limit, key='total_cases_per_million')\n",
    "    nexp,bexp=land[name].plot_trend(end_date=datum, days_past=tage, key='total_cases_per_million')\n",
    "    npol,bpol=land[name].plot_trend(end_date=datum, days_past=tage, model='pol', key='total_cases_per_million')\n",
    "\n",
    "#plt.legend()\n",
    "plt.yscale(\"log\")\n",
    "plt.ylabel(\"Number of infections per 1e6\")\n",
    "plt.grid(True)\n",
    "\n",
    "#########################################################\n",
    "limit=100\n",
    "plt.subplot(224)\n",
    "\n",
    "for name in auswahl:\n",
    "    land[name].plot_data(mask_limit=limit, key='total_deaths_per_million')\n",
    "    nexp,bexp=land[name].plot_trend(end_date=datum, days_past=tage, key='total_deaths_per_million')\n",
    "    npol,bpol=land[name].plot_trend(end_date=datum, days_past=tage, model='pol', key='total_deaths_per_million')\n",
    "\n",
    "\n",
    "#plt.legend()\n",
    "plt.yscale(\"log\")\n",
    "plt.ylabel(\"Number of deaths per 1e6\")\n",
    "\n",
    "plt.grid(True)\n",
    "\n",
    "plt.show()"
   ]
  },
  {
   "cell_type": "markdown",
   "metadata": {},
   "source": [
    "**Man beachte, dass ein exponentielles Wachstum nur dann so weiterläuft wie zuvor, wenn noch keine Sättigung aufgetreten ist und die Infektionstätigkeit nicht durch zusätzliche Maßnahmen oder andere äußere Umstände verändert wird.**\n",
    "Das heißt, der angezeigte Trend kann sowohl zu optimistisch als auch zu pessimistisch sein. Es ist jedoch aus dem vergangenen Verlauf ersichtlich, dass es nur wenige \"plötzliche\" Veränderungen eines Trends gibt."
   ]
  }
 ],
 "metadata": {
  "kernelspec": {
   "display_name": "Python 3 (ipykernel)",
   "language": "python",
   "name": "python3"
  },
  "language_info": {
   "codemirror_mode": {
    "name": "ipython",
    "version": 3
   },
   "file_extension": ".py",
   "mimetype": "text/x-python",
   "name": "python",
   "nbconvert_exporter": "python",
   "pygments_lexer": "ipython3",
   "version": "3.9.5"
  }
 },
 "nbformat": 4,
 "nbformat_minor": 4
}
