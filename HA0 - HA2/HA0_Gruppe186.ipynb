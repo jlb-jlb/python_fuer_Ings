{
 "cells": [
  {
   "cell_type": "markdown",
   "metadata": {},
   "source": [
    "# Hausaufgabe 0\n",
    "## Vorstellung der Gruppe\n",
    "<!-- Lizensiert unter (CC BY 4.0) Gert Herold, 2022 -->\n",
    "\n",
    "Diese Hausaufgabe dient dem Kennenlernen der Gruppenmitglieder und der Programmierumgebung.\n",
    "Für alle zukünftigen Hausaufgaben (ab HA 1) buchen Sie bitte einen interaktiven Besprechungstermin mit einer Lehrperson.\n",
    "Die Abgabe *aller* Hausaufgaben geschieht in Form einer \\*.ipynb-Datei (wie dieser hier) über das ISIS-Portal.\n",
    "\n",
    "***\n",
    "Abgabefrist dieser HA ist **Donnerstag, der 28.4.2022**.\n",
    "***\n",
    "\n",
    "\n",
    "**1) Ergänzen Sie die Tabelle in der folgenden Markdown-Zelle mit Ihren Daten.** Ändern Sie außerdem den Namen dieser Datei, sodass er Ihre Gruppennummer enthält."
   ]
  },
  {
   "cell_type": "markdown",
   "metadata": {},
   "source": [
    "**Gruppe: 186**\n",
    "\n",
    "| Name      | Matrikelnr. | TUB E-Mail| Studiengang (+BSc/MSc?) |\n",
    "|-----------|-------------|-|-|\n",
    "| Joscha Lasse Bisping  | 401424 | joscha.l.bisping@campus.tu-berlin.de| Wirtschaftsingenieurwesen BSc |\n",
    "| Ayano Kozaki  | 352011  | ayano.kozaki@campus.tu-berlin.de| Informatik BSc |"
   ]
  },
  {
   "cell_type": "markdown",
   "metadata": {},
   "source": [
    "**2) Unter der Annahme, dass sich pro Semester durchschnittlich 2000 Studenten an der TU Berlin immatrikulieren, die eine neue (fortlaufende) Matrikelnummer zugewiesen bekommen: Wieviel Zeit $\\Delta t$ ist ungefähr zwischen der Einschreibung der beiden Teilnehmer Ihrer Gruppe vergangen?**\n",
    "Gehen Sie (ungeachtet der Realität) davon aus, dass sich die Einschreibungen gleichmäßig über ein Semester verteilen und nutzen Sie die folgende Zelle für die Berechnung."
   ]
  },
  {
   "cell_type": "code",
   "execution_count": 5,
   "metadata": {},
   "outputs": [
    {
     "name": "stdout",
     "output_type": "stream",
     "text": [
      "Matrikelnummer:  [401424, 352011]\n",
      "Ungegähr 24 Semester sind zwischen der Einschreibung der beiden Teilnehmer vergangen.\n"
     ]
    }
   ],
   "source": [
    "# Hier eigenen Code schreiben bzw folgende Zeile verändern ...\n",
    "\n",
    "# Dictionary\n",
    "gr_students = {\n",
    "    'Joscha Lasse Bisping': 401424,\n",
    "    'Ayano Kozaki': 352011\n",
    "    }\n",
    "\n",
    "AVG_STUDENTS = 2000\n",
    "\n",
    "matrikel_nrs = list(gr_students.values())\n",
    "print('Matrikelnummer: ',matrikel_nrs)\n",
    "\n",
    "delta_t = (matrikel_nrs[0] - matrikel_nrs[1]) // AVG_STUDENTS # Integerdivision\n",
    "\n",
    "print('Ungegähr', delta_t, 'Semester sind zwischen der Einschreibung der beiden Teilnehmer vergangen.')"
   ]
  },
  {
   "cell_type": "code",
   "execution_count": 6,
   "metadata": {
    "deletable": false,
    "editable": false,
    "tags": []
   },
   "outputs": [],
   "source": [
    "# Hier ist mal ein einfacher Test, ob überhaupt was programmiert wurde:\n",
    "assert delta_t is not None # <- das verursacht eine Fehlermeldung, wenn delta_t doch noch None ist"
   ]
  },
  {
   "cell_type": "markdown",
   "metadata": {},
   "source": [
    "**3) Schreiben Sie einen kurzen Programmabschnitt, der eine Zeichenkette `zeichenkette` erzeugt, die so lang ist wie die Namen der Gruppenmitglieder (ohne Leerzeichen), aber als Zeichen anstelle der beiden Namen die letzten 2 Ziffern der Gruppennummer enthält.** Vermeiden Sie es, die Länge der Namen selbst auszuzählen oder die Ziffern der Gruppenzahl wiederholt einzutippen.\n",
    "\n",
    "Beispiel für eine Gruppe \"391\":\n",
    "```python\n",
    "name1 = \"AlanTuring\"\n",
    "name2 = \"MargaretHamilton\"\n",
    "```\n",
    "Gewünschtes Ergebnis:`'99999999991111111111111111'`\n"
   ]
  },
  {
   "cell_type": "code",
   "execution_count": 7,
   "metadata": {},
   "outputs": [
    {
     "name": "stdout",
     "output_type": "stream",
     "text": [
      "name1 =  JoschaLasseBisping\n",
      "name2 =  AyanoKozaki\n",
      "Ergebnis: 88888888888888888866666666666\n"
     ]
    }
   ],
   "source": [
    "zeichenkette = 'xyz' # <- Den Inhalt dieser Variable sollten Sie im folgenden ersetzen / überschreiben.\n",
    "#len?\n",
    "# Hier eigenen Code schreiben ...\n",
    "\n",
    "gr_nr = '186'\n",
    "names = list(gr_students.keys())\n",
    "\n",
    "name1 = names[0].replace(' ','')\n",
    "print('name1 = ', name1)\n",
    "name2 = names[1].replace(' ','')\n",
    "print('name2 = ', name2)\n",
    "\n",
    "zeichenkette = len(name1) * gr_nr[1] + len(name2) * gr_nr[2] \n",
    "print('Ergebnis:',zeichenkette)\n"
   ]
  },
  {
   "cell_type": "code",
   "execution_count": 8,
   "metadata": {
    "deletable": false,
    "editable": false,
    "tags": []
   },
   "outputs": [],
   "source": [
    "# Hier ist ein Test, der überprüft, ob das Ergebnis so viele Zeichen hat wie beide Namen zusammen:\n",
    "assert len(zeichenkette) == len(name1) + len(name2)"
   ]
  }
 ],
 "metadata": {
  "kernelspec": {
   "display_name": "Python 3",
   "language": "python",
   "name": "python3"
  },
  "language_info": {
   "codemirror_mode": {
    "name": "ipython",
    "version": 3
   },
   "file_extension": ".py",
   "mimetype": "text/x-python",
   "name": "python",
   "nbconvert_exporter": "python",
   "pygments_lexer": "ipython3",
   "version": "3.10.4"
  }
 },
 "nbformat": 4,
 "nbformat_minor": 4
}
