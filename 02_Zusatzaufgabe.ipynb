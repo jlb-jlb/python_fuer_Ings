{
 "cells": [
  {
   "cell_type": "markdown",
   "id": "3dbcb7c1",
   "metadata": {},
   "source": [
    "<!-- Version 1.5, Paul Testa, 25.04.2022 -->\n",
    "\n",
    "# **Python für Ingenieure**\n",
    "\n",
    "# Zusatzaufgaben zu 02_Kontrollstrukturen.ipynb\n",
    "\n",
    "Diese Zusatzaufgaben sind grundsätzlich **freiwillig**. <br> \n",
    "Sie sollen Ihnen dabei helfen, die praktische Anwendung des vermittelten Stoffs zu üben und zu festigen.\n",
    "<br>\n",
    "Außerdem wollen wir Sie ermuntern, sich im Forum **Python-Hilfe** über die Kurs-Inhalte auszutauschen, insbesondere auch über Ihre mehr oder weniger erfolgreichen Ansätze zur Lösung dieser Zusatzaufgaben. Die Diskussion über gescheiterte Ansätze ist dabei explizit erwünscht.<br>\n",
    "Die Musterlösung zu den Zusatzaufgaben veröffentlichen wir, sobald es einige Lösungsvorschläge in Forum gibt."
   ]
  },
  {
   "cell_type": "markdown",
   "id": "c02b28c1",
   "metadata": {
    "tags": []
   },
   "source": [
    "# 2. Kontrollstrukturen\n",
    "\n",
    "## 2.1. *if/elif/else* &ndash; Bedingte Anweisungen\n",
    "\n",
    "**1. Geben Sie mit `print()` je nachdem, welche Wert der Integer `n` annimmt, folgendes aus:**\n",
    "* den String \"fizz\", wenn `n` ohne Rest durch drei teilbar ist\n",
    "* den String \"buzz\", wenn `n` ohne Rest durch fünf teilbar ist\n",
    "* den String \"fizzbuzz\", wenn `n` ohne Rest sowohl durch drei als auch durch fünf teilbar ist\n",
    "* die Zahl `n`, sonst\n",
    "\n",
    "Bonus: Können Sie die Aufgabe mit nur drei `if`, `elif` oder `else` lösen? "
   ]
  },
  {
   "cell_type": "code",
   "execution_count": 12,
   "id": "c92c45a8",
   "metadata": {},
   "outputs": [
    {
     "name": "stdout",
     "output_type": "stream",
     "text": [
      "fizzbuzz\n"
     ]
    }
   ],
   "source": [
    "n = 15\n",
    "\n",
    "# Antwort:\n",
    "if n % 3 == 0 and n % 5 == 0:\n",
    "    print(\"fizzbuzz\")\n",
    "elif n % 5 == 0:\n",
    "    print(\"buzz\")\n",
    "elif n % 3 == 0:\n",
    "    print(\"fizz\")\n",
    "else:\n",
    "    print(n)\n",
    "\n",
    "\n"
   ]
  },
  {
   "cell_type": "markdown",
   "id": "c97c0e8c",
   "metadata": {},
   "source": [
    "**2. Überprüfen Sie, ob die beiden Artikel in der Einkaufsliste enthalten sind, ohne `for` oder `while` zu benutzen.** <br>\n",
    "* Falls beide enthalten sind, entfernen Sie alle Artikel und fügen sie nur die beiden wieder ein. \n",
    "* Falls nur einer davon enthalten ist, fügen Sie den nicht enthaltenen Artikel vor dem enthaltenen in die Liste ein. \n",
    "* Falls keiner davon enthalten ist, fügen Sie beide am Anfang der Liste ein. \n",
    "\n",
    "Geben Sie die neue Liste mit `print()` aus."
   ]
  },
  {
   "cell_type": "code",
   "execution_count": 22,
   "id": "23c696ce",
   "metadata": {},
   "outputs": [
    {
     "name": "stdout",
     "output_type": "stream",
     "text": [
      "Einkaufsliste:  ['Milch', 'Kokosnuss', 'Orangen', 'Brot', 'Bananen']\n"
     ]
    }
   ],
   "source": [
    "# Setup\n",
    "# nur ausführen, nicht verändern!\n",
    "\n",
    "import random\n",
    "\n",
    "random.seed()\n",
    "\n",
    "artikel_1 = 'Äpfel'\n",
    "artikel_2 = 'Kokosnuss'\n",
    "\n",
    "einkaufsliste = ['Eier', 'Milch', 'Brot', 'Äpfel', 'Kokosnuss','Bananen', 'Orangen']\n",
    "random.shuffle(einkaufsliste)\n",
    "einkaufsliste = random.sample(einkaufsliste, len(einkaufsliste)-2)\n",
    "print(\"Einkaufsliste: \", einkaufsliste)"
   ]
  },
  {
   "cell_type": "code",
   "execution_count": 23,
   "id": "1eaa0bda",
   "metadata": {
    "tags": []
   },
   "outputs": [
    {
     "name": "stdout",
     "output_type": "stream",
     "text": [
      "['Milch', 'Äpfel', 'Kokosnuss', 'Orangen', 'Brot', 'Bananen']\n"
     ]
    }
   ],
   "source": [
    "# Antwort:\n",
    "if artikel_1 in einkaufsliste and artikel_2 in einkaufsliste:\n",
    "    einkaufsliste = [artikel_1, artikel_2]\n",
    "elif artikel_1 in einkaufsliste and artikel_2 not in einkaufsliste:\n",
    "    index_ = einkaufsliste.index(artikel_1)\n",
    "    einkaufsliste.insert(index_, artikel_2)\n",
    "elif artikel_1 not in einkaufsliste and artikel_2 in einkaufsliste:\n",
    "    index_ = einkaufsliste.index(artikel_2)\n",
    "    einkaufsliste.insert(index_, artikel_1)\n",
    "else:\n",
    "    einkaufsliste.insert(0, artikel_1)\n",
    "    einkaufsliste.insert(0, artikel_2)\n",
    "\n",
    "print(einkaufsliste)\n",
    "\n"
   ]
  },
  {
   "cell_type": "markdown",
   "id": "fbcdeba8",
   "metadata": {},
   "source": [
    "## 2.2. *for*-Schleife\n",
    "\n",
    "**3. Nutzen sie eine `for`-Schleife um von zehn bis eins runterzuzählen. <br>\n",
    "Geben Sie die Zahl jeweils mit `print()` aus.<br>\n",
    "Geben Sie anschließend den String `'Ich komme!'` mit `print()` aus. Nutzen Sie dafür eine `else`-Klausel.**"
   ]
  },
  {
   "cell_type": "code",
   "execution_count": 26,
   "id": "a446e47c",
   "metadata": {},
   "outputs": [
    {
     "name": "stdout",
     "output_type": "stream",
     "text": [
      "10\n",
      "9\n",
      "8\n",
      "7\n",
      "6\n",
      "5\n",
      "4\n",
      "3\n",
      "2\n",
      "1\n",
      "Ich komme!\n"
     ]
    }
   ],
   "source": [
    "# Antwort:\n",
    "for i in range(10, 0, -1):\n",
    "    print(i)\n",
    "else:\n",
    "    print(\"Ich komme!\")\n"
   ]
  },
  {
   "cell_type": "markdown",
   "id": "e9ba4d5a",
   "metadata": {},
   "source": [
    "**4. Fügen Sie alle ungeraden Zahlen von fünf bis zwölf nach und nach einer Liste hinzu und geben sie die Liste nach jedem Schritt mit `print()` aus.**"
   ]
  },
  {
   "cell_type": "code",
   "execution_count": 28,
   "id": "2bcef137",
   "metadata": {},
   "outputs": [
    {
     "name": "stdout",
     "output_type": "stream",
     "text": [
      "[5]\n",
      "[5, 7]\n",
      "[5, 7, 9]\n",
      "[5, 7, 9, 11]\n"
     ]
    }
   ],
   "source": [
    "# Antwort:\n",
    "list_ = list()\n",
    "for i in range(5, 12, 2):\n",
    "    list_.append(i)\n",
    "    print(list_)"
   ]
  },
  {
   "cell_type": "markdown",
   "id": "ace62084",
   "metadata": {
    "tags": []
   },
   "source": [
    "**5. Geben Sie den Wert derjenigen Elemente der Liste, die vom Typ `int` sind, jeweils mit `print()` aus. <br>\n",
    "Geben Sie anschließend aus, wieviele Elemente die Liste enthält, die nicht vom Typ `int` sind und wieviele unterschiedliche andere Typen vorkommen.**\n",
    "* Können Sie vor der Ausgabe deren Inhalt vorhersagen? Wenn Sie falsch lagen, versuchen Sie herauszufinden, wo und warum!"
   ]
  },
  {
   "cell_type": "code",
   "execution_count": 33,
   "id": "d659b26c",
   "metadata": {
    "tags": []
   },
   "outputs": [
    {
     "name": "stdout",
     "output_type": "stream",
     "text": [
      "3\n",
      "4\n",
      "5\n",
      "9\n",
      "10\n",
      "13\n",
      "15\n",
      "16\n",
      "16\n",
      "18\n",
      "Elemente in der Liste:\t19\n"
     ]
    }
   ],
   "source": [
    "eine_Liste = [None, True, '1+1', True+True+True, len('vier'), [0, 1, 2, 3, 4, 5][5],\n",
    "              max('123456'), bool(7), '∞', int('9'), (10), [11], {12}, sum([3, 10]),\n",
    "              range(4,10), 5+10, 2**4, max(range(17)), {'18':18}['18']]\n",
    "\n",
    "# Antwort:\n",
    "for value in eine_Liste:\n",
    "    # print(type(value))\n",
    "    if type(value) is int:\n",
    "        print(value)\n",
    "print(f\"Elemente in der Liste:\\t{len(eine_Liste)}\")\n"
   ]
  },
  {
   "cell_type": "markdown",
   "id": "6c43d403-30de-417a-88ce-24d58f587720",
   "metadata": {},
   "source": [
    "**6. Implementieren Sie \"fizzbuzz\" wie in Aufgabe 2, aber geben Sie statt nur einer Zahl bzw. `fizz/buzz/fizzbuzz`eine entsprechende Liste für 1 bis `n` mit `print()` zurück.**\n",
    "* Für n=15 soll die Rückgabe beispielsweise so aussehen: <br>\n",
    "`[1, 2, 'fizz', 4, 'buzz', 'fizz', 7, 8, 'fizz', 'buzz', 11, 'fizz', 13, 14, 'fizzbuzz']`"
   ]
  },
  {
   "cell_type": "code",
   "execution_count": 36,
   "id": "fb4279eb-f768-4212-9d93-c0dd4a398ab6",
   "metadata": {},
   "outputs": [
    {
     "name": "stdout",
     "output_type": "stream",
     "text": [
      "fizzbuzz\n"
     ]
    }
   ],
   "source": [
    "n = 15\n",
    "\n",
    "# Antwort:\n",
    "if n % 3 == 0 and n % 5 == 0:\n",
    "    print(\"fizzbuzz\")\n",
    "elif n % 5 == 0:\n",
    "    print(\"buzz\")\n",
    "elif n % 3 == 0:\n",
    "    print(\"fizz\")\n",
    "else:\n",
    "    print([i for i in range(1, n+1)])\n",
    "\n",
    "\n"
   ]
  },
  {
   "cell_type": "markdown",
   "id": "8bbe2ad7",
   "metadata": {
    "tags": []
   },
   "source": [
    "## 2.3. *while*-Schleife\n",
    "\n",
    "**7. Nutzen Sie eine `while`-Schleife, um die ersten 10 natürlichen Zahlen zu ermitteln, die nicht ein Vielfaches von 3 sind! <br>\n",
    "Geben Sie diese mit `print()` aus!**"
   ]
  },
  {
   "cell_type": "code",
   "execution_count": 39,
   "id": "e2ba4524",
   "metadata": {
    "tags": []
   },
   "outputs": [
    {
     "name": "stdout",
     "output_type": "stream",
     "text": [
      "1\n",
      "2\n",
      "4\n",
      "5\n",
      "7\n",
      "8\n",
      "10\n",
      "11\n",
      "13\n",
      "14\n"
     ]
    }
   ],
   "source": [
    "# Antwort:\n",
    "i = 0\n",
    "number = 0\n",
    "while i < 10 and number < 1000:\n",
    "    if number % 3 != 0:\n",
    "        print(number)\n",
    "        i += 1\n",
    "    \n",
    "    number += 1\n",
    "\n"
   ]
  },
  {
   "cell_type": "markdown",
   "id": "7aa62165",
   "metadata": {
    "tags": []
   },
   "source": [
    "**8. Schreiben Sie ein Programm, das aufeinanderfolgende natürliche Zahlen in Form eines rechtwinkligen Dreiecks mit 10 Zeilen ausdruckt.**\n",
    "\n",
    "```python\n",
    "1\n",
    "2 3\n",
    "4 5 6\n",
    "7 8 9 10\n",
    "...\n",
    "46 47 48 49 50 51 52 53 54 55\n",
    "```"
   ]
  },
  {
   "cell_type": "code",
   "execution_count": 53,
   "id": "b20c8dc8",
   "metadata": {
    "tags": []
   },
   "outputs": [
    {
     "name": "stdout",
     "output_type": "stream",
     "text": [
      "1\n",
      "2 3\n",
      "4 5 6\n",
      "7 8 9 10\n",
      "11 12 13 14 15\n",
      "16 17 18 19 20 21\n",
      "22 23 24 25 26 27 28\n",
      "29 30 31 32 33 34 35 36\n",
      "37 38 39 40 41 42 43 44 45\n",
      "46 47 48 49 50 51 52 53 54 55\n"
     ]
    }
   ],
   "source": [
    "# Antwort:\n",
    "count = 1\n",
    "numbers_per_line = 1\n",
    "def list_to_string(list_:list)->str:\n",
    "    return \n",
    "for i in range(10):\n",
    "    print(*[j for j in range(count, count+numbers_per_line)]) # der Stern übergibt die Liste als einzelne values\n",
    "    count = count+numbers_per_line\n",
    "    numbers_per_line += 1\n",
    "\n"
   ]
  },
  {
   "cell_type": "markdown",
   "id": "d2b22202",
   "metadata": {},
   "source": [
    "**9. Geben Sie mithile einer `while`-Schleife alle Glieder der [Fibonacci-Folge](https://de.wikipedia.org/wiki/Fibonacci-Folge), die kleiner als 50 sind, mit `print()` aus.**"
   ]
  },
  {
   "cell_type": "code",
   "execution_count": 58,
   "id": "8cdd8e00",
   "metadata": {
    "tags": []
   },
   "outputs": [
    {
     "name": "stdout",
     "output_type": "stream",
     "text": [
      "0\n",
      "1\n",
      "1\n",
      "2\n",
      "3\n",
      "5\n",
      "8\n",
      "13\n",
      "21\n",
      "34\n",
      "55\n",
      "89\n",
      "144\n",
      "233\n",
      "377\n",
      "610\n",
      "987\n",
      "1597\n",
      "2584\n",
      "4181\n",
      "6765\n",
      "10946\n",
      "17711\n",
      "28657\n",
      "46368\n",
      "75025\n",
      "121393\n",
      "196418\n",
      "317811\n",
      "514229\n",
      "832040\n",
      "1346269\n",
      "2178309\n",
      "3524578\n",
      "5702887\n",
      "9227465\n",
      "14930352\n",
      "24157817\n",
      "39088169\n",
      "63245986\n",
      "102334155\n",
      "165580141\n",
      "267914296\n",
      "433494437\n",
      "701408733\n",
      "1134903170\n",
      "1836311903\n",
      "2971215073\n",
      "4807526976\n",
      "7778742049\n"
     ]
    }
   ],
   "source": [
    "# Antwort:\n",
    "n1, n2 = 0, 1\n",
    "count = 0\n",
    "nterms = 50\n",
    "\n",
    "while count < nterms:\n",
    "    print(n1)\n",
    "    nth = n1 + n2\n",
    "    n1 = n2\n",
    "    n2 = nth\n",
    "    count += 1\n"
   ]
  },
  {
   "cell_type": "markdown",
   "id": "6a871b3e",
   "metadata": {},
   "source": [
    " **10. Schreiben Sie ein Programm, das überprüft, ob die eingegebene Zahl ein [Palindrom](https://de.wikipedia.org/wiki/Zahlenpalindrom) ist.**"
   ]
  },
  {
   "cell_type": "code",
   "execution_count": 68,
   "id": "22f4e494",
   "metadata": {},
   "outputs": [
    {
     "data": {
      "text/plain": [
       "True"
      ]
     },
     "execution_count": 68,
     "metadata": {},
     "output_type": "execute_result"
    }
   ],
   "source": [
    "zahl = input('Gib eine Zahl ein: ')\n",
    "\n",
    "# Antwort:\n",
    "def is_palindrom(zahl):\n",
    "    str_ = str(zahl)\n",
    "    for i in range(int(len(str_)/2)):\n",
    "        if str_[i] == str_[-i-1]:\n",
    "            continue\n",
    "        else:\n",
    "            return False\n",
    "    return True\n",
    "\n",
    "\n",
    "is_palindrom(zahl)\n"
   ]
  },
  {
   "cell_type": "markdown",
   "id": "7f8ed746-642e-4931-9a4c-0f0e70bf709a",
   "metadata": {
    "tags": []
   },
   "source": [
    "## 2.4 Logische Ausdrücke:\n",
    "\n",
    "**3. Nutzen sie, wie in Aufgabe 3 eine `for`-Schleife um von zehn bis eins runterzuzählen. <br>\n",
    "Geben Sie die Zahl jeweils mit `print()` aus.<br>\n",
    "Geben Sie anschließend den String `'Ich komme!'` mit `print()` aus.\n",
    "Nutzen Sie diesmal jedoch keine `else`-Klausel, sondern verwenden Sie die Möglichkeit Integer als Booleans auszuwerten.**"
   ]
  },
  {
   "cell_type": "code",
   "execution_count": 79,
   "id": "c8aac157-6eaa-48cb-8dc0-c10f7eb34e8f",
   "metadata": {},
   "outputs": [
    {
     "name": "stdout",
     "output_type": "stream",
     "text": [
      "10\n",
      "9\n",
      "8\n",
      "7\n",
      "6\n",
      "5\n",
      "4\n",
      "3\n",
      "2\n",
      "1\n",
      "Ich komme!\n"
     ]
    }
   ],
   "source": [
    "# Antwort:\n",
    "for i in range(10,0,-1):\n",
    "    print(i)\n",
    "if bool(i) == True:\n",
    "    print(\"Ich komme!\")\n",
    "\n"
   ]
  },
  {
   "cell_type": "code",
   "execution_count": null,
   "id": "8ad50250",
   "metadata": {},
   "outputs": [],
   "source": []
  }
 ],
 "metadata": {
  "kernelspec": {
   "display_name": "Python 3 (ipykernel)",
   "language": "python",
   "name": "python3"
  },
  "language_info": {
   "codemirror_mode": {
    "name": "ipython",
    "version": 3
   },
   "file_extension": ".py",
   "mimetype": "text/x-python",
   "name": "python",
   "nbconvert_exporter": "python",
   "pygments_lexer": "ipython3",
   "version": "3.10.4"
  }
 },
 "nbformat": 4,
 "nbformat_minor": 5
}
