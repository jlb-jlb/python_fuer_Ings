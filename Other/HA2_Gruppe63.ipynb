{
 "cells": [
  {
   "cell_type": "markdown",
   "metadata": {},
   "source": [
    "\n",
    "# Hausaufgabe 2\n",
    "## Ablassung eines Stausees\n",
    "<!-- Lizensiert unter (CC BY 4.0) Gert Herold, 2021 -->\n",
    "\n",
    "Wegen Reparaturarbeiten an der Staumauer einer Talsperre soll das Wasser abgelassen werden. Der See habe ein Fassungsvermögen von $215 \\cdot 10^6\\,\\text{m}^3$. Die Oberfläche des Stausees erstrecke sich über $10\\,\\text{km}^2$. Der Wasserauslass am Grund des Sees habe einen Querschnitt von $2\\,\\text{m}^2$. Der Fluss selbst werde so umgeleitet, dass kein Wasser in den See nachfließen kann."
   ]
  },
  {
   "cell_type": "markdown",
   "metadata": {},
   "source": [
    "**1) Es werde angenommen, die Form des Sees lasse sich mit einem umgedrehten [Kegel](https://de.wikipedia.org/wiki/Kegel_(Geometrie)) annähern. Wie tief ist dann der See?** _(Hinweis: Der Auslassquerschnitt ist im Verhältnis zur Oberfläche so gering, dass der Kegel als spitz angenommen werden kann.)_"
   ]
  },
  {
   "cell_type": "code",
   "execution_count": 16,
   "metadata": {},
   "outputs": [
    {
     "name": "stdout",
     "output_type": "stream",
     "text": [
      "Der See hat eine Tiefe von  64.5  m.\n"
     ]
    }
   ],
   "source": [
    "# V=1/3*G*h\n",
    "G=10*10**6\n",
    "V0=215*10**6\n",
    "h0=3*V0/G\n",
    "print(\"Der See hat eine Tiefe von \",h0,\" m.\")"
   ]
  },
  {
   "cell_type": "markdown",
   "metadata": {},
   "source": [
    "Vereinfachend werde angenommen, dass die sich ausbildende Strömung mithilfe der [Bernoulli-Gleichung](https://de.wikipedia.org/wiki/Bernoulli-Gleichung) beschrieben werden kann:\n",
    "\n",
    "$$\n",
    "\\frac{u^2}{2}+\\frac{p}{\\rho}+g \\, z = \\text{const}\n",
    "$$\n",
    "\n",
    "Dabei ist \n",
    "\n",
    "|||\n",
    "|-|-|\n",
    "|$u$ | Strömungsgeschwindigkeit des Fluids |\n",
    "|$p$ | hydrodynamischer Druck| \n",
    "|$\\rho$| Dichte des Fluids |\n",
    "|$z$ | Höhe über einem Referenzpunkt|\n",
    "|$g=9{,}81\\frac{\\text{m}}{\\text{s}^2}$ | Erdbeschleunigung| \n",
    "\n",
    "Werden nur die Seeoberfläche und der Ausfluss betrachtet, so kann der Druck $p$ ebenfalls als konstant angenommen werden, da er dem Umgebungsdruck entspricht. Ebenso wird die Dichte als konstant angenommen, und die obige Gleichung vereinfacht sich zu \n",
    "\n",
    "$$\n",
    "\\frac{u^2}{2}+g \\, z = \\text{const}\n",
    "$$\n",
    "\n",
    "bzw. für oben und unten:\n",
    "\n",
    "$$\n",
    "\\frac{u_\\text{oben}^2}{2}+g \\, z_\\text{oben} = \\frac{u_\\text{unten}^2}{2}+g \\, z_\\text{unten}\n",
    "$$\n",
    "Der Referenzpunkt für die $z$-Werte kann beliebig gewählt werden. Die Tiefe des Sees ist definiert als Differenz der Höhe der Oberfläche und der Höhe des Ausflusses."
   ]
  },
  {
   "cell_type": "markdown",
   "metadata": {},
   "source": [
    "**2) Berechnen Sie die sich anfangs ausbildende Strömungsgeschwindigkeit am Ausfluss $u_\\text{unten,0}$ sowie den Volumenstrom $\\dot{V_0}$ unter der Annahme, dass die Bewegung der Seeoberfläche vernachlässigbar ist.**"
   ]
  },
  {
   "cell_type": "code",
   "execution_count": 17,
   "metadata": {},
   "outputs": [
    {
     "data": {
      "text/plain": [
       "(35.57372625969902, 71.14745251939804)"
      ]
     },
     "execution_count": 17,
     "metadata": {},
     "output_type": "execute_result"
    }
   ],
   "source": [
    "uoben=0 #Annahme\n",
    "zunten=0\n",
    "zoben=h0\n",
    "g=9.81\n",
    "A=2\n",
    "uunten=(2*(uoben**2/2+g*zoben-g*zunten))**0.5\n",
    "V0punkt=uunten*A\n",
    "uunten, V0punkt"
   ]
  },
  {
   "cell_type": "markdown",
   "metadata": {},
   "source": [
    "Tipp: Um die Kreiszahl $\\pi$ unter Python verwenden zu können, muss man sie entweder selbst definieren oder z.B. aus dem [NumPy-Modul](https://numpy.org/) importieren. Für ein Beispiel den folgenden Code-Abschnitt öffnen."
   ]
  },
  {
   "cell_type": "code",
   "execution_count": 18,
   "metadata": {
    "tags": []
   },
   "outputs": [
    {
     "name": "stdout",
     "output_type": "stream",
     "text": [
      "Radius: 1.78 km\n"
     ]
    }
   ],
   "source": [
    "# Importiere pi aus numpy\n",
    "from numpy import pi\n",
    "\n",
    "# Berechne den \"Radius\" der Seeoberfläche\n",
    "r0 = (G/pi)**0.5\n",
    "print(f'Radius: {r0/1000:.2f} km')"
   ]
  },
  {
   "cell_type": "markdown",
   "metadata": {},
   "source": [
    "**3) Schreiben Sie eine Funktion, die die Tiefe des \"Kegel\"-Sees allgemein abhängig von der enthaltenen Wassermenge bestimmt.** _(Hinweis: Beachten Sie, dass sich die Form des Sees [nicht verändert](https://de.wikipedia.org/wiki/Strahlensatz) und somit der oben gegebene Wert für die Oberfläche nur bei vollem See gilt.)_"
   ]
  },
  {
   "cell_type": "code",
   "execution_count": 28,
   "metadata": {},
   "outputs": [],
   "source": [
    "import math \n",
    "def tiefe(V):\n",
    "    alpha=math.atan(h0/r0)\n",
    "    # G=r**2*pi\n",
    "    # r=h/tan(alpha)\n",
    "    # h=3*V/G=3*V/(r**2*pi)=3*V/((h/tan(alpha))**2*pi)\n",
    "    return (3*V*math.tan(alpha)**2/pi)**(1/3)"
   ]
  },
  {
   "cell_type": "markdown",
   "metadata": {},
   "source": [
    "**4) Schreiben Sie eine Funktion, die ausgehend von einem Startvolumen $V_0$ und einer gegebenen Zeitschrittweite $\\Delta t$ den diskreten Zeitverlauf der Wassertiefe $h(t)$ bis zur Leerung des Sees zurückgibt. Beachten Sie, dass sich auch der Volumenstrom zeitlich ändert.** *(Hinweis: Die Änderung des Volumens lässt sich annähernd über $V_{n+1}=V_n-\\dot{V_n} \\cdot \\Delta t$ beschreiben.)*"
   ]
  },
  {
   "cell_type": "code",
   "execution_count": 22,
   "metadata": {},
   "outputs": [],
   "source": [
    "def volumenstrom (V):\n",
    "    return (2*g*tiefe(V))**0.5*A*3600\n",
    "\n",
    "def abfluss(V0, dt):\n",
    "    #V_list=[V0]\n",
    "    #while V0-volumenstrom(V0)*dt>0:\n",
    "    #    V0=V0-volumenstrom(V0)*dt\n",
    "    #    V_list+=[V0]\n",
    "    V_list=[]\n",
    "    V_list+=[0]\n",
    "    h_list=[tiefe(V) for V in V_list]\n",
    "    t_list=[i*dt for i in range(0,len(h_list)-1)]\n",
    "    t_list+=[t_list[-1]+ (V_list[-2])/volumenstrom(V_list[-2])] #tn=tn-1+dt=tn-1+Vn-Vn+1/Vnpunkt\n",
    "    \n",
    "\n",
    "    return t_list, h_list "
   ]
  },
  {
   "cell_type": "markdown",
   "metadata": {},
   "source": [
    "**5) Wie lange dauert es, bis der Stausee komplett abgelassen wurde?**\n",
    "  * Plotten Sie den Zeitverlauf der Wassertiefe bis zur Leerung für zwei Zeitschrittweiten:\n",
    "    * $\\Delta t_1$ = 1 Minute\n",
    "    * $\\Delta t_2$ = 4 Tage\n",
    "  * Zeichnen Sie beide Verläufe in _ein_ Diagramm und diskutieren Sie Auffälligkeiten."
   ]
  },
  {
   "cell_type": "code",
   "execution_count": 31,
   "metadata": {},
   "outputs": [
    {
     "data": {
      "image/png": "[encoded data removed]",
      "text/plain": [
       "<Figure size 432x288 with 1 Axes>"
      ]
     },
     "metadata": {
      "needs_background": "light"
     },
     "output_type": "display_data"
    },
    {
     "name": "stdout",
     "output_type": "stream",
     "text": [
      "1007.2771232660616\n",
      "971.5343184585208\n"
     ]
    }
   ],
   "source": [
    "%matplotlib inline\n",
    "from matplotlib.pyplot import plot, show\n",
    "# Plotbefehl: plot(x_werte_liste, y_werte_liste)\n",
    "x=abfluss(V0,1/60)\n",
    "y=abfluss(V0,96)\n",
    "plot(x[0],x[1])\n",
    "plot(y[0],y[1])\n",
    "show()\n",
    "print(x[0][-1])\n",
    "print(y[0][-1])"
   ]
  },
  {
   "cell_type": "markdown",
   "metadata": {},
   "source": [
    "**6) Wiederholen Sie Aufgabenteil 5) unter der Annahme, dass der See bei gleichem Volumen und gleicher Oberfläche annähernd durch einen *Zylinder* beschrieben wird. Schreiben Sie hierfür möglichst wenig neuen Code.**\n",
    "\n",
    "*Hinweis: Die Form des Sees sollte nur in der Funktion `tiefe` vorkommen, d.h. Sie müssen nur diese ändern / neu definieren.*"
   ]
  },
  {
   "cell_type": "code",
   "execution_count": 26,
   "metadata": {},
   "outputs": [],
   "source": [
    "def tiefe (V):\n",
    "    #V=G*h\n",
    "    return V/G\n",
    "\n"
   ]
  }
 ],
 "metadata": {
  "kernelspec": {
   "display_name": "Python 3",
   "language": "python",
   "name": "python3"
  },
  "language_info": {
   "codemirror_mode": {
    "name": "ipython",
    "version": 3
   },
   "file_extension": ".py",
   "mimetype": "text/x-python",
   "name": "python",
   "nbconvert_exporter": "python",
   "pygments_lexer": "ipython3",
   "version": "3.8.5"
  }
 },
 "nbformat": 4,
 "nbformat_minor": 4
}
