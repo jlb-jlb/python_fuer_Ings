{
 "cells": [
  {
   "cell_type": "markdown",
   "metadata": {},
   "source": [
    "# **Python für Ingenieure**\n",
    "<!-- Lizensiert unter (CC BY 4.0) Gert Herold, 2022 -->\n",
    "# 6. NumPy\n",
    "\n",
    ">NumPy is the fundamental package for scientific computing in Python. It is a Python library that provides a multidimensional array object, various derived objects (such as masked arrays and matrices), and an assortment of routines for fast operations on arrays, including mathematical, logical, shape manipulation, sorting, selecting, I/O, discrete Fourier transforms, basic linear algebra, basic statistical operations, random simulation and much more.\n",
    ">\n",
    "> &mdash; <cite>[NumPy.org](https://numpy.org/doc/stable/user/whatisnumpy.html), 2022</cite>\n",
    "\n",
    "Das Python-Modul NumPy beinhaltet (mit seinen Untermodulen) eine mächtige Toolbox, die den Umgang mit Daten unter Python sehr komfortabel macht.\n",
    "\n",
    "## 6.1. Arrays\n",
    "\n",
    "Das wohl wichtigste Werkzeug, das NumPy mit sich bringt, ist der Datentyp [*ndarray*](https://docs.scipy.org/doc/numpy/reference/generated/numpy.ndarray.html), mit dem sich beliebig-dimensionale Vektoren/Matrizen/Tensoren (kurz: Arrays) verwirklichen lassen.\n",
    "\n",
    "### 6.1.1. Arrays anlegen\n",
    "\n",
    "Eine einfache Möglichkeit, ein Array zu erzeugen, ist mithilfe der [*array()*](https://docs.scipy.org/doc/numpy/reference/generated/numpy.array.html)-Funktion:"
   ]
  },
  {
   "cell_type": "code",
   "execution_count": 1,
   "metadata": {},
   "outputs": [
    {
     "name": "stdout",
     "output_type": "stream",
     "text": [
      "[1 2 3 6 8]\n",
      "<class 'numpy.ndarray'>\n",
      "int32\n"
     ]
    }
   ],
   "source": [
    "from numpy import array\n",
    "\n",
    "a = array([1, 2, 3, 6, 8])\n",
    "print(a)\n",
    "print(type(a))\n",
    "print(a.dtype)\n"
   ]
  },
  {
   "cell_type": "markdown",
   "metadata": {},
   "source": [
    "Im Unterschied zu einer Python-Liste sind Elemente eines Arrays für gewöhnlich numerisch sowie stets vom gleichen Typ. \n",
    "Eine Auflistung von möglichen Array-Datentypen findet sich in der [Numpy-Dokumentation](https://docs.scipy.org/doc/numpy/reference/arrays.dtypes.html).\n",
    "Befinden sich in einer als Array zu speichernden Liste Variablen unterschiedlichen Typs, wird, wenn möglich, ein Datentyp festgelegt, mit dem alle Werte abgebildet werden können."
   ]
  },
  {
   "cell_type": "code",
   "execution_count": 2,
   "metadata": {},
   "outputs": [
    {
     "name": "stdout",
     "output_type": "stream",
     "text": [
      "Liste: [1, 7, -3, 5, 12]\n",
      "Array: [ 1  7 -3  5 12]\n",
      "int32\n",
      "\n",
      "Liste: [2, 7.5, 11, -1, 0]\n",
      "Array: [ 2.   7.5 11.  -1.   0. ]\n",
      "float64\n",
      "\n"
     ]
    }
   ],
   "source": [
    "liste_a = [1,   7, -3,  5, 12]\n",
    "liste_b = [2, 7.5, 11, -1,  0]\n",
    "\n",
    "a = array(liste_a)\n",
    "b = array(liste_b)\n",
    "\n",
    "print(f'Liste: {liste_a}\\nArray: {a}\\n{a.dtype}\\n')\n",
    "print(f'Liste: {liste_b}\\nArray: {b}\\n{b.dtype}\\n')"
   ]
  },
  {
   "cell_type": "markdown",
   "metadata": {},
   "source": [
    "Mehrdimensionale Arrays lassen sich einfach über Unterlisten erzeugen:"
   ]
  },
  {
   "cell_type": "code",
   "execution_count": 3,
   "metadata": {},
   "outputs": [
    {
     "name": "stdout",
     "output_type": "stream",
     "text": [
      "array:\n",
      " [[1 2]\n",
      " [3 4]]\n",
      "dimension: 2\n",
      "shape: (2, 2)\n",
      "size: 4\n"
     ]
    }
   ],
   "source": [
    "c = array([[1,2],[3,4]])\n",
    "print('array:\\n',c)\n",
    "print('dimension:',c.ndim)\n",
    "print('shape:',c.shape)\n",
    "print('size:',c.size)"
   ]
  },
  {
   "cell_type": "markdown",
   "metadata": {},
   "source": [
    "### 6.1.2. Indizierung von Arrays\n",
    "\n",
    "Der Abruf von Elementen eines Arrays (*Slicing*) funktioniert ähnlich wie bei einer Liste bzw. die Möglichkeiten, eine Liste zu indizieren, funktionieren auch hier:"
   ]
  },
  {
   "cell_type": "code",
   "execution_count": 4,
   "metadata": {},
   "outputs": [
    {
     "name": "stdout",
     "output_type": "stream",
     "text": [
      "14\n",
      "14\n",
      "[ 1  1 13 14 15]\n",
      "[5 4 3 1 1]\n"
     ]
    }
   ],
   "source": [
    "from numpy import array\n",
    "\n",
    "liste_d = [[  1,  1,  3,  4,  5],\n",
    "           [  1,  1,  8,  9, 10],\n",
    "           [  1,  1, 13, 14, 15],\n",
    "           [  1,  1, 18, 19, 20]]\n",
    "\n",
    "d = array(liste_d)\n",
    "\n",
    "print(liste_d[2][3])\n",
    "print(d[2][3])\n",
    "\n",
    "print(d[2])\n",
    "print(d[0][::-1])"
   ]
  },
  {
   "cell_type": "markdown",
   "metadata": {},
   "source": [
    "Darüber hinaus können die Indizierungen hier einfach per Komma abgetrennt (also als Tupel angegeben) werden:"
   ]
  },
  {
   "cell_type": "code",
   "execution_count": 5,
   "metadata": {},
   "outputs": [
    {
     "data": {
      "text/plain": [
       "14"
      ]
     },
     "execution_count": 5,
     "metadata": {},
     "output_type": "execute_result"
    }
   ],
   "source": [
    "d[2,3]"
   ]
  },
  {
   "cell_type": "markdown",
   "metadata": {},
   "source": [
    "Das erlaubt auch ein einfaches Abrufen von Sub-Arrays:"
   ]
  },
  {
   "cell_type": "code",
   "execution_count": 6,
   "metadata": {},
   "outputs": [
    {
     "data": {
      "text/plain": [
       "array([[ 4,  5],\n",
       "       [ 9, 10]])"
      ]
     },
     "execution_count": 6,
     "metadata": {},
     "output_type": "execute_result"
    }
   ],
   "source": [
    "e = d[:2,3:]\n",
    "e"
   ]
  },
  {
   "cell_type": "markdown",
   "metadata": {},
   "source": [
    "Diese Index-Operationen sind rechentechnisch sehr effizient, da hierdurch keine neuen Daten im Speicher hinterlegt werden, sondern die Einträge des neuen Arrays lediglich auf die bereits angelegten Daten zeigen.\n",
    "Das hat zur Folge, dass Änderungen im neuen Array auch im ursprünglichen Array auftauchen:"
   ]
  },
  {
   "cell_type": "code",
   "execution_count": 9,
   "metadata": {},
   "outputs": [
    {
     "data": {
      "text/plain": [
       "array([[    1,     1,     3,     4, 12345],\n",
       "       [    1,     1,     8,     9,    10],\n",
       "       [    1,     1,    13,    14,    15],\n",
       "       [    1,     1,    18,    19,    20]])"
      ]
     },
     "execution_count": 9,
     "metadata": {},
     "output_type": "execute_result"
    }
   ],
   "source": [
    "e[0,1] = 12345\n",
    "d"
   ]
  },
  {
   "cell_type": "markdown",
   "metadata": {},
   "source": [
    "Hilfreich ist auch die Möglichkeit, Integer-Arrays selbst zur Indizierung zu verwenden:"
   ]
  },
  {
   "cell_type": "code",
   "execution_count": 7,
   "metadata": {},
   "outputs": [
    {
     "data": {
      "text/plain": [
       "array([[ 1,  3,  4],\n",
       "       [ 1,  8,  9],\n",
       "       [ 1, 13, 14],\n",
       "       [ 1, 18, 19]])"
      ]
     },
     "execution_count": 7,
     "metadata": {},
     "output_type": "execute_result"
    }
   ],
   "source": [
    "index = array([0,2,3])\n",
    "d[:,index]"
   ]
  },
  {
   "cell_type": "markdown",
   "metadata": {},
   "source": [
    "Es können auch Arrays mit Bool'schen Ausdrücken verwendet werden. Mit `False` können so Werte, die nicht gewünscht sind, maskiert werden:"
   ]
  },
  {
   "cell_type": "code",
   "execution_count": 8,
   "metadata": {},
   "outputs": [
    {
     "data": {
      "text/plain": [
       "(array([ 2. ,  7.5, 11. , -1. ,  0. ]), array([ 7.5, 11. ,  0. ]))"
      ]
     },
     "execution_count": 8,
     "metadata": {},
     "output_type": "execute_result"
    }
   ],
   "source": [
    "b_ind = array([False, True, True, False, True])\n",
    "b, b[b_ind]"
   ]
  },
  {
   "cell_type": "markdown",
   "metadata": {},
   "source": [
    "Bei Indizierung mit Integer- oder Boolean-Arrays werden \n",
    "  * direkt die Einträge angesprochen, bei denen der Wert `True` steht,\n",
    "  * Kopien der Daten angelegt, wenn das Ergebnis der Indizierung einer weiteren Variable zugewiesen werden soll.\n",
    "\n",
    "Für die meisten praktischen Anwendungen spielt es keine Rolle, ob die Daten kopiert oder ob nur Speicheradressen umgeleitet werden.\n",
    "Bei der Fehlersuche in Programmen sollte man sich dessen jedoch bewusst sein."
   ]
  },
  {
   "cell_type": "markdown",
   "metadata": {},
   "source": [
    "### 6.1.3. Rechnen mit Arrays und Broadcasting\n",
    "\n",
    "**Beispiel 1:** Es sollen die Elemente einer Liste mit den entsprechenden Elementen einer anderen Liste addiert werden. Dies ist z.B. möglich über eine Schleife:"
   ]
  },
  {
   "cell_type": "code",
   "execution_count": null,
   "metadata": {},
   "outputs": [],
   "source": [
    "neue_liste = []\n",
    "for i,j in zip(liste_a, liste_b):\n",
    "    neue_liste += [i+j]\n",
    "print(liste_a)\n",
    "print(liste_b)\n",
    "print(neue_liste)"
   ]
  },
  {
   "cell_type": "markdown",
   "metadata": {},
   "source": [
    "Etwas übersichtlicher wird das mit einer List Comprehension:"
   ]
  },
  {
   "cell_type": "code",
   "execution_count": 10,
   "metadata": {},
   "outputs": [
    {
     "data": {
      "text/plain": [
       "[3, 14.5, 8, 4, 12]"
      ]
     },
     "execution_count": 10,
     "metadata": {},
     "output_type": "execute_result"
    }
   ],
   "source": [
    "[i+j for i,j in zip(liste_a, liste_b)]"
   ]
  },
  {
   "cell_type": "markdown",
   "metadata": {},
   "source": [
    "Liegen die Daten als Array vor, geht das noch einfacher:"
   ]
  },
  {
   "cell_type": "code",
   "execution_count": 11,
   "metadata": {},
   "outputs": [
    {
     "data": {
      "text/plain": [
       "array([ 3. , 14.5,  8. ,  4. , 12. ])"
      ]
     },
     "execution_count": 11,
     "metadata": {},
     "output_type": "execute_result"
    }
   ],
   "source": [
    "a+b"
   ]
  },
  {
   "cell_type": "markdown",
   "metadata": {},
   "source": [
    "**Beispiel 2:** Wir wollen alle Werte einer Liste mit 100 multiplizieren. Auch hier muss diese Multiplikation für jedes Element einzeln vorgenommen werden:"
   ]
  },
  {
   "cell_type": "code",
   "execution_count": 12,
   "metadata": {},
   "outputs": [
    {
     "data": {
      "text/plain": [
       "[200, 750.0, 1100, -100, 0]"
      ]
     },
     "execution_count": 12,
     "metadata": {},
     "output_type": "execute_result"
    }
   ],
   "source": [
    "[i*100 for i in liste_b]"
   ]
  },
  {
   "cell_type": "markdown",
   "metadata": {},
   "source": [
    "Rechenoperationen mit Arrays hingegen sind sehr effizient gestaltet.\n",
    "Hier schreibt man einfach:"
   ]
  },
  {
   "cell_type": "code",
   "execution_count": 13,
   "metadata": {},
   "outputs": [
    {
     "data": {
      "text/plain": [
       "array([ 200.,  750., 1100., -100.,    0.])"
      ]
     },
     "execution_count": 13,
     "metadata": {},
     "output_type": "execute_result"
    }
   ],
   "source": [
    "b*100"
   ]
  },
  {
   "cell_type": "markdown",
   "metadata": {},
   "source": [
    "Das funktioniert mit beliebig-dimensionalen Arrays:"
   ]
  },
  {
   "cell_type": "code",
   "execution_count": 14,
   "metadata": {},
   "outputs": [
    {
     "data": {
      "text/plain": [
       "(array([[    1,     1,     3,     4, 12345],\n",
       "        [    1,     1,     8,     9,    10],\n",
       "        [    1,     1,    13,    14,    15],\n",
       "        [    1,     1,    18,    19,    20]]),\n",
       " array([[    100,     100,     300,     400, 1234500],\n",
       "        [    100,     100,     800,     900,    1000],\n",
       "        [    100,     100,    1300,    1400,    1500],\n",
       "        [    100,     100,    1800,    1900,    2000]]))"
      ]
     },
     "execution_count": 14,
     "metadata": {},
     "output_type": "execute_result"
    }
   ],
   "source": [
    "d,d*100"
   ]
  },
  {
   "cell_type": "markdown",
   "metadata": {},
   "source": [
    "Allgemein erlaubt NumPy die Kombination von zwei Arrays verschiedener Größen, wenn für die jeweils *hinteren Dimensionen* der Arrays eine der folgenden Bedingungen erfüllt ist:\n",
    "  * die Anzahl der Elemente ist jeweils gleich\n",
    "  * ein Array hat in dieser Dimension genau einen Eintrag\n",
    "  \n",
    "Im ersten Fall wird jedes Element eines Arrays mit dem entsprechenden Element des zweiten Arrays kombiniert. \n",
    "Im zweiten Fall wird das einzelne Element auf alle anderen angewendet.\n",
    "Unterscheidet sich die Anzahl der Dimensionen (auch: Achsen bzw. engl. *axes*), so werden dem Array mit weniger Dimensionen entsprechend viele Achsen hinzugefügt.\n",
    "\n",
    "Diese Funktionalitäten werden als [Broadcasting](https://numpy.org/devdocs/user/theory.broadcasting.html) bezeichnet.\n",
    "Das bedeutet z.B. für das 2D-Array `d` mit den Dimensionen (4, 5)"
   ]
  },
  {
   "cell_type": "code",
   "execution_count": 15,
   "metadata": {},
   "outputs": [
    {
     "data": {
      "text/plain": [
       "(4, 5)"
      ]
     },
     "execution_count": 15,
     "metadata": {},
     "output_type": "execute_result"
    }
   ],
   "source": [
    "d.shape"
   ]
  },
  {
   "cell_type": "markdown",
   "metadata": {},
   "source": [
    "dass Operation neben Skalaren z.B. auch mit Arrays mit den Dimensionen \n",
    "  * (4, 5)\n",
    "  * (1, 1)\n",
    "  * (1, 5)\n",
    "  * (4, 1)\n",
    "  * (5, )\n",
    "  * (3, 4, 5)\n",
    "  * (75, 1, 5)\n",
    "  * usw.\n",
    "\n",
    "möglich sind."
   ]
  },
  {
   "cell_type": "code",
   "execution_count": 16,
   "metadata": {},
   "outputs": [
    {
     "name": "stdout",
     "output_type": "stream",
     "text": [
      "(5,) (4, 5) \n",
      "\n",
      "[ 1  7 -3  5 12] \n",
      "\n",
      "[[    1     1     3     4 12345]\n",
      " [    1     1     8     9    10]\n",
      " [    1     1    13    14    15]\n",
      " [    1     1    18    19    20]] \n",
      "\n",
      "[[    2     8     0     9 12357]\n",
      " [    2     8     5    14    22]\n",
      " [    2     8    10    19    27]\n",
      " [    2     8    15    24    32]] \n",
      "\n"
     ]
    }
   ],
   "source": [
    "print(a.shape, d.shape,'\\n')\n",
    "print(a,'\\n')\n",
    "print(d,'\\n')\n",
    "print(a+d,'\\n')"
   ]
  },
  {
   "cell_type": "code",
   "execution_count": null,
   "metadata": {},
   "outputs": [],
   "source": [
    "f = array([[10],[20],[30],[40]])\n",
    "print(f.shape, d.shape,'\\n')\n",
    "print(f,'\\n')\n",
    "print(d,'\\n')\n",
    "print(f*d,'\\n')"
   ]
  },
  {
   "cell_type": "markdown",
   "metadata": {},
   "source": [
    "Falls die beiden Arrays nicht den obigen Regeln entsprechend kombinierbar sind, wird eine Fehlermeldung ausgegeben:"
   ]
  },
  {
   "cell_type": "code",
   "execution_count": null,
   "metadata": {},
   "outputs": [],
   "source": [
    "e+d"
   ]
  },
  {
   "cell_type": "markdown",
   "metadata": {},
   "source": [
    "Mitunter ist es aber gewünscht, mit allen Einzeleinträgen eines beliebigen Arrays Operationen auf ein Array anderer Dimension auszuführen. Nehmen wir zum Beispiel die obige Multiplikation des Arrays `d` mit der Zahl 100. Nun wollen wir dieses Array sowohl mit 100 als auch mit 200 multiplizieren:"
   ]
  },
  {
   "cell_type": "code",
   "execution_count": null,
   "metadata": {},
   "outputs": [],
   "source": [
    "print(d*100)\n",
    "print(d*200)\n",
    "\n",
    "# Geht das auch in einem Schritt?\n",
    "mult = array([100,200])\n",
    "print(d * mult)"
   ]
  },
  {
   "cell_type": "markdown",
   "metadata": {},
   "source": [
    "Das ist so nicht möglich, weil entgegen den Broadcastregeln versucht wird, zwei Elemente fünf Elemente zu projizieren.\n",
    "Das eigentliche Ziel war aber ein ganz anderes, nämlich *alle* Elemente des einen Arrays mit *allen* Elementen des anderen zu multiplizieren.\n",
    "Hierfür müssen dem 1D-Array weitere Dimensionen/Achsen hinzugefügt werden.\n",
    "Das geht mit dem Pseudo-Index `newaxis`:"
   ]
  },
  {
   "cell_type": "code",
   "execution_count": null,
   "metadata": {},
   "outputs": [],
   "source": [
    "from numpy import newaxis\n",
    "print(d * mult[:, newaxis, newaxis])\n",
    "print('\\nShapes:', d.shape, (mult[:, newaxis, newaxis]).shape)"
   ]
  },
  {
   "cell_type": "markdown",
   "metadata": {},
   "source": [
    "## Übung\n"
   ]
  },
  {
   "cell_type": "code",
   "execution_count": null,
   "metadata": {},
   "outputs": [],
   "source": [
    "from numpy import array\n",
    "\n",
    "x  =  [[ 0.332,  0.49 ,  0.743,  0.688,  0.914,  0.661],\n",
    "       [ 0.004,  0.285,  0.334,  2.086, -0.164,  0.52 ],\n",
    "       [ 0.118,  0.482,  0.64 , -1.468,  0.923,  0.088],\n",
    "       [ 0.995,  0.946, -1.386, -0.75 ,  0.879, -1.105],\n",
    "       [ 1.072, -0.628, -0.482,  0.838, -0.517, -0.094],\n",
    "       [-0.125,  0.342,  0.858, -0.626, -2.145,  1.429],\n",
    "       [ 1.832, -0.471,  0.085,  0.457,  1.449, -0.486]]\n",
    "\n",
    "y  =  [[ 0.401, -0.468,  0.692, -0.505, -2.672, -0.132],\n",
    "       [-0.296,  0.54 ,  0.712,  0.496, -0.615, -0.22 ],\n",
    "       [-0.525, -0.208, -2.41 ,  0.346, -1.93 ,  0.42 ],\n",
    "       [-0.786,  0.176, -0.652,  0.515,  1.069, -0.457],\n",
    "       [-0.63 , -1.372, -0.483,  0.608,  1.295, -0.637],\n",
    "       [-0.286,  1.546, -1.219, -1.779,  0.955, -0.424],\n",
    "       [-0.435, -1.886, -0.34 , -1.293, -0.646, -1.366]]\n",
    "\n",
    "ax = array(x)\n",
    "ay = array(y)"
   ]
  },
  {
   "cell_type": "markdown",
   "metadata": {},
   "source": [
    "**1) Addieren Sie die beiden Listen `x` und `y` elementweise (also `x[0][0]+y[0][0]`, `x[0][1]+y[0][1]`, usw). Vergleichen Sie die Rechenzeit, wenn Sie Listen verwenden, mit der Zeit, die Sie für die Berechnung mit den Arrays `ax` und `ay` benötigen.**"
   ]
  },
  {
   "cell_type": "code",
   "execution_count": null,
   "metadata": {},
   "outputs": [],
   "source": [
    "%%timeit\n",
    "# Hier eigenen Code für Listenoperation schreiben ...\n"
   ]
  },
  {
   "cell_type": "code",
   "execution_count": null,
   "metadata": {},
   "outputs": [],
   "source": [
    "%%timeit\n",
    "# Hier eigenen Code für Arrayoperation schreiben ...\n"
   ]
  },
  {
   "cell_type": "markdown",
   "metadata": {},
   "source": [
    "**2) Geben Sie jede zweite *Zeile* des Arrays `ax` aus. Geben Sie jede zweite *Spalte* des Arrays `ay` aus..**"
   ]
  },
  {
   "cell_type": "code",
   "execution_count": null,
   "metadata": {},
   "outputs": [],
   "source": [
    "# Hier eigenen Code schreiben ...\n"
   ]
  },
  {
   "cell_type": "markdown",
   "metadata": {},
   "source": [
    "**3) Kopieren Sie die Werte der beiden Arrays, die *nicht* am Rand liegen, in zwei neue Arrays `xx` und `yy`.**"
   ]
  },
  {
   "cell_type": "code",
   "execution_count": null,
   "metadata": {},
   "outputs": [],
   "source": [
    "# Hier eigenen Code schreiben ...\n"
   ]
  },
  {
   "cell_type": "markdown",
   "metadata": {},
   "source": [
    "**4) Überschreiben Sie im Array `xx` die Werte, an deren Position im Array `yy` ein negativer Wert steht, mit dem Quadrat dieses Werts.**"
   ]
  },
  {
   "cell_type": "code",
   "execution_count": null,
   "metadata": {},
   "outputs": [],
   "source": [
    "# Hier eigenen Code schreiben ...\n"
   ]
  },
  {
   "cell_type": "markdown",
   "metadata": {},
   "source": [
    "**5) Was passiert im folgenden Programmabschnitt und wie erklärt sich das Ergebnis?**"
   ]
  },
  {
   "cell_type": "code",
   "execution_count": null,
   "metadata": {},
   "outputs": [],
   "source": [
    "y_neu = ay[::2, 1::2]\n",
    "print(y_neu)\n",
    "y_neu[:] = 100\n",
    "print(y_neu)\n",
    "print(ay)"
   ]
  }
 ],
 "metadata": {
  "interpreter": {
   "hash": "5a2acda0bee31fbce14a2b16aac91d44055ed10de98f4e8429e344e462f60b3a"
  },
  "kernelspec": {
   "display_name": "Python 3.10.4 64-bit",
   "language": "python",
   "name": "python3"
  },
  "language_info": {
   "codemirror_mode": {
    "name": "ipython",
    "version": 3
   },
   "file_extension": ".py",
   "mimetype": "text/x-python",
   "name": "python",
   "nbconvert_exporter": "python",
   "pygments_lexer": "ipython3",
   "version": "3.10.4"
  }
 },
 "nbformat": 4,
 "nbformat_minor": 4
}
