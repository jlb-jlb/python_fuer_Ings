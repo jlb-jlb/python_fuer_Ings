{
 "cells": [
  {
   "cell_type": "markdown",
   "id": "babe426a-c2bf-46ff-b9ad-ee0ecbb5af57",
   "metadata": {
    "deletable": false,
    "editable": false,
    "tags": []
   },
   "source": [
    "# Hausaufgabe 3 &ndash; Normal Edition\n",
    "## \"Malen nach Zahlen\"\n",
    "<!-- Lizensiert unter (CC BY 4.0), Gert Herold -->\n",
    "\n",
    "Um das Strömungsfeld um einen kreisförmigen Zylinder mit einem Durchmesser von 7,5 mm besser zu verstehen, wurden [CFD-Simulationen](https://de.wikipedia.org/wiki/Numerische_Str%C3%B6mungsmechanik) durchgeführt. \n",
    "Die Berechnungen wurden auf einem unregelmäßigen 2D-Gitter durchgeführt, das den Zylinder durchschneidet, so dass er darin als Kreis erscheint. \n",
    "Die Ergebnisse für einen diskreten Zeitpunkt wurden als [CSV-Datei](https://de.wikipedia.org/wiki/CSV_(Dateiformat)) exportiert.\n",
    "\n",
    "**Die gesamte Programmierung für diese Aufgabe kann ohne if-Anweisungen oder Schleifen durchgeführt werden! Es ist okay, wenn Sie diese zunächst für eine erste Lösung benötigen, aber versuchen Sie, eine Variante zu finden, die diese Strukturen nicht benötigt und stattdessen die Funktionalitäten von Numpy nutzt.**"
   ]
  },
  {
   "cell_type": "markdown",
   "id": "59767431-7186-4cb6-9cfb-0c8262820577",
   "metadata": {
    "deletable": false,
    "editable": false,
    "tags": []
   },
   "source": [
    "### 1) Gitterparameter\n",
    "\n",
    "**1.1) Laden Sie die Daten aus der Datei `U_xyplane.csv` und entpacken Sie den Inhalt der Spalten in neue Variablen (1D-Arrays) u, v, w, x, y, z. Für wie viele Punkte liegen Daten vor?**\n",
    "\n",
    "_Hinweise: Die Zeilen eines Arrays `A` mit 2 Zeilen lassen sich z.B. so \"entpacken\": `a,b = A`. Alle Werte sind in SI-Einheiten gegeben (m und m/s). Geschwindigkeitskomponenten werden in der Datei mit \"U\" bezeichnet, Koordinaten mit \"Points\"._"
   ]
  },
  {
   "cell_type": "code",
   "execution_count": null,
   "id": "cb934408-d100-43bc-89f4-59b65e9af275",
   "metadata": {
    "deletable": false,
    "editable": false,
    "tags": []
   },
   "outputs": [],
   "source": [
    "%matplotlib inline\n",
    "import matplotlib.pyplot as plt\n",
    "from matplotlib.patches import Circle\n",
    "import numpy as np"
   ]
  },
  {
   "cell_type": "code",
   "execution_count": null,
   "id": "1d2722d2-7b35-4513-8524-8ebbc0021475",
   "metadata": {},
   "outputs": [],
   "source": [
    "# Hier eigenen Code schreiben ...\n",
    "\n"
   ]
  },
  {
   "cell_type": "markdown",
   "id": "04bd9eec-a6ad-439d-87c0-0752c89b41b2",
   "metadata": {
    "deletable": false,
    "editable": false,
    "tags": []
   },
   "source": [
    "Um eine grobe Vorstellung vom Setup zu bekommen, wäre es schön, einen schnellen Überblick über den Simulationsbereich einschließlich des \"Zylinderkreises\" zu haben.\n",
    "\n",
    "**1.2) Bestimmen Sie die minimalen und maximalen x- und y-Werte und zeichnen Sie ein Rechteck, das die betrachtete Fläche abdeckt und einen Kreis mit (x, y) = (0.06 m, 0.15 m) und einem Durchmesser von 7.5 mm umgibt.**\n",
    "\n",
    "  * Schreiben Sie eine Funktion, die die x- und y-Ausdehnung übergeben wird und die mit dem Befehl [_plot()_](https://matplotlib.org/stable/api/_as_gen/matplotlib.pyplot.plot.html) eine  Rechteckumrandung zeichnet.\n",
    "\n",
    "Einen Kreis in eine bestehende Abbildung einzufügen ist z.B. so möglich:\n",
    "```python\n",
    "    plt.gca().add_patch(Circle((x_center, y_center), radius, color='k'))\n",
    "```"
   ]
  },
  {
   "cell_type": "code",
   "execution_count": null,
   "id": "cc19bf14-9157-4ca8-88b5-61a95cc25d64",
   "metadata": {},
   "outputs": [],
   "source": [
    "def rechteck(xmin,xmax,ymin,ymax):\n",
    "    # Hier eigenen Code schreiben ...\n",
    "    \n",
    "\n",
    "plt.figure(1,(10,6))\n",
    "# Rechteck plotten ...\n",
    "\n",
    "# Kreis plotten ...\n",
    "\n",
    "# Achsenbbeschriftungen hinzufügen ...\n",
    "\n",
    "plt.axis('equal')\n",
    "plt.show()"
   ]
  },
  {
   "cell_type": "markdown",
   "id": "e20945dc-6d60-47cd-ae1b-5cd894038f16",
   "metadata": {
    "deletable": false,
    "editable": false,
    "tags": []
   },
   "source": [
    "Vor der Auswertung der eigentlichen Daten soll zunächst die Gitterstruktur genauer untersucht werden.\n",
    "\n",
    "**1.3) Visualisieren Sie das Gitter.**\n",
    "\n",
    "  * Zeichnen Sie alle Gitterpunkte in einem 20x13-Zoll-Plot unter Verwendung von `'.'`-Markern (kleine Punkte) mit einer Größe von 0.5.\n",
    "  * Bestimmen Sie den Teilbereich des Gitters, der nur Punkte mit $5.9\\,$cm $< x < 6.1\\,$cm and $y > 15\\,$cm enthält. \n",
    "  * Wie viele Punkte liegen in diesem Bereich?\n",
    "  * Zeichnen Sie die entsprechenden Gitterpunkte mit einer anderen Farbe in die ursprüngliche Abbildung ein.\n",
    "\n",
    "_Hinweis: Um mehrere boolesche Ausdrücke in Arrays zu kombinieren, können die [bitweisen Operatoren](https://wiki.python.org/moin/BitwiseOperators) `&` (und) sowie `|` (oder) verwendet werden._"
   ]
  },
  {
   "cell_type": "code",
   "execution_count": null,
   "id": "540a5e72-10b9-4424-8cac-ad07af92943d",
   "metadata": {
    "tags": []
   },
   "outputs": [],
   "source": [
    "# Hier eigenen Code schreiben ...\n",
    "\n"
   ]
  },
  {
   "cell_type": "markdown",
   "id": "a2b04f02-80ab-410c-ad99-fbfa70c3e1a0",
   "metadata": {
    "deletable": false,
    "editable": false,
    "tags": []
   },
   "source": [
    "**1.4) Berechnen Sie für jeden Punkt im kleineren Teilgitter den Abstand zum nächstliegenden Nachbarpunkt.**\n",
    "\n",
    "Das ist z.B. möglich, indem die Abstände von allen Punkten zu allen anderen Punkten bestimmt werden und dann für jeden Punkt der jeweils kleinste Abstand (größer 0!) herausgesucht wird.\n",
    "\n",
    "  * Sortieren Sie die jeweils ermittelten Nachbar-Abstände in aufsteigender Reihenfolge.\n",
    "  * Erstellen Sie eine Abbildung, die auf der $x$-Achse nur den Punktindex aufträgt und die jeweiligen Nachbar-Abstände auf der logarithmisch skalierten $y$-Achse."
   ]
  },
  {
   "cell_type": "code",
   "execution_count": null,
   "id": "9099517b-7b40-4008-b42c-60a48eb228de",
   "metadata": {
    "tags": []
   },
   "outputs": [],
   "source": [
    "# Hier eigenen Code schreiben ...\n",
    "\n",
    "plt.grid(True)\n",
    "plt.show()"
   ]
  },
  {
   "cell_type": "markdown",
   "id": "0719dd41-6269-4812-977a-f421950cb249",
   "metadata": {
    "deletable": false,
    "editable": false,
    "tags": []
   },
   "source": [
    "## 2) Strömungsgeschwindigkeiten\n",
    "\n",
    "Nun sollen die im Datensatz auftretenden Geschwindigkeiten näher betrachtet werden.\n",
    "\n",
    "**2.1) Erstellen Sie für einen groben Überblick [Histogramme](https://de.wikipedia.org/wiki/Histogramm) der drei Geschwindgikeitskomponenten.**\n",
    "\n",
    "  * Sie können hierfür die matplotlib-Funktion [_hist()_](https://matplotlib.org/stable/api/_as_gen/matplotlib.pyplot.hist.html) verwenden.\n",
    "  * Zeichnen Sie die drei Graphen nebeneinander (3 Plots in einer Zeile).\n",
    "  * Nutzen Sie für die Histogramme je 100 Bins gleichen Umfangs.\n",
    "  * Wie groß ist die höchste Geschwindigkeit in $x$-Richtung?"
   ]
  },
  {
   "cell_type": "code",
   "execution_count": null,
   "id": "5eba8412-ba7e-457a-98fd-c96715234cdf",
   "metadata": {},
   "outputs": [],
   "source": [
    "# Hier eigenen Code schreiben ...\n",
    "\n"
   ]
  },
  {
   "cell_type": "markdown",
   "id": "00b34b62-5868-4851-9274-feb2fd3d2b74",
   "metadata": {
    "deletable": false,
    "editable": false,
    "tags": []
   },
   "source": [
    "**2.2) Visualisieren Sie die Strömung in unterschiedlichen Plotvarianten.**\n",
    "\n",
    "  * Berechnen Sie die Geschwindigkeitsbeträge (Länge der Geschwindigkeitsvektoren) an den Gitterpunkten.\n",
    "  * Erzeugen Sie 4 Visualisierungen der Beträge:\n",
    "      1. mithilfe der [_scatter()_](https://matplotlib.org/stable/api/_as_gen/matplotlib.pyplot.scatter.html)-Funktion und Farbskalierung der Werte.\n",
    "      2. mithilfe der [_tricontourf()_](https://matplotlib.org/stable/api/_as_gen/matplotlib.pyplot.tricontourf.html)-Funktion mit 8, 32 sowie 256 Farblevels (hier ist ausnahmsweise die Verwendung einer Schleife sinnvoll).\n",
    "  * Zeichnen Sie immer den Zylinderkreis in weißer Farbe mit ein.\n",
    "  * Fügen Sie jeweils einen [Colorbar](https://matplotlib.org/stable/api/_as_gen/matplotlib.pyplot.colorbar.html) hinzu, damit die Farben Geschwindigkeitswerten zugeordnet werden können."
   ]
  },
  {
   "cell_type": "code",
   "execution_count": null,
   "id": "4fa8d35c-4d12-496e-a5bf-911a54a0ee44",
   "metadata": {},
   "outputs": [],
   "source": [
    "plt.figure(5,(20,50))\n",
    "plt.subplot(411)\n",
    "# Hier eigenen Code schreiben ...\n",
    "\n"
   ]
  },
  {
   "cell_type": "markdown",
   "id": "92e66dc7-b15f-4615-8aa4-517dd606756e",
   "metadata": {
    "deletable": false,
    "editable": false,
    "tags": []
   },
   "source": [
    "## 3) Wirbelstärke\n",
    "\n",
    "Um \"interessante\" Regionen in einem Strömungsfeld zu identifizieren, wird häufig die [Wirbelstärke](https://de.wikipedia.org/wiki/Wirbelst%C3%A4rke) verwendet, die nun berechnet werden soll. \n",
    "Hier genügt die Berechnung in 2D, d.h. die Wirbelstärke in $z$-Richtung. Diese ist wie folgt definiert:\n",
    "\n",
    "$$\n",
    "    \\omega_z = \\frac{\\partial v}{\\partial x} - \\frac{\\partial u}{\\partial y}\n",
    "$$\n",
    "\n",
    "Offenbar werden die partiellen Ableitungen der Geschwindigkeiten benötigt. \n",
    "Diese waren in der Datendatei jedoch nicht enthalten und müssen demzufolge aus verfügbaren Daten berechnet werden. \n",
    "Da nur diskrete Werte vorliegen, muss die Ableitung über den [Differenzenquotienten](https://de.wikipedia.org/wiki/Differenzenquotient) erfolgen. \n",
    "Dies wäre viel einfacher, wenn die Daten auf einem regelmäßigen rechteckigen Gitter vorliegen würden.\n",
    "\n",
    "Praktischerweise enthält das SciPy-Modul mit [_griddata()_](https://docs.scipy.org/doc/scipy/reference/generated/scipy.interpolate.griddata.html) eine Funktion, die unregelmäßige Daten auf ein reguläres Gitter abbilden kann.\n",
    "Um ein Gitter mit regelmäßigen Abständen zu erzeugen, kann zum Beispiel die Funktion [_meshgrid()_](https://numpy.org/doc/stable/reference/generated/numpy.meshgrid.html) zusammen mit [_arange()_](https://numpy.org/doc/stable/reference/generated/numpy.arange.html) (beide aus dem NumPy-Modul) verwendet werden.\n",
    "\n",
    "**3.1) Erzeugen Sie ein Gitter mit regelmäßigen Abständen und interpolieren Sie die unregelmäßig verteilten Geschwindigkeitsdaten auf dieses Gitter.**\n",
    "\n",
    "  * Das neue Gitter sollte eine Schrittweite von $10^{-4}\\,$m haben (sowohl in $x$- als auch in $y$-Richtung) und den Simulationsbereich beinhalten.\n",
    "  * Interpolieren Sie $u$, $v$ und $w$ jeweils separat, sodass Sie drei neue (große) Arrays erhalten.\n",
    "  * Zur Überprüfung, ob alles korrekt funktioniert hat, visualisieren Sie den Betrag der neuen Vektoren mithilfe von [_imshow()_](https://matplotlib.org/stable/api/_as_gen/matplotlib.pyplot.imshow.html).\n",
    "      * Setzen Sie den Parameter `vmax` auf einen sinnvollen Wert.\n",
    "      * Tragen Sie im Parameter `extent` den tatsächlichen Umfang des Gitters ein.\n",
    "      * Zeichnen Sie auch hier den weißen Kreis an die passende Position.\n",
    "  \n",
    "\n",
    "_Hinweis: Wenn Sie sich der Leistungsfähigkeit Ihres Computers nicht sicher sind, beginnen Sie mit einer gröberen Schrittweite._"
   ]
  },
  {
   "cell_type": "code",
   "execution_count": null,
   "id": "721b9e3f-2b67-47d1-ad0b-f2db1946b9f0",
   "metadata": {
    "tags": []
   },
   "outputs": [],
   "source": [
    "from scipy.interpolate import griddata # Vorschlag für Interpolationsmethode für sanfte Übergänge: \"cubic\"\n",
    "# Hier eigenen Code schreiben ...\n",
    "\n"
   ]
  },
  {
   "cell_type": "markdown",
   "id": "26bfcc2f-f25a-4880-abaf-7f310df58e1e",
   "metadata": {
    "deletable": false,
    "editable": false,
    "tags": []
   },
   "source": [
    "Mit den nun auf einem regelmäßigen Gitter vorliegenden Daten können die partiellen Ableitungen einfach approximiert werden über\n",
    "\n",
    "$$\n",
    "    \\frac{\\partial v_{i,j}}{\\partial x} = \\frac{v_{i,j+1}-v_{i,j}}{\\Delta x}\n",
    "$$\n",
    "\n",
    "und\n",
    "\n",
    "$$\n",
    "    \\frac{\\partial u_{i,j}}{\\partial y} = \\frac{u_{i+1,j}-u_{i,j}}{\\Delta y}~,\n",
    "$$\n",
    "\n",
    "mit $i=0\\ldots N_\\text{Zeilen}-1$, $j=0\\ldots N_\\text{Spalten}-1$.\n",
    "\n",
    "**3.2) Berechnen Sie die Ableitungen und die Wirbelstärken $\\omega_z$ entsprechend obiger Gleichungen. Visualisieren Sie die Wirbelstärken mit _imshow()_.**\n",
    "\n",
    "  * Wählen Sie eine divergierende [Colormap](https://matplotlib.org/stable/tutorials/colors/colormaps.html) und stellen Sie sicher, dass der Wert 0 darin weiß dargestellt wird.\n",
    "  * Zeichnen Sie auch hier den weißen Zylinderkreis ein.\n",
    "  * Setzen Sie den dargestellten Wertebereich so, dass der Plot informativ ist.\n",
    "  * Fügen Sie einen Colorbar hinzu.\n",
    "\n",
    "_Hinweis: Versuchen Sie, effizienten Code zu schreiben! Diese Berechnung sollte nicht allzu lange dauern (vielleicht einige wenige Sekunden). Erhöhen Sie zu Testzwecken die Schrittweite, falls erforderlich._"
   ]
  },
  {
   "cell_type": "code",
   "execution_count": null,
   "id": "fa67300e-9694-444d-8c93-4cc0f9b9042c",
   "metadata": {},
   "outputs": [],
   "source": [
    "# Hier eigenen Code schreiben ...\n",
    "\n"
   ]
  }
 ],
 "metadata": {
  "kernelspec": {
   "display_name": "Python 3 (ipykernel)",
   "language": "python",
   "name": "python3"
  },
  "language_info": {
   "codemirror_mode": {
    "name": "ipython",
    "version": 3
   },
   "file_extension": ".py",
   "mimetype": "text/x-python",
   "name": "python",
   "nbconvert_exporter": "python",
   "pygments_lexer": "ipython3",
   "version": "3.9.5"
  }
 },
 "nbformat": 4,
 "nbformat_minor": 5
}
