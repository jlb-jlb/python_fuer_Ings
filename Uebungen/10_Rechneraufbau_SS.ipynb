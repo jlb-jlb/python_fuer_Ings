{
 "cells": [
  {
   "cell_type": "markdown",
   "metadata": {},
   "source": [
    "# **Python für Ingenieure**\n",
    "<!-- Lizensiert unter (CC BY 4.0) Gert Herold, 2022 -->\n",
    "# 10. Rechneraufbau\n",
    "\n",
    ">It's still magic even if you know how it's done.\n",
    ">\n",
    "> &mdash; <cite>[Terry Pratchett](https://de.wikipedia.org/wiki/Terry_Pratchett)</cite>\n",
    "\n",
    "Das Ende ist nah. Zumindest das Ende dieses Kurses. Aber wenn Sie das Gefühl haben, dass die Tage, die Sie mit Programmieren verbracht haben, immer länger wurden, [ist das nicht nur unsere Schuld](https://de.wikipedia.org/wiki/Sonnenwende#Sommersonnenwende). \n",
    "Zeit, zurückzublicken und sich zu fragen, was Sie in den letzten Monaten so in diesem Kurs gemacht haben. War er Ihre Zeit wert? Haben Sie etwas mitgenommen, was Ihnen in der Zukunft helfen wird? Vielleicht sogar mehr als nur die 6 LP für den Abschluss?\n",
    "\n",
    "Aber, was wissen Sie eigentlich über diesen \"[Computer](https://de.wikipedia.org/wiki/Personal_Computer)\", den Rechner, das Wesen, mit dem Sie wahrscheinlich in den vergangenen Monaten mehr Zeit verbracht haben als mit echten Menschen?\n",
    "Stunden-, vielleicht tagelang haben Sie davor gesessen, immer wieder [Knöpfe](https://de.wikipedia.org/wiki/Tastatur) gedrückt und gehofft, dass, wenn Sie nur die richtigen Knöpfe drücken, die Maschine sich entscheidet,  eine [komplizierte Lampe](https://de.wikipedia.org/wiki/Bildschirm) so an- und auszuschalten, dass es Ihnen ein Lächeln aufs Gesicht zaubert. \n",
    "\n",
    "Sie und diese Maschine haben dabei nach [einem Prinzip gehandelt, das es so schon seit Generationen gibt](https://de.wikipedia.org/wiki/EVA-Prinzip). \n",
    "Doch wer oder was ist sie, die eine solche Macht über uns hat? \n",
    "Wie kann etwas so Kaltes, das stoisch nur [logischen Gesetzen](https://de.wikipedia.org/wiki/Aussagenlogik) folgt, uns so fesseln, dass wir ihm einen erheblichen Teil unserer Lebenszeit opfern?\n",
    "\n",
    "Vielleicht ist es für manche die Faszination, sich von Emotionen befreien zu können, alles auf [Einsen und Nullen](https://de.wikipedia.org/wiki/Dualsystem) zu reduzieren, auf [Wahr oder  Fal](https://de.wikipedia.org/wiki/Wahrheitswert)[sch](https://de.wikipedia.org/wiki/Fake_News), [Sein oder Nichtsein](https://de.wikipedia.org/wiki/Hamlet).\n"
   ]
  },
  {
   "cell_type": "code",
   "execution_count": 11,
   "metadata": {},
   "outputs": [
    {
     "name": "stdout",
     "output_type": "stream",
     "text": [
      "There are only 10 types of people in the world: those who understand binary, and those who don't.\n"
     ]
    }
   ],
   "source": [
    "binaer =(\"01010100 01101000 01100101 01110010 01100101 00100000 01100001 01110010 01100101 00100000 \"\n",
    "         \"01101111 01101110 01101100 01111001 00100000 00110001 00110000 00100000 01110100 01111001 \"\n",
    "         \"01110000 01100101 01110011 00100000 01101111 01100110 00100000 01110000 01100101 01101111 \"\n",
    "         \"01110000 01101100 01100101 00100000 01101001 01101110 00100000 01110100 01101000 01100101 \"\n",
    "         \"00100000 01110111 01101111 01110010 01101100 01100100 00111010 00100000 01110100 01101000 \"\n",
    "         \"01101111 01110011 01100101 00100000 01110111 01101000 01101111 00100000 01110101 01101110 \"\n",
    "         \"01100100 01100101 01110010 01110011 01110100 01100001 01101110 01100100 00100000 01100010 \"\n",
    "         \"01101001 01101110 01100001 01110010 01111001 00101100 00100000 01100001 01101110 01100100 \"\n",
    "         \"00100000 01110100 01101000 01101111 01110011 01100101 00100000 01110111 01101000 01101111 \"\n",
    "         \"00100000 01100100 01101111 01101110 00100111 01110100 00101110\")\n",
    "print(*(chr(int(buchstabe, 2)) for buchstabe in binaer.split(\" \")), sep='')"
   ]
  },
  {
   "cell_type": "markdown",
   "metadata": {},
   "source": [
    "Vielleicht ist es auch der Drang des Menschen, sich weiterzuentwickeln, neue Dinge und damit neue Werkzeuge zu erschaffen.\n",
    "Wenn Sie programmieren, tun Sie auch nichts anderes als ein Tischler, ein Zimmermann, ein Schmied, ein Uhrmacher. \n",
    "Sie nutzen Ihr Können und Ihre Zeit, um sich, aber vor allem anderen, das Leben leichter zu machen.\n",
    "Und wie jeder Tischler, Zimmermann, Schmied und Uhrmacher nutzen Sie dafür Werkzeuge, die Menschen erschaffen haben, \n",
    "die dafür Werkzeuge verwendet haben, die wieder andere Menschen erschaffen haben. [Und so](https://de.wikipedia.org/wiki/Rekursion) [weiter](https://de.wikipedia.org/wiki/Rekursion#Rekursion_in_der_Programmierung). \n",
    "\n",
    "Auch wenn Sie den Python-Kurs nur online absolvieren, haben Sie in diesem Semester viel Zeit mit anderen Menschen verbracht – nur eben nicht zusammen, sondern meist zeitlich [versetzt](https://en.wikipedia.org/wiki/Sequential_logic).\n",
    "Mit anderen – wie den über 300 Leuten aus diesem Kurs – sogar [gleichzeitig, doch die meisten wissen nichts voneinander.](https://wiki.python.org/moin/ParallelProcessing)\n",
    "\n",
    "Vielleicht haben Sie aufgrund des nach wie vor verwaiten Uni-Campus nur wenig persönlich mit Menschen sprechen können. \n",
    "Vielleicht haben Sie die Unterstützung von Computern genutzt, um mit anderen so direkten Kontakt wie möglich zu halten.\n",
    "Über Zoom-Sprechstunden, Online-Videos und Forendiskussionen konnten wir dank Computertechnologie (und wenn ISIS erreichbar war) diesen Kurs stattfinden lassen und Ihnen unser Wissen vermitteln.\n",
    "Doch wir sind bei weitem nicht die einzigen, die mit Ihnen zum Thema kommuniziert haben:\n",
    "Jede Funktions-Dokumentation, die Sie lesen, ist eine Nachricht, die von anderen Menschen für Sie hinterlassen wurde.\n",
    "\n",
    "Und auch Sie können mit denen, die nach Ihnen kommen, [kommunizieren.](https://de.wikipedia.org/wiki/Asynchrone_Kommunikation)\n",
    "In Python z.B. mithilfe von \n",
    "`#`\n",
    "oder mit\n",
    "`'''  '''`,\n",
    "oder so:"
   ]
  },
  {
   "cell_type": "code",
   "execution_count": 2,
   "metadata": {},
   "outputs": [
    {
     "name": "stdout",
     "output_type": "stream",
     "text": [
      "The Zen of Python, by Tim Peters\n",
      "\n",
      "Beautiful is better than ugly.\n",
      "Explicit is better than implicit.\n",
      "Simple is better than complex.\n",
      "Complex is better than complicated.\n",
      "Flat is better than nested.\n",
      "Sparse is better than dense.\n",
      "Readability counts.\n",
      "Special cases aren't special enough to break the rules.\n",
      "Although practicality beats purity.\n",
      "Errors should never pass silently.\n",
      "Unless explicitly silenced.\n",
      "In the face of ambiguity, refuse the temptation to guess.\n",
      "There should be one-- and preferably only one --obvious way to do it.\n",
      "Although that way may not be obvious at first unless you're Dutch.\n",
      "Now is better than never.\n",
      "Although never is often better than *right* now.\n",
      "If the implementation is hard to explain, it's a bad idea.\n",
      "If the implementation is easy to explain, it may be a good idea.\n",
      "Namespaces are one honking great idea -- let's do more of those!\n"
     ]
    }
   ],
   "source": [
    "import this"
   ]
  },
  {
   "cell_type": "markdown",
   "metadata": {},
   "source": [
    "Und mehr noch: Sie können nun nicht nur Nachrichten für andere Menschen hinterlassen, sondern, da sie gelernt haben, mit ihm zu reden, auch für den Rechner.\n",
    "Sie kennen Kontrollstrukturen, Subroutinen, Module.\n",
    "Wie ein Schriftsteller die Wörter verknüpft, können Sie while-Schleifen, Funktionen, Numpy-Arrays und List Comprehensions zu einem großen Kunstwerk verbinden.\n",
    "Vieles von dem, was Sie in diesem Semester geschrieben haben, wurde vermutlich schon öfter gelesen als als jeder Bestseller.\n",
    "Nicht von Menschen, aber vom Interpreter im Computer, an dem Sie arbeiten.\n",
    "\n",
    "Wenn Sie bis hierhin gelesen haben, möchten Sie vielleicht wirklich noch mehr über ihn erfahren.\n",
    "Und: er ist bereit, Ihnen alles, was er weiß, über sich zu erzählen. Sie müssen nur wissen,[ wie die richtigen Fragen lauten.](https://en.wikipedia.org/wiki/Phrases_from_The_Hitchhiker%27s_Guide_to_the_Galaxy#Answer_to_the_Ultimate_Question_of_Life,_the_Universe,_and_Everything_(42))\n",
    "\n",
    "Fragen Sie ihn doch mal nach seinem Namen:"
   ]
  },
  {
   "cell_type": "code",
   "execution_count": 3,
   "metadata": {},
   "outputs": [
    {
     "name": "stdout",
     "output_type": "stream",
     "text": [
      "Rechnername: DESKTOP-2R6JDRB DESKTOP-2R6JDRB\n"
     ]
    }
   ],
   "source": [
    "import platform, socket, os\n",
    "print(\"Rechnername:\",socket.gethostname(), platform.node())"
   ]
  },
  {
   "cell_type": "markdown",
   "metadata": {},
   "source": [
    "oder wo sie ihn erreichen:"
   ]
  },
  {
   "cell_type": "code",
   "execution_count": 4,
   "metadata": {},
   "outputs": [
    {
     "name": "stdout",
     "output_type": "stream",
     "text": [
      "IP-Adresse: 192.168.0.151\n"
     ]
    }
   ],
   "source": [
    "print(\"IP-Adresse:\",socket.gethostbyname(socket.gethostname()))"
   ]
  },
  {
   "cell_type": "markdown",
   "metadata": {},
   "source": [
    "Er verrät ihnen gern, wonach er sein Denken und Handeln ausrichtet:"
   ]
  },
  {
   "cell_type": "code",
   "execution_count": 5,
   "metadata": {},
   "outputs": [
    {
     "name": "stdout",
     "output_type": "stream",
     "text": [
      "Betriebssystem: Windows\n",
      "Betriebssystem Version: Windows-10-10.0.19044-SP0\n"
     ]
    }
   ],
   "source": [
    "print(\"Betriebssystem:\",platform.system())\n",
    "print(\"Betriebssystem Version:\",platform.platform())"
   ]
  },
  {
   "cell_type": "markdown",
   "metadata": {},
   "source": [
    "Ob er schnell arbeiten kann und wieviel er gerade zu tun hat:"
   ]
  },
  {
   "cell_type": "code",
   "execution_count": 6,
   "metadata": {},
   "outputs": [
    {
     "name": "stdout",
     "output_type": "stream",
     "text": [
      "Prozessor: AMD64 AMD64 Family 21 Model 2 Stepping 0, AuthenticAMD ('64bit', 'WindowsPE')\n",
      "Anzahl Prozessorkerne: 8\n"
     ]
    },
    {
     "ename": "ModuleNotFoundError",
     "evalue": "No module named 'psutil'",
     "output_type": "error",
     "traceback": [
      "\u001b[1;31m---------------------------------------------------------------------------\u001b[0m",
      "\u001b[1;31mModuleNotFoundError\u001b[0m                       Traceback (most recent call last)",
      "\u001b[1;32mc:\\Users\\josch\\OneDrive\\Desktop\\Uni\\Python fuer Ings\\Uebungen\\10_Rechneraufbau_SS.ipynb Cell 12'\u001b[0m in \u001b[0;36m<cell line: 3>\u001b[1;34m()\u001b[0m\n\u001b[0;32m      <a href='vscode-notebook-cell:/c%3A/Users/josch/OneDrive/Desktop/Uni/Python%20fuer%20Ings/Uebungen/10_Rechneraufbau_SS.ipynb#ch0000011?line=0'>1</a>\u001b[0m \u001b[39mprint\u001b[39m(\u001b[39m\"\u001b[39m\u001b[39mProzessor:\u001b[39m\u001b[39m\"\u001b[39m,platform\u001b[39m.\u001b[39mmachine(), platform\u001b[39m.\u001b[39mprocessor(), platform\u001b[39m.\u001b[39marchitecture())\n\u001b[0;32m      <a href='vscode-notebook-cell:/c%3A/Users/josch/OneDrive/Desktop/Uni/Python%20fuer%20Ings/Uebungen/10_Rechneraufbau_SS.ipynb#ch0000011?line=1'>2</a>\u001b[0m \u001b[39mprint\u001b[39m(\u001b[39m\"\u001b[39m\u001b[39mAnzahl Prozessorkerne:\u001b[39m\u001b[39m\"\u001b[39m,os\u001b[39m.\u001b[39mcpu_count())\n\u001b[1;32m----> <a href='vscode-notebook-cell:/c%3A/Users/josch/OneDrive/Desktop/Uni/Python%20fuer%20Ings/Uebungen/10_Rechneraufbau_SS.ipynb#ch0000011?line=2'>3</a>\u001b[0m \u001b[39mimport\u001b[39;00m \u001b[39mpsutil\u001b[39;00m\n\u001b[0;32m      <a href='vscode-notebook-cell:/c%3A/Users/josch/OneDrive/Desktop/Uni/Python%20fuer%20Ings/Uebungen/10_Rechneraufbau_SS.ipynb#ch0000011?line=3'>4</a>\u001b[0m \u001b[39mprint\u001b[39m(\u001b[39m\"\u001b[39m\u001b[39mProzessor-Geschwindigkeit (MHz):\u001b[39m\u001b[39m\"\u001b[39m,psutil\u001b[39m.\u001b[39mcpu_freq())\n\u001b[0;32m      <a href='vscode-notebook-cell:/c%3A/Users/josch/OneDrive/Desktop/Uni/Python%20fuer%20Ings/Uebungen/10_Rechneraufbau_SS.ipynb#ch0000011?line=4'>5</a>\u001b[0m \u001b[39mprint\u001b[39m(\u001b[39mf\u001b[39m\u001b[39m\"\u001b[39m\u001b[39mAktuelle Prozessorauslastung: \u001b[39m\u001b[39m{\u001b[39;00mpsutil\u001b[39m.\u001b[39mcpu_percent()\u001b[39m}\u001b[39;00m\u001b[39m%\u001b[39m\u001b[39m\"\u001b[39m)\n",
      "\u001b[1;31mModuleNotFoundError\u001b[0m: No module named 'psutil'"
     ]
    }
   ],
   "source": [
    "print(\"Prozessor:\",platform.machine(), platform.processor(), platform.architecture())\n",
    "print(\"Anzahl Prozessorkerne:\",os.cpu_count())\n",
    "import psutil\n",
    "print(\"Prozessor-Geschwindigkeit (MHz):\",psutil.cpu_freq())\n",
    "print(f\"Aktuelle Prozessorauslastung: {psutil.cpu_percent()}%\")"
   ]
  },
  {
   "cell_type": "markdown",
   "metadata": {},
   "source": [
    "Wie gut sein Kurzzeitgedächtnis ist:"
   ]
  },
  {
   "cell_type": "code",
   "execution_count": null,
   "metadata": {},
   "outputs": [],
   "source": [
    "import psutil\n",
    "print(\"Arbeitsspeicher (GB):\",psutil.virtual_memory().total/1024**3)\n",
    "print(f\"Arbeitsspeicher Auslastung: {psutil.virtual_memory().percent}%\")"
   ]
  },
  {
   "cell_type": "markdown",
   "metadata": {},
   "source": [
    "Oder auch das Langzeitgedächtnis:"
   ]
  },
  {
   "cell_type": "code",
   "execution_count": 7,
   "metadata": {},
   "outputs": [
    {
     "name": "stdout",
     "output_type": "stream",
     "text": [
      "Festplatte: 446.46 GB Gesamtspeicher, davon 354.98 GB belegt (91.48 GB frei).\n"
     ]
    }
   ],
   "source": [
    "import shutil\n",
    "print(\"Festplatte: %.2f GB Gesamtspeicher, davon %.2f GB belegt (%.2f GB frei).\" % tuple([_/1024**3 for _ in shutil.disk_usage(\"/\")]))"
   ]
  },
  {
   "cell_type": "markdown",
   "metadata": {},
   "source": [
    "Sie können ihn auch einfach mal freundlich nach der Zeit fragen:"
   ]
  },
  {
   "cell_type": "code",
   "execution_count": 8,
   "metadata": {},
   "outputs": [
    {
     "name": "stdout",
     "output_type": "stream",
     "text": [
      "Aktuelle Systemzeit: 2022-07-03 20:04:37.896762\n"
     ]
    }
   ],
   "source": [
    "import datetime\n",
    "print(\"Aktuelle Systemzeit:\", datetime.datetime.now())"
   ]
  },
  {
   "cell_type": "markdown",
   "metadata": {},
   "source": [
    "Oder auch, wie lang er schon wach ist:"
   ]
  },
  {
   "cell_type": "code",
   "execution_count": 9,
   "metadata": {},
   "outputs": [
    {
     "ename": "ModuleNotFoundError",
     "evalue": "No module named 'psutil'",
     "output_type": "error",
     "traceback": [
      "\u001b[1;31m---------------------------------------------------------------------------\u001b[0m",
      "\u001b[1;31mModuleNotFoundError\u001b[0m                       Traceback (most recent call last)",
      "\u001b[1;32mc:\\Users\\josch\\OneDrive\\Desktop\\Uni\\Python fuer Ings\\Uebungen\\10_Rechneraufbau_SS.ipynb Cell 20'\u001b[0m in \u001b[0;36m<cell line: 1>\u001b[1;34m()\u001b[0m\n\u001b[1;32m----> <a href='vscode-notebook-cell:/c%3A/Users/josch/OneDrive/Desktop/Uni/Python%20fuer%20Ings/Uebungen/10_Rechneraufbau_SS.ipynb#ch0000019?line=0'>1</a>\u001b[0m \u001b[39mimport\u001b[39;00m \u001b[39mpsutil\u001b[39;00m\u001b[39m,\u001b[39m \u001b[39mdatetime\u001b[39;00m\n\u001b[0;32m      <a href='vscode-notebook-cell:/c%3A/Users/josch/OneDrive/Desktop/Uni/Python%20fuer%20Ings/Uebungen/10_Rechneraufbau_SS.ipynb#ch0000019?line=1'>2</a>\u001b[0m \u001b[39mprint\u001b[39m(\u001b[39m\"\u001b[39m\u001b[39mSystemstartzeit:\u001b[39m\u001b[39m\"\u001b[39m, datetime\u001b[39m.\u001b[39mdatetime\u001b[39m.\u001b[39mfromtimestamp(psutil\u001b[39m.\u001b[39mboot_time()))\n",
      "\u001b[1;31mModuleNotFoundError\u001b[0m: No module named 'psutil'"
     ]
    }
   ],
   "source": [
    "import psutil, datetime\n",
    "print(\"Systemstartzeit:\", datetime.datetime.fromtimestamp(psutil.boot_time()))"
   ]
  },
  {
   "cell_type": "markdown",
   "metadata": {},
   "source": [
    "Oder, ob er eine Pause braucht:"
   ]
  },
  {
   "cell_type": "code",
   "execution_count": null,
   "metadata": {},
   "outputs": [],
   "source": [
    "print(\"Akku:\", psutil.sensors_battery())"
   ]
  },
  {
   "cell_type": "markdown",
   "metadata": {},
   "source": [
    "Letztendlich ist es nur ein Maschine. Aber eine, an der Abertausende Menschen gearbeitet haben.\n",
    "Ein Werkzeug, das Sie nun für Aufgaben einsetzen können, die ein Mensch allein niemals wird schaffen können.\n",
    "Das immer mal wieder in Staunen versetzt. Und hin und wieder ein Lächeln aufs Gesicht zaubert[.](https://www.youtube.com/watch?v=Qji5x8gBVX4)"
   ]
  },
  {
   "cell_type": "code",
   "execution_count": 10,
   "metadata": {},
   "outputs": [],
   "source": [
    "import antigravity"
   ]
  }
 ],
 "metadata": {
  "kernelspec": {
   "display_name": "Python 3.10.4 ('DataSpell_env')",
   "language": "python",
   "name": "python3"
  },
  "language_info": {
   "codemirror_mode": {
    "name": "ipython",
    "version": 3
   },
   "file_extension": ".py",
   "mimetype": "text/x-python",
   "name": "python",
   "nbconvert_exporter": "python",
   "pygments_lexer": "ipython3",
   "version": "3.10.4"
  },
  "vscode": {
   "interpreter": {
    "hash": "feec554b88b5bfacc6e2c3545e667bca870d15aa77d8e44edccd02c2cd8d17a8"
   }
  }
 },
 "nbformat": 4,
 "nbformat_minor": 4
}
