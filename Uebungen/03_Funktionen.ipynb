{
 "cells": [
  {
   "cell_type": "markdown",
   "metadata": {},
   "source": [
    "# **Python für Ingenieure**\n",
    "<!-- Lizensiert unter (CC BY 4.0) Gert Herold, 2022 -->\n",
    "# 3. Funktionen\n",
    "\n",
    "Wenn ein Algorithmus an verschiedenen Programmstellen benötigt wird, ist es sinnvoll, diesen für den effizienten Abruf in einer Funktion zu speichern. Die Syntax einer Funktionsdefinition sieht so aus:\n",
    "\n",
    "```python\n",
    "def funktionsname(parameterliste):\n",
    "    anweisung1\n",
    "    anweisung2\n",
    "    ...\n",
    "    return ergebnis\n",
    "```\n",
    "\n",
    "Bereits kennengelernt haben wir z.B. die *print*-Funktion, die als Parameter eine Variable (etwa einen String) übergeben bekommt und diese dann ausgibt, sowie die *sum*-Funktion, die die Summe der Werte einer übergebenen Liste zurückgibt."
   ]
  },
  {
   "cell_type": "code",
   "execution_count": 3,
   "metadata": {},
   "outputs": [
    {
     "name": "stdout",
     "output_type": "stream",
     "text": [
      "(1.5, 1.4142135623730951)\n",
      "(68.0, 37.080992435478315)\n"
     ]
    }
   ],
   "source": [
    "# Beispiel: eine Funktion, die arithmetischen und geometrischen Mittelwert zweier Zahlen berechnet\n",
    "def mw(a,b):\n",
    "    am = (a+b)/2\n",
    "    gm = (a*b)**0.5\n",
    "    return am, gm\n",
    "\n",
    "print(mw(1,2))\n",
    "print(mw(11,125))"
   ]
  },
  {
   "cell_type": "markdown",
   "metadata": {},
   "source": [
    "Eine Funktion muss nicht zwingend eine Parameterliste haben oder einen Wert zurückgeben. Bei einem Aufruf müssen dennoch die (leeren) Klammern gesetzt werden."
   ]
  },
  {
   "cell_type": "code",
   "execution_count": 4,
   "metadata": {},
   "outputs": [
    {
     "name": "stdout",
     "output_type": "stream",
     "text": [
      "Was denn?\n"
     ]
    }
   ],
   "source": [
    "def schreib():\n",
    "    print('Was denn?')\n",
    "\n",
    "schreib()"
   ]
  },
  {
   "cell_type": "markdown",
   "metadata": {},
   "source": [
    "Der Standard-Rückgabewert ist dann `None`:"
   ]
  },
  {
   "cell_type": "code",
   "execution_count": 5,
   "metadata": {},
   "outputs": [
    {
     "name": "stdout",
     "output_type": "stream",
     "text": [
      "Was denn?\n",
      "None\n"
     ]
    }
   ],
   "source": [
    "print(schreib())"
   ]
  },
  {
   "cell_type": "markdown",
   "metadata": {},
   "source": [
    "## 3.1. Parameterliste\n",
    "\n",
    "Es können beliebig viele Parameter abgefragt werden. Beim Aufruf einer Funktion wird implizit erwartet, dass die Reihenfolge der übergebenen Parameter (häufig auch als \"Argumente\" bezeichnet) der Definition entspricht:"
   ]
  },
  {
   "cell_type": "code",
   "execution_count": 6,
   "metadata": {},
   "outputs": [
    {
     "data": {
      "text/plain": [
       "8"
      ]
     },
     "execution_count": 6,
     "metadata": {},
     "output_type": "execute_result"
    }
   ],
   "source": [
    "def potenziere(basis, exponent, faktor):\n",
    "    return faktor*basis**exponent\n",
    "\n",
    "potenziere(2,3,1)"
   ]
  },
  {
   "cell_type": "markdown",
   "metadata": {},
   "source": [
    "Alternativ kann beim Aufruf der Name der Parameter mit angegeben werden. Dann muss die Reihenfolge nicht eingehalten werden:"
   ]
  },
  {
   "cell_type": "code",
   "execution_count": 7,
   "metadata": {},
   "outputs": [
    {
     "data": {
      "text/plain": [
       "8"
      ]
     },
     "execution_count": 7,
     "metadata": {},
     "output_type": "execute_result"
    }
   ],
   "source": [
    "potenziere(faktor=1, basis=2, exponent=3)"
   ]
  },
  {
   "cell_type": "markdown",
   "metadata": {},
   "source": [
    "Für den Fall, dass beim Aufruf bestimmte Parameter nur *optional* gesetzt werden sollen, können Standardwerte definiert werden:"
   ]
  },
  {
   "cell_type": "code",
   "execution_count": 8,
   "metadata": {},
   "outputs": [
    {
     "name": "stdout",
     "output_type": "stream",
     "text": [
      "40\n",
      "8\n",
      "4\n"
     ]
    }
   ],
   "source": [
    "def potenziere(basis, exponent=2, faktor=1):\n",
    "    return faktor*basis**exponent\n",
    "\n",
    "print(potenziere(2,3,5))\n",
    "print(potenziere(2,3))\n",
    "print(potenziere(2))"
   ]
  },
  {
   "cell_type": "markdown",
   "metadata": {},
   "source": [
    "## 3.2. Globale und lokale Variablen\n",
    "\n",
    "Sollen an eine Funktion übergebene Variablen darin verändert werden, so muss es sich dabei um Variablen handeln, deren Inhalt ohne Neuzuweisung veränderbar ist (wie z.B. Listen)."
   ]
  },
  {
   "cell_type": "code",
   "execution_count": 9,
   "metadata": {},
   "outputs": [
    {
     "name": "stdout",
     "output_type": "stream",
     "text": [
      " Vor Funktion: 1 [2]\n",
      "  In Funktion: 11 [12]\n",
      "Nach Funktion: 1 [12]\n"
     ]
    }
   ],
   "source": [
    "def addier_was_drauf(x,y):\n",
    "    x = x+10\n",
    "    y[0] = y[0]+10\n",
    "    print('  In Funktion:',x,y)\n",
    "\n",
    "a = 1\n",
    "b = [2]\n",
    "print(' Vor Funktion:',a,b)\n",
    "addier_was_drauf(a,b)\n",
    "print('Nach Funktion:',a,b)"
   ]
  },
  {
   "cell_type": "markdown",
   "metadata": {},
   "source": [
    "Variablen in einer Funktion sind immer *lokal*, d.h. außerhalb dieser nicht bekannt. \n",
    "Man spricht auch vom *lokalen Namensraum* (engl. *local namespace*).\n",
    "Umgekehrt sind Variablen, die vor der Funktionsdeklaration schon existieren, innerhalb der Funktion abrufbar.\n",
    "Für ihre Veränderung gelten aber dieselben Regeln wie für Variablen, die über die Parameterliste übergeben werden."
   ]
  },
  {
   "cell_type": "code",
   "execution_count": 10,
   "metadata": {},
   "outputs": [
    {
     "name": "stdout",
     "output_type": "stream",
     "text": [
      "  In Funktion 1: 1 11\n",
      "Nach Funktion 1: 1 [2]\n",
      "  In Funktion 2: 1234 [12]\n",
      "Nach Funktion 2: 1 [12]\n"
     ]
    }
   ],
   "source": [
    "a = 1\n",
    "b = [2]\n",
    "\n",
    "def machwas():\n",
    "    b = a+10\n",
    "    print('  In Funktion 1:',a,b)\n",
    "\n",
    "machwas()\n",
    "print('Nach Funktion 1:',a,b)\n",
    "\n",
    "def machwasandres():\n",
    "    b[0] = b[0]+10\n",
    "    a = 1234\n",
    "    print('  In Funktion 2:',a,b)\n",
    "\n",
    "machwasandres()\n",
    "print('Nach Funktion 2:',a,b)"
   ]
  },
  {
   "cell_type": "markdown",
   "metadata": {},
   "source": [
    "Allerdings gibt es die Möglichkeit, explizit anzugeben, dass man eine Variable auch innerhalb einer Funktion als *global* behandeln möchte:"
   ]
  },
  {
   "cell_type": "code",
   "execution_count": 11,
   "metadata": {},
   "outputs": [
    {
     "name": "stdout",
     "output_type": "stream",
     "text": [
      "  In Funktion 2: 1234 [12]\n",
      "Nach Funktion 2: 1234 [12]\n"
     ]
    }
   ],
   "source": [
    "a = 1\n",
    "b = [2]\n",
    "\n",
    "def machwasandres():\n",
    "    global a\n",
    "    b[0] = b[0]+10\n",
    "    a = 1234\n",
    "    print('  In Funktion 2:',a,b)\n",
    "\n",
    "machwasandres()\n",
    "print('Nach Funktion 2:',a,b)"
   ]
  },
  {
   "cell_type": "markdown",
   "metadata": {},
   "source": [
    "## Übung\n",
    "\n",
    "**1) Schreiben Sie eine Funktion, die die Fakultät einer ihr übergebenen Zahl berechnet und zurückgibt.**"
   ]
  },
  {
   "cell_type": "code",
   "execution_count": 15,
   "metadata": {},
   "outputs": [
    {
     "name": "stdout",
     "output_type": "stream",
     "text": [
      "258623241511168180642964355153611979969197632389120000000000\n"
     ]
    }
   ],
   "source": [
    "# Hier eigenen Code schreiben ...\n",
    "def fakultaet_rekursiv(n: int) -> int:\n",
    "    if type(n) is int and n > 0:\n",
    "        if n <= 1:\n",
    "            return 1\n",
    "        else:\n",
    "            return n * fakultaet_rekursiv(n-1)\n",
    "    else:\n",
    "        return None\n",
    "\n",
    "print(fakultaet_rekursiv(47))\n",
    "      "
   ]
  },
  {
   "cell_type": "markdown",
   "metadata": {},
   "source": [
    "**2) Schreiben Sie eine Funktion, die ...**\n",
    " * ... das Produkt zweier Zahlen zurückgibt, wenn sie zwei Parameter übergeben bekommt.\n",
    " * ... das Quadrat einer Zahl zurückgibt, wenn sie nur einen Parameter übergeben bekommt."
   ]
  },
  {
   "cell_type": "code",
   "execution_count": 69,
   "metadata": {},
   "outputs": [
    {
     "name": "stdout",
     "output_type": "stream",
     "text": [
      "19.200000000000003\n",
      "10.889999999999999\n"
     ]
    }
   ],
   "source": [
    "# Hier eigenen Code schreiben ...\n",
    "def prod_or_quadrat(*args) -> int:\n",
    "    if len(args) == 0:\n",
    "        return None\n",
    "    elif len(args) == 1 and type(args[0]) is int or type(args[0]) is float:\n",
    "        return args[0] * args[0]\n",
    "    elif len(args) >= 1:\n",
    "        x = None\n",
    "        for i in range(0, len(args)):\n",
    "            if type(args[i]) is int or type(args[i]) is float:\n",
    "                x = args[i]\n",
    "                break\n",
    "        if x:\n",
    "            for i in range(i+1, len(args)):\n",
    "                #print(type(args[i]))\n",
    "                if type(args[i]) is int or type(args[i]) is float:\n",
    "                    x = x * args[i]\n",
    "            \n",
    "            return x\n",
    "        else:\n",
    "            return None\n",
    "\n",
    "print(prod_or_quadrat(\"String\", \"Nein\", 3.2, 2, 3))\n",
    "print(prod_or_quadrat(3.3))\n",
    "        "
   ]
  },
  {
   "cell_type": "markdown",
   "metadata": {},
   "source": [
    "**3) Schreiben Sie eine Funktion, die für einen ihr übergebenen Text eine Statistik ausgibt. Diese soll enthalten:**\n",
    "  * Anzahl der Zeichen\n",
    "  * Anzahl der [Wörter](https://docs.python.org/3/library/stdtypes.html#str.split)\n",
    "  * Anzahl der Vokale"
   ]
  },
  {
   "cell_type": "code",
   "execution_count": 54,
   "metadata": {},
   "outputs": [
    {
     "name": "stdout",
     "output_type": "stream",
     "text": [
      "{'number_of_chars': 52, 'number_of_words': 11, 'number_of_vocals': 12}\n"
     ]
    }
   ],
   "source": [
    "# Hier eigenen Code schreiben ...\n",
    "import string\n",
    "\n",
    "\n",
    "def count_words(text:str) -> int:\n",
    "    \"\"\"Returns number of words written in a String\"\"\"\n",
    "    # strip: puts all words in a list (\" \" gets eliminated and also functions as seperator)\n",
    "    # string.punctuation is a pre-initialized string that includes all sets of punctuation, its a constant\n",
    "    # so the word in list gets stripped by all punctuation parts\n",
    "    # .isalpha() checks if the string that has been cleaned by all punctuation, only contains letters (isalphabet)\n",
    "    # now we get list of True and False values. These will be summed and the result is an Integer Number of all words.\n",
    "    # print([i.strip(string.punctuation).isalpha() for i in text.split()])\n",
    "\n",
    "    result = sum([i.strip(string.punctuation).isalpha() for i in text.split()])\n",
    "    return result\n",
    "\n",
    "\n",
    "def count_vocals(text:str) -> int:\n",
    "    \"\"\"Returns the number ob vocals in a String\"\"\"\n",
    "    vocal_list = ['a', 'e', 'i', 'o', 'u']\n",
    "    result = len([char_ for char_ in text if char_.lower() in vocal_list])\n",
    "    return result\n",
    "\n",
    "\n",
    "def text_statistics(text:str) -> dict:\n",
    "    return dict(\n",
    "        number_of_chars = len(text),\n",
    "        number_of_words = count_words(text),\n",
    "        number_of_vocals = count_vocals(text),\n",
    "    )\n",
    "\n",
    "\n",
    "if __name__ == '__main__':\n",
    "    ###############\n",
    "    # Tests\n",
    "    # str_ = \" This is a  message! !!   \"\n",
    "    # print([i.strip(string.punctuation) for i in str_.split() ])\n",
    "    # print(\"1x\".isalpha())\n",
    "    # print(f\"There are {count_words(string_)} words in the String\\r\\n{string_}\")\n",
    "    # print(f\"There are {count_vocals(string_)} vocals in the String\")\n",
    "    ###############\n",
    "\n",
    "\n",
    "    string_ = \"Hello World I like trains!! A  CD   sd x111\"  # 11 Words, 12 vocals\n",
    "    stats = text_statistics(string_)\n",
    "    print(stats)\n",
    "\n",
    "\n"
   ]
  },
  {
   "cell_type": "markdown",
   "metadata": {},
   "source": [
    "**4) Führen Sie die folgende Zelle aus. Ersetzen Sie den Ausdruck `g = f` durch `g = f()` und führen Sie erneut aus. Interpretieren Sie die Ausgaben.**"
   ]
  },
  {
   "cell_type": "code",
   "execution_count": 57,
   "metadata": {},
   "outputs": [
    {
     "name": "stdout",
     "output_type": "stream",
     "text": [
      "<function f at 0x0000020D19A9E830> \n",
      "~~~~~~~~~~~~~~~~~~~~~~~~~~~~~~\n",
      "4\n"
     ]
    }
   ],
   "source": [
    "def f(x=13):\n",
    "    return x**2\n",
    "\n",
    "g = f\n",
    "\n",
    "print(g,'\\n'+30*'~')\n",
    "print(g(2))"
   ]
  }
 ],
 "metadata": {
  "kernelspec": {
   "display_name": "Python 3 (ipykernel)",
   "language": "python",
   "name": "python3"
  },
  "language_info": {
   "codemirror_mode": {
    "name": "ipython",
    "version": 3
   },
   "file_extension": ".py",
   "mimetype": "text/x-python",
   "name": "python",
   "nbconvert_exporter": "python",
   "pygments_lexer": "ipython3",
   "version": "3.10.4"
  }
 },
 "nbformat": 4,
 "nbformat_minor": 4
}
