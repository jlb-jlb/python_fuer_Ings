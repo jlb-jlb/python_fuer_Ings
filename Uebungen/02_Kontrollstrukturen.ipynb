{
 "cells": [
  {
   "cell_type": "markdown",
   "metadata": {},
   "source": [
    "# **Python für Ingenieure**\n",
    "<!-- Lizensiert unter (CC BY 4.0) Gert Herold, 2022 -->\n",
    "# 2. Kontrollstrukturen\n",
    "\n",
    "Für komplexere Programmieraufgaben werden Strukturen benötigt, die den Ablauf eines Programms steuern.\n",
    "Hierzu gehören *Schleifen*, die dann Anwendung finden, wenn gleichartige Anweisungen wiederholt werden sollen, sowie *Verzweigungen*, die die Ausführung von Anweisungen an Bedingungen knüpfen."
   ]
  },
  {
   "cell_type": "markdown",
   "metadata": {},
   "source": [
    "## 2.1. *if/elif/else* &ndash; Bedingte Anweisungen"
   ]
  },
  {
   "cell_type": "markdown",
   "metadata": {},
   "source": [
    "Um Programmcode nur unter Bedingungen auszuführen, wird folgende Syntax verwendet:"
   ]
  },
  {
   "cell_type": "code",
   "execution_count": 1,
   "metadata": {},
   "outputs": [],
   "source": [
    "i=10\n",
    "if i<10:\n",
    "    print('kleiner als zehn!')"
   ]
  },
  {
   "cell_type": "markdown",
   "metadata": {},
   "source": [
    "Falls mehrere Bedingungen geprüft werden sollen bzw. es einen \"Sonst\"-Fall geben soll:"
   ]
  },
  {
   "cell_type": "code",
   "execution_count": 2,
   "metadata": {},
   "outputs": [
    {
     "name": "stdout",
     "output_type": "stream",
     "text": [
      "zwischen 1 und 10\n"
     ]
    }
   ],
   "source": [
    "i = 9\n",
    "if (i<=10 and i>=1):\n",
    "    print('zwischen 1 und 10')\n",
    "elif (i < 0):\n",
    "    print('negativ')\n",
    "else:\n",
    "    print('0 oder größer 10')"
   ]
  },
  {
   "cell_type": "markdown",
   "metadata": {},
   "source": [
    "**Achtung:** Im Gegensatz zu vielen anderen Programmiersprachen hat unter Python die Einrückung (engl: *indentation*) des Quellcodes eine elementare Bedeutung für den Programmablauf. Zeilen \n",
    "gleicher Einrückung markieren jeweils einen zusammenhängenden Block."
   ]
  },
  {
   "cell_type": "markdown",
   "metadata": {},
   "source": [
    "## 2.2. *for*-Schleife\n",
    "\n",
    "Eine Anweisung eine bestimmte Anzahl von Wiederholungen (Iterationen) zu durchlaufen, ist mit folgender Struktur möglich:"
   ]
  },
  {
   "cell_type": "code",
   "execution_count": 3,
   "metadata": {},
   "outputs": [
    {
     "name": "stdout",
     "output_type": "stream",
     "text": [
      "Wiederholung: 0\n",
      "Wiederholung: 1\n",
      "Wiederholung: 2\n",
      "Wiederholung: 3\n",
      "Wiederholung: 4\n"
     ]
    }
   ],
   "source": [
    "for i in range(5):\n",
    "    print('Wiederholung:',i)"
   ]
  },
  {
   "cell_type": "markdown",
   "metadata": {},
   "source": [
    "Iteriert werden kann mit einer for-Schleife nicht nur über einen Zahlenbereich, sondern über jedes iterierbare Objekt, z.B. auch über Listen:"
   ]
  },
  {
   "cell_type": "code",
   "execution_count": 4,
   "metadata": {},
   "outputs": [
    {
     "name": "stdout",
     "output_type": "stream",
     "text": [
      "1\n",
      "2\n",
      "lalala\n",
      "14\n",
      "-2.3\n"
     ]
    }
   ],
   "source": [
    "a = [1, 2, 'lalala', 14, -2.3]\n",
    "for i in a:\n",
    "    print(i)"
   ]
  },
  {
   "cell_type": "markdown",
   "metadata": {},
   "source": [
    "Das Ergebnis der oben verwendeten Funktion *range* kann auch in eine Liste umgewandelt werden. Außerdem muss eine *range* nicht bei 0 starten:"
   ]
  },
  {
   "cell_type": "code",
   "execution_count": 5,
   "metadata": {},
   "outputs": [
    {
     "name": "stdout",
     "output_type": "stream",
     "text": [
      "\u001b[1;31mInit signature:\u001b[0m \u001b[0mrange\u001b[0m\u001b[1;33m(\u001b[0m\u001b[0mself\u001b[0m\u001b[1;33m,\u001b[0m \u001b[1;33m/\u001b[0m\u001b[1;33m,\u001b[0m \u001b[1;33m*\u001b[0m\u001b[0margs\u001b[0m\u001b[1;33m,\u001b[0m \u001b[1;33m**\u001b[0m\u001b[0mkwargs\u001b[0m\u001b[1;33m)\u001b[0m\u001b[1;33m\u001b[0m\u001b[1;33m\u001b[0m\u001b[0m\n",
      "\u001b[1;31mDocstring:\u001b[0m     \n",
      "range(stop) -> range object\n",
      "range(start, stop[, step]) -> range object\n",
      "\n",
      "Return an object that produces a sequence of integers from start (inclusive)\n",
      "to stop (exclusive) by step.  range(i, j) produces i, i+1, i+2, ..., j-1.\n",
      "start defaults to 0, and stop is omitted!  range(4) produces 0, 1, 2, 3.\n",
      "These are exactly the valid indices for a list of 4 elements.\n",
      "When step is given, it specifies the increment (or decrement).\n",
      "\u001b[1;31mType:\u001b[0m           type\n",
      "\u001b[1;31mSubclasses:\u001b[0m     \n"
     ]
    }
   ],
   "source": [
    "range?"
   ]
  },
  {
   "cell_type": "code",
   "execution_count": 6,
   "metadata": {},
   "outputs": [
    {
     "name": "stdout",
     "output_type": "stream",
     "text": [
      "range(3, 7)\n",
      "[3, 4, 5, 6]\n"
     ]
    }
   ],
   "source": [
    "r = range(3,7)\n",
    "print(r)\n",
    "print(list(r))"
   ]
  },
  {
   "cell_type": "markdown",
   "metadata": {},
   "source": [
    "Durch zwei Sequenzen gleichzeitig iterieren:"
   ]
  },
  {
   "cell_type": "code",
   "execution_count": 7,
   "metadata": {},
   "outputs": [
    {
     "name": "stdout",
     "output_type": "stream",
     "text": [
      "H 12\n",
      "a -7.3\n",
      "l 1\n",
      "l 0\n",
      "o False\n"
     ]
    }
   ],
   "source": [
    "for x,y in zip('Hallo',[12, -7.3, 1, 0, False]):\n",
    "    print(x,y)"
   ]
  },
  {
   "cell_type": "markdown",
   "metadata": {},
   "source": [
    "Einen Zähler mitlaufen lassen:"
   ]
  },
  {
   "cell_type": "code",
   "execution_count": 8,
   "metadata": {},
   "outputs": [
    {
     "name": "stdout",
     "output_type": "stream",
     "text": [
      "0 12\n",
      "1 -7.3\n",
      "2 1\n",
      "3 0\n",
      "4 False\n"
     ]
    }
   ],
   "source": [
    "for x,y, in enumerate([12, -7.3, 1, 0, False]):\n",
    "    print(x,y)"
   ]
  },
  {
   "cell_type": "markdown",
   "metadata": {},
   "source": [
    "## 2.3. *while*-Schleife"
   ]
  },
  {
   "cell_type": "markdown",
   "metadata": {},
   "source": [
    "Um eine Anweisung so lang wiederholen zu lassen, wie eine Bedingung erfüllt ist:"
   ]
  },
  {
   "cell_type": "code",
   "execution_count": 9,
   "metadata": {},
   "outputs": [
    {
     "name": "stdout",
     "output_type": "stream",
     "text": [
      "HalloHallo\n",
      "HalloHalloHalloHallo\n",
      "HalloHalloHalloHalloHalloHalloHalloHallo\n"
     ]
    }
   ],
   "source": [
    "a = 'Hallo'\n",
    "while len(a)<40:\n",
    "    a = a+a\n",
    "    print(a)"
   ]
  },
  {
   "cell_type": "markdown",
   "metadata": {},
   "source": [
    "Soll eine Bedingung nicht am Anfang der Schleife, sondern an anderer Stelle geprüft werden:"
   ]
  },
  {
   "cell_type": "code",
   "execution_count": 10,
   "metadata": {},
   "outputs": [
    {
     "name": "stdout",
     "output_type": "stream",
     "text": [
      "HalloHallo\n",
      "HalloHalloHalloHallo\n",
      "HalloHalloHalloHalloHalloHalloHalloHallo\n",
      "HalloHalloHalloHalloHalloHalloHalloHalloHalloHalloHalloHalloHalloHalloHalloHallo\n"
     ]
    }
   ],
   "source": [
    "a = 'Hallo'\n",
    "while True:\n",
    "    a = a+a\n",
    "    print(a)\n",
    "    if len(a)>40:\n",
    "        break"
   ]
  },
  {
   "cell_type": "markdown",
   "metadata": {},
   "source": [
    "Übrigens: `else` kann auch nach einer Schleife verwendet werden.\n",
    "Der Block darin wird dann ausgeführt, wenn der Ausdruck nach dem `while`-Befehl nicht (mehr) `True` ist oder die `for`-Schleife komplett durchlaufen wurde – also nicht im Falle von `if: ... break`.\n",
    "\n",
    "Darüber hinaus gibt es für Schleifen als Gegenstück zu `break` noch den Befehl `continue`, der die Schleife sofort \"weiter-iteriert\", also direkt zum nächsten Schritt wieder an den Anfang der Schleife springt, ohne weitere Befehle auszuführen."
   ]
  },
  {
   "cell_type": "code",
   "execution_count": 11,
   "metadata": {},
   "outputs": [
    {
     "name": "stdout",
     "output_type": "stream",
     "text": [
      "a: 1\n",
      "....................................................................................................?\n",
      "a: 2\n",
      "..................................................?\n",
      "a: 3\n",
      "..................................!\n",
      "a: 5\n",
      "....................?\n",
      "a: 6\n",
      ".................!\n",
      "a: 7\n",
      "...............!\n",
      "a: 9\n",
      "............!\n",
      "endgültig zu Ende\n"
     ]
    }
   ],
   "source": [
    "n = 10 # Wert ändern und schauen, was passiert\n",
    "\n",
    "for a in range(1,n):\n",
    "    b = 0\n",
    "    if a%4 == 0:\n",
    "        continue\n",
    "    print('a:',a)\n",
    "    while b < n**2:\n",
    "        b += a\n",
    "        print('.', end='')\n",
    "        if b>100: \n",
    "            print('!')\n",
    "            break\n",
    "    else:\n",
    "        print('?')\n",
    "    if a>12:\n",
    "        break\n",
    "else:\n",
    "    print('endgültig', end=' ')\n",
    "print('zu Ende')"
   ]
  },
  {
   "cell_type": "markdown",
   "metadata": {},
   "source": [
    "Wenn gewünscht ist, dass in einer Kontrollstruktur einfach gar nichts passiert (z.B. zu Testzwecken), kann hierfür der Befehl `pass` verwendet werden (z.B. als Platzhalter in der obigen Zelle anstelle `break` oder `continue`)."
   ]
  },
  {
   "cell_type": "markdown",
   "metadata": {},
   "source": [
    "## 2.4. Logische Ausdrücke\n",
    "\n",
    "Bedingungen, wie sie mit `if` und `while` ausgewertet werden, können über logische Ausdrücke formuliert werden.\n",
    "Ein logischer Ausdruck verknüpft Werte, sodass eine Aussage gebildet wird, die entweder wahr (`True`) oder falsch (`False`) ist.\n",
    "Diese Verknüpfung geschieht mit Vergleichsoperatoren oder logischen Operatoren.\n",
    "\n",
    "### Vergleichsoperatoren\n",
    "\n",
    "| Operator | Vergleichsoperation          |\n",
    "|----------|------------------------------|\n",
    "| `==`     | gleicher Wert                |\n",
    "| `!=`     | ungleich                     |\n",
    "| `<`      | kleiner als                  |\n",
    "| `<=`     | kleiner oder gleich          |\n",
    "| `>`      | größer als                   |\n",
    "| `>=`     | größer oder gleich           |\n",
    "| `is`     | gleiches Objekt              |\n",
    "| `in`     | Element in Sequenz enthalten |"
   ]
  },
  {
   "cell_type": "code",
   "execution_count": 12,
   "metadata": {},
   "outputs": [
    {
     "data": {
      "text/plain": [
       "(True, True, True, False)"
      ]
     },
     "execution_count": 12,
     "metadata": {},
     "output_type": "execute_result"
    }
   ],
   "source": [
    "b=1.5\n",
    "a=b\n",
    "c=3/2\n",
    "a==b, a==c, a is b, a is c "
   ]
  },
  {
   "cell_type": "markdown",
   "metadata": {},
   "source": [
    "Es können auch mehrere Vergleiche gleichzeitig durchgeführt werden:"
   ]
  },
  {
   "cell_type": "code",
   "execution_count": 13,
   "metadata": {},
   "outputs": [
    {
     "name": "stdout",
     "output_type": "stream",
     "text": [
      "Ja\n"
     ]
    }
   ],
   "source": [
    "d = 3\n",
    "e = 6\n",
    "if 1<=d<=5<e:\n",
    "    print('Ja')\n",
    "else:\n",
    "    print('Nein')"
   ]
  },
  {
   "cell_type": "markdown",
   "metadata": {},
   "source": [
    "### Logische Operatoren\n",
    "\n",
    "Zur Verknüpfung von logischen Ausdrücken:\n",
    "\n",
    "| Operator | Ergebnis                                                  |\n",
    "|----------|-----------------------------------------------------------|\n",
    "| `and`    | `True` wenn beide Operanden `True` sind, sonst `False`    |\n",
    "| `or`     | `True` wenn einer der Operanden `True` ist, sonst `False` |\n",
    "| `not`    | `True` wenn Operand `False` und umgekehrt                 |"
   ]
  },
  {
   "cell_type": "code",
   "execution_count": 14,
   "metadata": {},
   "outputs": [
    {
     "name": "stdout",
     "output_type": "stream",
     "text": [
      "Ja\n"
     ]
    }
   ],
   "source": [
    "d = 3\n",
    "e = 6\n",
    "if d>=1 and not e>10:\n",
    "    print('Ja')\n",
    "else:\n",
    "    print('Nein')"
   ]
  },
  {
   "cell_type": "markdown",
   "metadata": {},
   "source": [
    "Wie für mathematische Operatoren gibt es auch für logische Operatoren [Rechenregeln](https://de.wikipedia.org/wiki/Boolesche_Algebra). \n",
    "Sich mit diesen auseinanderzusetzen ist z.B. dann sinnvoll, wenn viele unterschiedliche Zustände auftreten können, die betrachtet werden müssen."
   ]
  },
  {
   "cell_type": "markdown",
   "metadata": {},
   "source": [
    "### Was ist Falsch?\n",
    "\n",
    "Die Strukturen `while` und `if` akzeptieren als Bedingung nicht nur logischen Ausdrücke, sondern beliebige Variablen. \n",
    "Diese werden dann als logischer Ausdruck uminterpretiert:"
   ]
  },
  {
   "cell_type": "code",
   "execution_count": 15,
   "metadata": {},
   "outputs": [
    {
     "name": "stdout",
     "output_type": "stream",
     "text": [
      "Der Wert 0 wird als FALSCH (False) gewertet.\n"
     ]
    },
    {
     "data": {
      "text/plain": [
       "False"
      ]
     },
     "execution_count": 15,
     "metadata": {},
     "output_type": "execute_result"
    }
   ],
   "source": [
    "wert = 0\n",
    "if wert:\n",
    "    print('Der Wert',wert,'wird als WAHR (True) gewertet.')\n",
    "else:\n",
    "    print('Der Wert',wert,'wird als FALSCH (False) gewertet.')\n",
    "bool(wert)"
   ]
  },
  {
   "cell_type": "markdown",
   "metadata": {},
   "source": [
    "Als `False` werden auch interpretiert: \n",
    "  * der Boolean-Wert `False`\n",
    "  * der \"Nicht\"-Wert `Ǹone`\n",
    "  * die Zahl `0` (egal ob `integer`, `float` oder `complex`)\n",
    "  * leere Sequenzen: `''`, `()`, `[]`, `{}`\n",
    "  \n",
    "Entsprechend werden Zahlen ungleich 0 sowie Sequenzen mit Inhalt als `True` interpretiert."
   ]
  },
  {
   "cell_type": "markdown",
   "metadata": {},
   "source": [
    "## Übung\n",
    "\n",
    "**1) Berechnen Sie die Summe aller ungeraden ganzen Zahlen zwischen 75 und 1001 ...**\n",
    "  * ... mithilfe einer for-Schleife.\n",
    "  * ... mithilfe einer while-Schleife.\n",
    "  * ... ohne Schleife."
   ]
  },
  {
   "cell_type": "code",
   "execution_count": 16,
   "metadata": {},
   "outputs": [
    {
     "name": "stdout",
     "output_type": "stream",
     "text": [
      "248631\n",
      "248631\n",
      "248631\n"
     ]
    }
   ],
   "source": [
    "# Hier eigenen Code schreiben ...\n",
    "start = 75\n",
    "end = 1001\n",
    "sum_ = 0\n",
    "for i in range (start, end):\n",
    "    if i % 2 != 0:\n",
    "        sum_ += i\n",
    "print(sum_)\n",
    "i = 75\n",
    "sum_ = 0\n",
    "while i < 1001:\n",
    "    if i % 2 != 0: sum_ += i\n",
    "    i += 1\n",
    "print(sum_)\n",
    "\n",
    "sum_ = 0\n",
    "sum_ = list(range(75, 1001, 2))\n",
    "print(sum(sum_))"
   ]
  },
  {
   "cell_type": "markdown",
   "metadata": {},
   "source": [
    "**2) Nähern Sie die Kreiszahl $\\pi$ iterativ an. Hierfür können Sie z.B. das [Wallissche Produkt](https://de.wikipedia.org/wiki/Wallissches_Produkt) verwenden.**\n",
    "\n",
    "$$\n",
    "\\pi= 2\\,\\prod_{i=1}^\\infty\\left(1+\\frac{1}{4i^2-1}\\right)\n",
    "$$"
   ]
  },
  {
   "cell_type": "code",
   "execution_count": 26,
   "metadata": {},
   "outputs": [
    {
     "name": "stdout",
     "output_type": "stream",
     "text": [
      "1.3333333333333333\n",
      "3.141592643066262\n"
     ]
    }
   ],
   "source": [
    "# Hier eigenen Code schreiben ...\n",
    "pi_ = ( 1+ (1/(4*1**2 -1)))\n",
    "\n",
    "print(pi_)\n",
    "i = 2\n",
    "while i < 100000000:\n",
    "    pi_ *= 1 + (1/(4*i**2 -1))\n",
    "    i += 1\n",
    "pi_ = 2 * pi_\n",
    "\n",
    "print(pi_)"
   ]
  },
  {
   "cell_type": "markdown",
   "metadata": {},
   "source": [
    "**3) Schreiben Sie einen kurzen Programmabschnitt, der vom Nutzer eingegebene Zahlwörter in Integer-Zahlen von 1 bis 4 umwandelt. Verwenden Sie hierfür ...**\n",
    "  * ...eine *if/elif/else*-Struktur\n",
    "  * ...nur ein *Dictionary*"
   ]
  },
  {
   "cell_type": "code",
   "execution_count": 28,
   "metadata": {},
   "outputs": [
    {
     "name": "stdout",
     "output_type": "stream",
     "text": [
      "2\n",
      "2\n"
     ]
    }
   ],
   "source": [
    "# Die input-Funktion fragt Nutzereingaben ab:\n",
    "\n",
    "\n",
    "# Hier eigenen Code schreiben ...\n",
    "def if_else_int(zahlwort: str) -> int:\n",
    "    if zahlwort:\n",
    "        if zahlwort == \"eins\":\n",
    "            return 1\n",
    "        elif zahlwort == \"zwei\":\n",
    "            return 2\n",
    "        elif zahlwort == \"drei\":\n",
    "            return 3\n",
    "        elif zahlwort == \"vier\":\n",
    "            return 4\n",
    "        else:\n",
    "            return None\n",
    "    else: return None\n",
    "\n",
    "def dict_int(zahlwort: str) -> int:\n",
    "    dict_ = {\"eins\": 1, \"zwei\": 2, \"drei\": 3, \"vier\": 4}\n",
    "    if zahlwort in dict_:\n",
    "        return dict_[zahlwort]\n",
    "\n",
    "\n",
    "zahlwort = input('Geben Sie ein Zahlwort zwischen \"eins\" und \"vier\" ein:')\n",
    "print(if_else_int(zahlwort=zahlwort))\n",
    "print(dict_int(zahlwort))\n"
   ]
  }
 ],
 "metadata": {
  "kernelspec": {
   "display_name": "Python 3 (ipykernel)",
   "language": "python",
   "name": "python3"
  },
  "language_info": {
   "codemirror_mode": {
    "name": "ipython",
    "version": 3
   },
   "file_extension": ".py",
   "mimetype": "text/x-python",
   "name": "python",
   "nbconvert_exporter": "python",
   "pygments_lexer": "ipython3",
   "version": "3.10.4"
  }
 },
 "nbformat": 4,
 "nbformat_minor": 4
}
