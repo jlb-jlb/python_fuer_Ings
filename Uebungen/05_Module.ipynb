{
 "cells": [
  {
   "cell_type": "markdown",
   "metadata": {},
   "source": [
    "# **Python für Ingenieure**\n",
    "<!-- Lizensiert unter (CC BY 4.0) Gert Herold, 2022 -->\n",
    "# 5. Module\n",
    "\n",
    "Module sind Dateien, in denen unter anderem Funktionen und Variablen definiert werden, um sie später zur einfachen Verwendung zur Verfügung zu stellen.\n",
    "Eine Liste der in der aktuellen Python-Umgebung installierten Module lässt sich abbrufen:"
   ]
  },
  {
   "cell_type": "code",
   "execution_count": 1,
   "metadata": {},
   "outputs": [
    {
     "name": "stdout",
     "output_type": "stream",
     "text": [
      "\n",
      "Please wait a moment while I gather a list of all available modules...\n",
      "\n"
     ]
    },
    {
     "name": "stderr",
     "output_type": "stream",
     "text": [
      "C:\\Users\\josch\\AppData\\Local\\Programs\\Python\\Python310\\lib\\pkgutil.py:92: UserWarning: The numpy.array_api submodule is still experimental. See NEP 47.\n",
      "  __import__(info.name)\n",
      "C:\\Users\\josch\\AppData\\Local\\Programs\\Python\\Python310\\lib\\pkgutil.py:107: VisibleDeprecationWarning: zmq.eventloop.minitornado is deprecated in pyzmq 14.0 and will be removed.\n",
      "    Install tornado itself to use zmq with the tornado IOLoop.\n",
      "    \n",
      "  yield from walk_packages(path, info.name+'.', onerror)\n"
     ]
    },
    {
     "name": "stdout",
     "output_type": "stream",
     "text": [
      "IPython             binascii            math                statistics\n",
      "PIL                 binhex              matplotlib          string\n",
      "__future__          bisect              matplotlib_inline   stringprep\n",
      "_abc                bleach              mimetypes           struct\n",
      "_aix_support        bs4                 mistune             subprocess\n",
      "_argon2_cffi_bindings builtins            mmap                sunau\n",
      "_ast                bz2                 mmapfile            symtable\n",
      "_asyncio            cProfile            mmsystem            sys\n",
      "_bisect             calendar            modulefinder        sysconfig\n",
      "_blake2             cffi                msilib              tabnanny\n",
      "_bootsubprocess     cgi                 msvcrt              tarfile\n",
      "_bz2                cgitb               multiprocessing     telnetlib\n",
      "_cffi_backend       chunk               nbclient            tempfile\n",
      "_codecs             cmath               nbconvert           terminado\n",
      "_codecs_cn          cmd                 nbformat            test\n",
      "_codecs_hk          code                nest_asyncio        textwrap\n",
      "_codecs_iso2022     codecs              netbios             this\n",
      "_codecs_jp          codeop              netrc               threading\n",
      "_codecs_kr          collections         nntplib             time\n",
      "_codecs_tw          colorama            notebook            timeit\n",
      "_collections        colorsys            nt                  timer\n",
      "_collections_abc    commctrl            ntpath              tinycss2\n",
      "_compat_pickle      compileall          ntsecuritycon       tkinter\n",
      "_compression        concurrent          nturl2path          token\n",
      "_contextvars        configparser        numbers             tokenize\n",
      "_csv                contextlib          numpy               tornado\n",
      "_ctypes             contextvars         odbc                trace\n",
      "_ctypes_test        copy                opcode              traceback\n",
      "_datetime           copyreg             operator            tracemalloc\n",
      "_decimal            crypt               optparse            traitlets\n",
      "_distutils_hack     csv                 os                  tty\n",
      "_elementtree        ctypes              packaging           turtle\n",
      "_functools          curses              pandocfilters       turtledemo\n",
      "_hashlib            cycler              parso               types\n",
      "_heapq              dataclasses         pathlib             typing\n",
      "_imp                datetime            pdb                 unicodedata\n",
      "_io                 dateutil            perfmon             unittest\n",
      "_json               dbi                 pickle              urllib\n",
      "_locale             dbm                 pickleshare         uu\n",
      "_lsprof             dde                 pickletools         uuid\n",
      "_lzma               debugpy             pip                 venv\n",
      "_markupbase         decimal             pipes               warnings\n",
      "_md5                decorator           pkg_resources       wave\n",
      "_msi                defusedxml          pkgutil             wcwidth\n",
      "_multibytecodec     difflib             platform            weakref\n",
      "_multiprocessing    dis                 plistlib            webbrowser\n",
      "_opcode             distutils           poplib              webencodings\n",
      "_operator           doctest             posixpath           wheel\n",
      "_osx_support        email               pprint              widgetsnbextension\n",
      "_overlapped         encodings           profile             win2kras\n",
      "_pickle             ensurepip           prometheus_client   win32api\n",
      "_py_abc             entrypoints         prompt_toolkit      win32clipboard\n",
      "_pydecimal          enum                pstats              win32com\n",
      "_pyio               errno               psutil              win32con\n",
      "_pyrsistent_version executing           pty                 win32console\n",
      "_queue              fastjsonschema      pure_eval           win32cred\n",
      "_random             faulthandler        pvectorc            win32crypt\n",
      "_sha1               filecmp             py_compile          win32cryptcon\n",
      "_sha256             fileinput           pyclbr              win32event\n",
      "_sha3               fnmatch             pycparser           win32evtlog\n",
      "_sha512             fontTools           pydoc               win32evtlogutil\n",
      "_signal             fractions           pydoc_data          win32file\n",
      "_sitebuiltins       ftplib              pyexpat             win32gui\n",
      "_socket             functools           pygments            win32gui_struct\n",
      "_sqlite3            gc                  pylab               win32help\n",
      "_sre                genericpath         pyparsing           win32inet\n",
      "_ssl                getopt              pyrsistent          win32inetcon\n",
      "_stat               getpass             pythoncom           win32job\n",
      "_statistics         gettext             pywin               win32lz\n",
      "_string             glob                pywin32_bootstrap   win32net\n",
      "_strptime           graphlib            pywin32_testutil    win32netcon\n",
      "_struct             gzip                pywintypes          win32pdh\n",
      "_symtable           hashlib             qtconsole           win32pdhquery\n",
      "_testbuffer         heapq               qtpy                win32pdhutil\n",
      "_testcapi           hmac                queue               win32pipe\n",
      "_testconsole        html                quopri              win32print\n",
      "_testimportmultiple http                random              win32process\n",
      "_testinternalcapi   idlelib             rasutil             win32profile\n",
      "_testmultiphase     imaplib             re                  win32ras\n",
      "_thread             imghdr              regcheck            win32rcparser\n",
      "_threading_local    imp                 regutil             win32security\n",
      "_tkinter            importlib           reprlib             win32service\n",
      "_tracemalloc        inspect             rlcompleter         win32serviceutil\n",
      "_uuid               io                  runpy               win32timezone\n",
      "_warnings           ipaddress           sched               win32trace\n",
      "_weakref            ipykernel           secrets             win32traceutil\n",
      "_weakrefset         ipykernel_launcher  select              win32transaction\n",
      "_win32sysloader     ipython_genutils    selectors           win32ts\n",
      "_winapi             ipywidgets          send2trash          win32ui\n",
      "_winxptheme         isapi               servicemanager      win32uiole\n",
      "_xxsubinterpreters  itertools           setuptools          win32verstamp\n",
      "_zoneinfo           jedi                shelve              win32wnet\n",
      "abc                 jinja2              shlex               winerror\n",
      "adodbapi            json                shutil              winioctlcon\n",
      "afxres              jsonschema          signal              winnt\n",
      "aifc                jupyter             site                winperf\n",
      "antigravity         jupyter_client      six                 winpty\n",
      "argon2              jupyter_console     smtpd               winreg\n",
      "argparse            jupyter_core        smtplib             winsound\n",
      "array               jupyterlab_pygments sndhdr              winxpgui\n",
      "ast                 jupyterlab_widgets  socket              winxptheme\n",
      "asttokens           keyword             socketserver        wsgiref\n",
      "asynchat            kiwisolver          soupsieve           xdrlib\n",
      "asyncio             lib2to3             sqlite3             xml\n",
      "asyncore            linecache           sre_compile         xmlrpc\n",
      "atexit              locale              sre_constants       xxsubtype\n",
      "attr                logging             sre_parse           zipapp\n",
      "attrs               lzma                ssl                 zipfile\n",
      "audioop             mailbox             sspi                zipimport\n",
      "backcall            mailcap             sspicon             zlib\n",
      "base64              markupsafe          stack_data          zmq\n",
      "bdb                 marshal             stat                zoneinfo\n",
      "\n",
      "Enter any module name to get more help.  Or, type \"modules spam\" to search\n",
      "for modules whose name or summary contain the string \"spam\".\n",
      "\n"
     ]
    }
   ],
   "source": [
    "help(\"modules\")"
   ]
  },
  {
   "cell_type": "markdown",
   "metadata": {},
   "source": [
    "## 5.1. Import von Modulen\n",
    "\n",
    "Um die Funktionalitäten eines Moduls zu verwenden, muss dieses importiert werden:"
   ]
  },
  {
   "cell_type": "code",
   "execution_count": 1,
   "metadata": {},
   "outputs": [
    {
     "data": {
      "text/plain": [
       "'Guten Tag.'"
      ]
     },
     "execution_count": 1,
     "metadata": {},
     "output_type": "execute_result"
    }
   ],
   "source": [
    "import wort\n",
    "wort.hallo"
   ]
  },
  {
   "cell_type": "code",
   "execution_count": 2,
   "metadata": {},
   "outputs": [
    {
     "data": {
      "text/plain": [
       "'Guten Tag.'"
      ]
     },
     "execution_count": 2,
     "metadata": {},
     "output_type": "execute_result"
    }
   ],
   "source": [
    "import wort as wt\n",
    "wt.hallo"
   ]
  },
  {
   "cell_type": "code",
   "execution_count": 3,
   "metadata": {},
   "outputs": [
    {
     "data": {
      "text/plain": [
       "'Guten Tag.'"
      ]
     },
     "execution_count": 3,
     "metadata": {},
     "output_type": "execute_result"
    }
   ],
   "source": [
    "from wort import hallo\n",
    "hallo"
   ]
  },
  {
   "cell_type": "code",
   "execution_count": 4,
   "metadata": {},
   "outputs": [
    {
     "data": {
      "text/plain": [
       "'Guten Tag.'"
      ]
     },
     "execution_count": 4,
     "metadata": {},
     "output_type": "execute_result"
    }
   ],
   "source": [
    "from wort import hallo as moin\n",
    "moin"
   ]
  },
  {
   "cell_type": "code",
   "execution_count": 5,
   "metadata": {},
   "outputs": [
    {
     "data": {
      "text/plain": [
       "'Lorem ipsum dolor sit amet, consectetur adipiscing elit, sed do eiusmod tempor incididunt ut labore et dolore magna aliqua. Ut enim ad minim veniam, quis nostrud exercitation ullamco laboris nisi ut aliquip ex ea commodo consequat. Duis aute irure dolor in reprehenderit in voluptate velit esse cillum dolore eu fugiat nulla pariatur. Excepteur sint occaecat cupidatat non proident, sunt in culpa qui officia deserunt mollit anim id est laborum. Curabitur pretium tincidunt lacus. Nulla gravida orci a odio. Nullam varius, turpis et commodo pharetra, est eros bibendum elit, nec luctus magna felis sollicitudin mauris. Integer in mauris eu nibh euismod gravida. Duis ac tellus et risus vulputate vehicula. Donec lobortis risus a elit. Etiam tempor. Ut ullamcorper, ligula eu tempor congue, eros est euismod turpis, id tincidunt sapien risus a quam. Maecenas fermentum consequat mi. Donec fermentum. Pellentesque malesuada nulla a mi. Duis sapien sem, aliquet nec, commodo eget, consequat quis, neque. Aliquam aucibus, elit ut dictum aliquet, felis nisl adipiscing sapien, sed malesuada diam lacus eget erat. Cras mollis scelerisque nunc. Nullam arcu. Aliquam consequat. Curabitur augue lorem, dapibus quis, laoreet et, pretium ac, nisi. Aenean magna nisl, mollis quis, molestie eu, feugiat in, orci. In hac habitasse platea dictumst.'"
      ]
     },
     "execution_count": 5,
     "metadata": {},
     "output_type": "execute_result"
    }
   ],
   "source": [
    "from wort import *\n",
    "lorem"
   ]
  },
  {
   "cell_type": "code",
   "execution_count": 6,
   "metadata": {},
   "outputs": [
    {
     "data": {
      "text/plain": [
       "490"
      ]
     },
     "execution_count": 6,
     "metadata": {},
     "output_type": "execute_result"
    }
   ],
   "source": [
    "anzahl_vokale(lorem)"
   ]
  },
  {
   "cell_type": "markdown",
   "metadata": {},
   "source": [
    "## 5.2. Standardmodule\n",
    "\n",
    "Bei jeder Python-Installation werden einige Module standardmäßig mitgeliefert. \n",
    "Eine ausführliche Beschreibung der Module und ihrer Funktionalitäten findet sich unter https://docs.python.org/3/library/.\n",
    "Einige Beispiele im Folgenden:"
   ]
  },
  {
   "cell_type": "markdown",
   "metadata": {},
   "source": [
    "### 5.2.1 [`os`](https://docs.python.org/3/library/os.html)\n",
    "Arbeiten im Dateisystem"
   ]
  },
  {
   "cell_type": "code",
   "execution_count": 7,
   "metadata": {},
   "outputs": [],
   "source": [
    "import os"
   ]
  },
  {
   "cell_type": "code",
   "execution_count": 8,
   "metadata": {},
   "outputs": [
    {
     "data": {
      "text/plain": [
       "'c:\\\\Users\\\\josch\\\\OneDrive\\\\Desktop\\\\Uni\\\\Python fuer Ings'"
      ]
     },
     "execution_count": 8,
     "metadata": {},
     "output_type": "execute_result"
    }
   ],
   "source": [
    "os.getcwd()"
   ]
  },
  {
   "cell_type": "code",
   "execution_count": 9,
   "metadata": {},
   "outputs": [
    {
     "data": {
      "text/plain": [
       "['.git',\n",
       " '.gitignore',\n",
       " '00_Jupyter.ipynb',\n",
       " '01_1_Variablen.ipynb',\n",
       " '01_2_Sequentielle_Datentypen.ipynb',\n",
       " '02_Kontrollstrukturen.ipynb',\n",
       " '02_Zusatzaufgabe.ipynb',\n",
       " '03_Funktionen.ipynb',\n",
       " '04_1_Noch_mehr_Funktionen.ipynb',\n",
       " '04_3_Übungsaufgaben.ipynb',\n",
       " '04_3_Übungsaufgaben_Lösungen2022-05-18.ipynb',\n",
       " '05_Module.ipynb',\n",
       " 'HA0_Gruppe186.ipynb',\n",
       " 'HA0_Gruppe186_Joscha.ipynb',\n",
       " 'HA1_Gruppe186.ipynb',\n",
       " 'HA1_Gruppe186_Aya.ipynb',\n",
       " 'HA1_Gruppe186_joscha.ipynb',\n",
       " 'HA2_Gruppe186.ipynb',\n",
       " 'HA2_Gruppe186_Aya.ipynb',\n",
       " 'HA2_Gruppe186_Joscha.ipynb',\n",
       " 'README.md',\n",
       " 'requirements.txt',\n",
       " 'venv',\n",
       " 'wort.py',\n",
       " '__pycache__']"
      ]
     },
     "execution_count": 9,
     "metadata": {},
     "output_type": "execute_result"
    }
   ],
   "source": [
    "os.listdir()"
   ]
  },
  {
   "cell_type": "markdown",
   "metadata": {},
   "source": [
    "Verzeichnisse erstellen, umbennen und entfernen:"
   ]
  },
  {
   "cell_type": "code",
   "execution_count": 10,
   "metadata": {},
   "outputs": [],
   "source": [
    "os.mkdir('Ein_neuer_Ordner')"
   ]
  },
  {
   "cell_type": "code",
   "execution_count": 11,
   "metadata": {},
   "outputs": [],
   "source": [
    "os.rename('Ein_neuer_Ordner', 'ABCDEFG')"
   ]
  },
  {
   "cell_type": "code",
   "execution_count": 12,
   "metadata": {},
   "outputs": [],
   "source": [
    "os.rmdir('ABCDEFG')"
   ]
  },
  {
   "cell_type": "markdown",
   "metadata": {},
   "source": [
    "Datei erstellen und entfernen (für das Erstellen/Überschreiben von Dateien ist kein Modulimport notwendig);"
   ]
  },
  {
   "cell_type": "code",
   "execution_count": 13,
   "metadata": {},
   "outputs": [],
   "source": [
    "datei = open('12345.abc', 'w')\n",
    "datei.write('Ein bisschen Text.\\n')\n",
    "datei.write(os.listdir()[0])\n",
    "datei.close()"
   ]
  },
  {
   "cell_type": "code",
   "execution_count": 14,
   "metadata": {},
   "outputs": [],
   "source": [
    "os.remove('12345.abc')"
   ]
  },
  {
   "cell_type": "markdown",
   "metadata": {},
   "source": [
    "### 5.2.2 [`glob`](https://docs.python.org/3/library/glob.html)\n",
    "\n",
    "Dateilisten filtern."
   ]
  },
  {
   "cell_type": "code",
   "execution_count": 15,
   "metadata": {},
   "outputs": [
    {
     "data": {
      "text/plain": [
       "['wort.py']"
      ]
     },
     "execution_count": 15,
     "metadata": {},
     "output_type": "execute_result"
    }
   ],
   "source": [
    "import glob\n",
    "glob.glob(\"*.py\")"
   ]
  },
  {
   "cell_type": "markdown",
   "metadata": {},
   "source": [
    "### 5.2.3 [`math`](https://docs.python.org/3/library/math.html)\n",
    "\n",
    "Mathematische Funktionen und Konstanten"
   ]
  },
  {
   "cell_type": "code",
   "execution_count": 16,
   "metadata": {},
   "outputs": [
    {
     "data": {
      "text/plain": [
       "(0.7071067811865476, 3.0)"
      ]
     },
     "execution_count": 16,
     "metadata": {},
     "output_type": "execute_result"
    }
   ],
   "source": [
    "from math import pi,sin,sqrt\n",
    "\n",
    "sin(pi/4), sqrt(9)"
   ]
  },
  {
   "cell_type": "markdown",
   "metadata": {},
   "source": [
    "### 5.2.4 [`random`](https://docs.python.org/3/library/random.html)\n",
    "\n",
    "Zufallszahlen und mehr."
   ]
  },
  {
   "cell_type": "code",
   "execution_count": 17,
   "metadata": {},
   "outputs": [],
   "source": [
    "import random"
   ]
  },
  {
   "cell_type": "markdown",
   "metadata": {},
   "source": [
    "Gleichverteilte Zufallszahl zwischen 0 und 1:"
   ]
  },
  {
   "cell_type": "code",
   "execution_count": 33,
   "metadata": {},
   "outputs": [
    {
     "data": {
      "text/plain": [
       "0.13436424411240122"
      ]
     },
     "execution_count": 33,
     "metadata": {},
     "output_type": "execute_result"
    }
   ],
   "source": [
    "random.seed(1)\n",
    "random.random()"
   ]
  },
  {
   "cell_type": "markdown",
   "metadata": {},
   "source": [
    "Liste zufällig umsortieren:"
   ]
  },
  {
   "cell_type": "code",
   "execution_count": 19,
   "metadata": {},
   "outputs": [
    {
     "data": {
      "text/plain": [
       "[5, 3, 4, 7, 1, 2, 6, 8]"
      ]
     },
     "execution_count": 19,
     "metadata": {},
     "output_type": "execute_result"
    }
   ],
   "source": [
    "a = [1,2,3,4,5,6,7,8]\n",
    "random.shuffle(a)\n",
    "a"
   ]
  },
  {
   "cell_type": "markdown",
   "metadata": {},
   "source": [
    "Zufällige Ganzzahl zwischen 5 und (inkl.) 20:"
   ]
  },
  {
   "cell_type": "code",
   "execution_count": 20,
   "metadata": {},
   "outputs": [
    {
     "data": {
      "text/plain": [
       "9"
      ]
     },
     "execution_count": 20,
     "metadata": {},
     "output_type": "execute_result"
    }
   ],
   "source": [
    "random.randint(5,20)"
   ]
  },
  {
   "cell_type": "markdown",
   "metadata": {},
   "source": [
    "## Übung\n",
    "\n",
    "**1) In beiden Modulen (wort, math) wird eine Variable `pi` definiert. Beide sollen im Programm verwendet werden. Testen Sie, welche Auswirkungen ein Austausch der ersten beiden Zeilen für die Ausgabe hat. Wie kann das Programm für eine sinnvolle Ausgabe abgeändert werden?**"
   ]
  },
  {
   "cell_type": "code",
   "execution_count": 21,
   "metadata": {},
   "outputs": [
    {
     "name": "stdout",
     "output_type": "stream",
     "text": [
      "Der 16. Buchstabe des griechischen Alphabets: Pi.\n",
      "Der Umfang eines Kreises mit einem Durchmesser von 3: Pi.Pi.Pi.\n"
     ]
    }
   ],
   "source": [
    "from math import *\n",
    "from wort import *\n",
    "\n",
    "print(\"Der 16. Buchstabe des griechischen Alphabets:\", pi)\n",
    "\n",
    "durchmesser = 3\n",
    "umfang = pi*durchmesser\n",
    "print(\"Der Umfang eines Kreises mit einem Durchmesser von %d:\" % durchmesser, umfang)"
   ]
  },
  {
   "cell_type": "markdown",
   "metadata": {},
   "source": [
    "**2) Schreiben Sie eine Funktion, die eine Liste mit *n* gleichverteilten Zufallszahlen zurückgibt. Der Parameter *n* soll der Funktion übergeben werden.**"
   ]
  },
  {
   "cell_type": "code",
   "execution_count": 65,
   "metadata": {},
   "outputs": [
    {
     "name": "stdout",
     "output_type": "stream",
     "text": [
      "292\n"
     ]
    },
    {
     "data": {
      "image/png": "[encoded data removed]",
      "text/plain": [
       "<Figure size 432x288 with 1 Axes>"
      ]
     },
     "metadata": {
      "needs_background": "light"
     },
     "output_type": "display_data"
    }
   ],
   "source": [
    "def function(n:int) -> list:\n",
    "    list_ = list()\n",
    "    random.seed(133)\n",
    "    for i in range(n):\n",
    "        list_.append(random.random())\n",
    "    \n",
    "    list_.sort()\n",
    "    return list_\n",
    "\n",
    "if __name__ == '__main__':\n",
    "    # print(function(random.randint(100,1000)))\n",
    "    values = function(random.randint(100, 1000))\n",
    "\n",
    "    import matplotlib.pyplot as plt\n",
    "\n",
    "    axis_ = [x for x in range(len(values))]\n",
    "\n",
    "    plt.plot(values, axis_)\n",
    "    print(len(values))\n",
    "    plt.show()\n",
    "\n",
    "    \n",
    "\n",
    "\n"
   ]
  },
  {
   "cell_type": "markdown",
   "metadata": {},
   "source": [
    "**3) Schreiben Sie einen Programmabschnitt, der ...**\n",
    "  * ... die Datei oder das Verzeichnis mit dem längsten Namen im aktuellen Verzeichnis findet und diesen ausgibt. \n",
    "  * ... den Namen mit der höchsten Anzahl an Konsonanten ausgibt."
   ]
  },
  {
   "cell_type": "code",
   "execution_count": 80,
   "metadata": {},
   "outputs": [
    {
     "name": "stdout",
     "output_type": "stream",
     "text": [
      "10 04_3_Übungsaufgaben_Lösungen2022-05-18.ipynb\n",
      "4          01_2_Sequentielle_Datentypen.ipynb                 Number of vowels: 9         \n"
     ]
    }
   ],
   "source": [
    "def longest_in_dir():\n",
    "    directory = os.listdir()\n",
    "    longest, name_longest = 0, \"\"\n",
    "    for i, name in enumerate(directory):\n",
    "        # print(i, name)\n",
    "        if len(name) > len(name_longest):\n",
    "            longest = i\n",
    "            name_longest = name\n",
    "\n",
    "    print(longest, name_longest)\n",
    "\n",
    "def most_vowels():\n",
    "    directory = os.listdir()\n",
    "    vowels = ['a', 'b', 'c', 'd', 'e']\n",
    "    longest, name_longest, vowels_longest = 0, \"\", 0\n",
    "    for i, name in enumerate(directory):\n",
    "        count_vowels = 0\n",
    "        for vowel in vowels:\n",
    "            count_vowels += name.lower().count(vowel)\n",
    "        if count_vowels > vowels_longest:\n",
    "            name_longest = name\n",
    "            longest = i\n",
    "            vowels_longest = count_vowels\n",
    "    \n",
    "    print(f\"{longest: <10}\", f\"{name_longest: <50}\", f\"Number of vowels: {vowels_longest: <10}\")\n",
    "\n",
    "if __name__ == '__main__':\n",
    "    longest_in_dir()\n",
    "    most_vowels()\n",
    "\n"
   ]
  },
  {
   "cell_type": "code",
   "execution_count": null,
   "metadata": {},
   "outputs": [],
   "source": []
  }
 ],
 "metadata": {
  "interpreter": {
   "hash": "05c41107b0fab1ebc25dac63fe2cf121cec9e3bed0c404a43af7500cb00b791b"
  },
  "kernelspec": {
   "display_name": "Python 3.10.4 ('venv': venv)",
   "language": "python",
   "name": "python3"
  },
  "language_info": {
   "codemirror_mode": {
    "name": "ipython",
    "version": 3
   },
   "file_extension": ".py",
   "mimetype": "text/x-python",
   "name": "python",
   "nbconvert_exporter": "python",
   "pygments_lexer": "ipython3",
   "version": "3.10.4"
  }
 },
 "nbformat": 4,
 "nbformat_minor": 4
}
