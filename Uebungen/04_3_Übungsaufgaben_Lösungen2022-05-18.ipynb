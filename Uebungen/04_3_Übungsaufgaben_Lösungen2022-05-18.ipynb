{
 "cells": [
  {
   "cell_type": "markdown",
   "metadata": {},
   "source": [
    "# **Python für Ingenieure**\n",
    "<!-- Lizensiert unter (CC BY 4.0) Gert Herold, 2022 -->\n",
    "## 4.3. Übungsaufgaben\n",
    "\n",
    "Im Folgenden finden Sie einige Übungsaufgaben, die Sie mit Ihrem nun erlernten Wissen gut lösen können. "
   ]
  },
  {
   "cell_type": "markdown",
   "metadata": {},
   "source": [
    "**1) Berechnen Sie einen gewichteten Mittelwert der Zahlen im folgenden Dictionary. Werte, bei denen der Schlüssel mit einem \"!\" endet, sollen doppelt gewichtet werden. Vergleichen Sie mit dem ungewichteten Mittelwert.**"
   ]
  },
  {
   "cell_type": "code",
   "execution_count": 9,
   "metadata": {},
   "outputs": [
    {
     "data": {
      "text/plain": [
       "(27, 19)"
      ]
     },
     "execution_count": 9,
     "metadata": {},
     "output_type": "execute_result"
    }
   ],
   "source": [
    "messwerte = {\n",
    "             '2018-10-19 23:31:09' : 41.72,\n",
    "             '2018-10-19 18:27:14' : 13.68,\n",
    "             '2018-10-20 00:23:12' : 27.39,\n",
    "             '2018-10-19 21:24:47!': 21.92,\n",
    "             '2018-10-20 01:37:01' : 34.70,\n",
    "             '2018-10-19 19:43:20!': 20.85,\n",
    "             '2018-10-19 20:31:55!': 29.27,\n",
    "             '2018-10-19 23:57:24' : 27.28,\n",
    "             '2018-10-19 19:17:05!': 47.96,\n",
    "             '2018-10-19 23:06:13' : 18.15,\n",
    "             '2018-10-19 18:01:29' : 30.15,\n",
    "             '2018-10-20 00:48:26!': 20.16,\n",
    "             '2018-10-19 22:39:59!': 25.25,\n",
    "             '2018-10-19 21:49:38' : 27.05,\n",
    "             '2018-10-19 20:07:21' : 39.39,\n",
    "             '2018-10-19 18:52:01' : 32.54,\n",
    "             '2018-10-19 17:37:20' : 20.06,\n",
    "             '2018-10-19 22:14:07!': 33.50,\n",
    "             '2018-10-20 01:13:07!': 41.34}\n",
    "\n",
    "\n",
    "# Hier eigenen Code schreiben ...\n",
    "mittel = 0\n",
    "divi = len(messwerte)\n",
    "for zeit in messwerte:\n",
    "    mittel += messwerte[zeit]\n",
    "    if zeit[-1] == '!':\n",
    "        mittel += messwerte[zeit]\n",
    "        divi += 1\n",
    "\n",
    "#mittel/divi,sum(messwerte.values())/len(messwerte)\n",
    "divi, len(messwerte)"
   ]
  },
  {
   "cell_type": "markdown",
   "metadata": {},
   "source": [
    "**2) Geben Sie das obige Dictionary als zeitlich sortierte Tabelle *ohne* \"!\" aus.**\n",
    "\n",
    "```\n",
    " |  2018-10-19 17:37:20  |  20.06  |\n",
    " |  2018-10-19 18:01:29  |  30.15  |\n",
    " ...\n",
    "```"
   ]
  },
  {
   "cell_type": "code",
   "execution_count": 23,
   "metadata": {},
   "outputs": [
    {
     "name": "stdout",
     "output_type": "stream",
     "text": [
      "| 2018-10-19 17:37:20 | 20.06 |\n",
      "| 2018-10-19 18:01:29 | 30.15 |\n",
      "| 2018-10-19 18:27:14 | 13.68 |\n",
      "| 2018-10-19 18:52:01 | 32.54 |\n",
      "| 2018-10-19 19:17:05 | 47.96 |\n",
      "| 2018-10-19 19:43:20 | 20.85 |\n",
      "| 2018-10-19 20:07:21 | 39.39 |\n",
      "| 2018-10-19 20:31:55 | 29.27 |\n",
      "| 2018-10-19 21:24:47 | 21.92 |\n",
      "| 2018-10-19 21:49:38 | 27.05 |\n",
      "| 2018-10-19 22:14:07 | 33.50 |\n",
      "| 2018-10-19 22:39:59 | 25.25 |\n",
      "| 2018-10-19 23:06:13 | 18.15 |\n",
      "| 2018-10-19 23:31:09 | 41.72 |\n",
      "| 2018-10-19 23:57:24 | 27.28 |\n",
      "| 2018-10-20 00:23:12 | 27.39 |\n",
      "| 2018-10-20 00:48:26 | 20.16 |\n",
      "| 2018-10-20 01:13:07 | 41.34 |\n",
      "| 2018-10-20 01:37:01 | 34.70 |\n"
     ]
    }
   ],
   "source": [
    "#sorted?\n",
    "# Hier eigenen Code schreiben ...\n",
    "for zeit in sorted(messwerte):\n",
    "    ausgabe = zeit[:len('2018-10-19 17:37:20')]\n",
    "    print(f'| {ausgabe} | {messwerte[zeit]:5.2f} |')"
   ]
  },
  {
   "cell_type": "markdown",
   "metadata": {},
   "source": [
    "**3) Geben Sie die Messzeiten aus, zu denen die `n` geringsten Werte gemessen wurden.** \n",
    "\n",
    "Hinweis: Variablen lassen sich mit \n",
    "```python\n",
    "del mein_variablenname\n",
    "``` \n",
    "löschen."
   ]
  },
  {
   "cell_type": "code",
   "execution_count": 36,
   "metadata": {},
   "outputs": [
    {
     "name": "stdout",
     "output_type": "stream",
     "text": [
      "2018-10-19 18:27:14 13.68\n",
      "2018-10-19 23:06:13 18.15\n",
      "2018-10-19 17:37:20 20.06\n"
     ]
    }
   ],
   "source": [
    "n = 3\n",
    "messkopie = messwerte.copy()\n",
    "\n",
    "\n",
    "for _ in range(n):\n",
    "    minkey = [m for m in messkopie.keys() if messkopie[m]==min(messkopie.values())][0]\n",
    "    print(minkey, messkopie[minkey] )\n",
    "    del messkopie[minkey]\n",
    "\n"
   ]
  },
  {
   "cell_type": "markdown",
   "metadata": {},
   "source": [
    "**4) Wieviel [Zeit](https://docs.python.org/3/library/time.html) (in Minuten) vergeht jeweils zwischen zwei aufeinanderfolgenden Messungen?**"
   ]
  },
  {
   "cell_type": "code",
   "execution_count": 52,
   "metadata": {},
   "outputs": [
    {
     "name": "stdout",
     "output_type": "stream",
     "text": [
      "time.struct_time(tm_year=2019, tm_mon=12, tm_mday=31, tm_hour=23, tm_min=59, tm_sec=0, tm_wday=1, tm_yday=365, tm_isdst=-1)\n",
      "24.15\n",
      "25.75\n",
      "24.783333333333335\n",
      "25.066666666666666\n",
      "26.25\n",
      "24.016666666666666\n",
      "24.566666666666666\n",
      "52.86666666666667\n",
      "24.85\n",
      "24.483333333333334\n",
      "25.866666666666667\n",
      "26.233333333333334\n",
      "24.933333333333334\n",
      "26.25\n",
      "25.8\n",
      "25.233333333333334\n",
      "24.683333333333334\n",
      "23.9\n"
     ]
    }
   ],
   "source": [
    "import time\n",
    "#time.strptime?\n",
    "silvester = time.strptime('31.12.2019, 23:59 Uhr','%d.%m.%Y, %H:%M Uhr')\n",
    "print(silvester)\n",
    "#print('\\nZu Silvester vergangene Sekunden seit 1.1.1970:',time.mktime(silvester))\n",
    "# Hier eigenen Code schreiben ...\n",
    "\n",
    "alte_sekunden = 0\n",
    "for zeit in sorted(messwerte):\n",
    "    zeitstempel = zeit[:len('2018-10-19 17:37:20')]\n",
    "    neue_sekunden = time.mktime(time.strptime(zeitstempel,'%Y-%m-%d %H:%M:%S'))\n",
    "    if alte_sekunden>0: print((neue_sekunden - alte_sekunden)/60)\n",
    "    alte_sekunden = neue_sekunden\n",
    "    "
   ]
  },
  {
   "cell_type": "markdown",
   "metadata": {},
   "source": [
    "**5) Schreiben Sie ein kurzes Programm, das den Nutzer nach einem Datum fragt und daraufhin eine Aussage über den Wochentag zurückgibt. Unterscheiden Sie, ob das Datum in der Zukunft oder Vergangenheit liegt.**\n",
    "\n",
    "Beispiele:\n",
    "```\n",
    " Der 03.10.1990 war ein Mittwoch.\n",
    " Der 01.05.2048 ist ein Freitag.\n",
    "```"
   ]
  },
  {
   "cell_type": "code",
   "execution_count": 63,
   "metadata": {},
   "outputs": [
    {
     "name": "stdout",
     "output_type": "stream",
     "text": [
      "Heute: time.struct_time(tm_year=2022, tm_mon=5, tm_mday=18, tm_hour=13, tm_min=43, tm_sec=29, tm_wday=2, tm_yday=138, tm_isdst=0)\n"
     ]
    },
    {
     "name": "stdin",
     "output_type": "stream",
     "text": [
      "Geben Sie ein Datum im Format TT.MM.JJJJ ein: 21.01.1980\n"
     ]
    },
    {
     "name": "stdout",
     "output_type": "stream",
     "text": [
      "Der 21.01.1980 war ein Montag.\n"
     ]
    },
    {
     "data": {
      "text/plain": [
       "time.struct_time(tm_year=2022, tm_mon=5, tm_mday=18, tm_hour=13, tm_min=43, tm_sec=37, tm_wday=2, tm_yday=138, tm_isdst=0)"
      ]
     },
     "execution_count": 63,
     "metadata": {},
     "output_type": "execute_result"
    }
   ],
   "source": [
    "import time\n",
    "print('Heute:',time.gmtime())\n",
    "wochentage = ['Montag', 'Dienstag', 'Mittwoch', 'Donnerstag', 'Freitag', 'Samstag', 'Sonntag']\n",
    "\n",
    "# Hier eigenen Code schreiben ...\n",
    "datum = input('Geben Sie ein Datum im Format TT.MM.JJJJ ein:')\n",
    "date = time.strptime(datum,'%d.%m.%Y')\n",
    "\n",
    "if date[:3]<time.gmtime()[:3]:\n",
    "    ist = 'war'\n",
    "else:\n",
    "    ist = 'ist'\n",
    "\n",
    "\n",
    "print(f'Der {datum} {ist} ein {wochentage[date.tm_wday]}.')\n",
    "time.gmtime()"
   ]
  }
 ],
 "metadata": {
  "kernelspec": {
   "display_name": "Python 3 (ipykernel)",
   "language": "python",
   "name": "python3"
  },
  "language_info": {
   "codemirror_mode": {
    "name": "ipython",
    "version": 3
   },
   "file_extension": ".py",
   "mimetype": "text/x-python",
   "name": "python",
   "nbconvert_exporter": "python",
   "pygments_lexer": "ipython3",
   "version": "3.9.5"
  }
 },
 "nbformat": 4,
 "nbformat_minor": 4
}
