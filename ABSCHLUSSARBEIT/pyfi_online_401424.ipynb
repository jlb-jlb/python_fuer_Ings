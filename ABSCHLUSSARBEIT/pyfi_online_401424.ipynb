{
 "cells": [
  {
   "cell_type": "markdown",
   "id": "ef4478e9",
   "metadata": {
    "deletable": false,
    "editable": false,
    "nbgrader": {
     "cell_type": "markdown",
     "checksum": "db898fde375e225795425f3e1655f272",
     "grade": false,
     "grade_id": "cell-00header",
     "locked": true,
     "schema_version": 3,
     "solution": false,
     "task": false
    },
    "signature": "62010"
   },
   "source": [
    "# Python für Ingenieure\n",
    "## Notebook zur Programmier-Abschlussarbeit\n",
    "<!-- 401424, Prüfungszeitraum 2022: 3 -->\n",
    "\n",
    "---\n",
    "\n",
    "**Bitte den folgenden Abschnitt genau durchlesen:**\n",
    "\n",
    "Dieses Jupyter-Notebook-Dokument ist als Teilleistung für die Portfolio-Prüfung zum \n",
    "Kurs \"Python für Ingenieure\" zu bearbeiten.\n",
    "\n",
    "  * Lösen Sie die Aufgaben, indem Sie Zellen mit dem Hinweis \"`# Hier eigenen Code schreiben ...`\" direkt im Dokument ergänzen.\n",
    "  * Nutzen Sie **Jupyter Notebook oder JupyterLab** zur Bearbeitung, um sicherzustellen, dass alle Inhalte korrekt angezeigt werden.\n",
    "  * Beachten Sie, dass Sie nicht alle Zellen editieren können (einige enthalten z.B. Plausibilitätstests).\n",
    "  * Fügen Sie keine weiteren Zellen hinzu. Arbeiten Sie ausschließlich in den dafür vorgesehenen Zellen.\n",
    "  * Importieren Sie keine Module abseits von Standard-Modulen, wenn Sie nicht dazu aufgefordert werden.\n",
    "  * Kommentare mit Erläuterungen oder auskommentierter Programmcode werden nicht bewertet.\n",
    "  * Schließen Sie die Arbeiten rechtzeitig vor der Abgabefrist ab und laden Sie **nur** das bearbeitete und **nicht umbenannte** Notebook (`pyfi_online_401424.ipynb`) in der entsprechenden Abgabe im ISIS-Kurs hoch.\n",
    "  * Sollten Sie Probleme beim Upload auf die Kursseite haben, senden Sie Ihr Notebook per E-Mail an [py@akustik.tu-berlin.de](mailto:py@akustik.tu-berlin.de) mit dem Betreff \"Python-Prüfung 401424 [Ihr Name]\"\n",
    "\n",
    "Während der Programmierung in diesem Dokument ist es erlaubt, sämtliche Aufzeichnungen, \n",
    "Skripte sowie das Internet zur Recherche zu verwenden.\n",
    "Ein Austausch über die Prüfungsinhalte mit anderen Personen ist jedoch **nicht** erlaubt.\n",
    "Insbesondere das Teilen dieses Dokuments – auch auszugsweise – mit Dritten ist nicht gestattet und kann als Betrugsversuch gewertet werden.\n",
    "\n",
    "**Mit dem Upload des bearbeiteten Dokumentes unter Ihrer Matrikelnummer (über Ihren ISIS-Account oder per E-Mail) erklären Sie, dass Sie alle Aufgaben selbstständig bearbeitet haben sowie die Inhalte nicht anderweitig geteilt haben.**\n",
    "\n",
    "---"
   ]
  },
  {
   "cell_type": "markdown",
   "id": "ef4478ea",
   "metadata": {
    "deletable": false,
    "editable": false,
    "nbgrader": {
     "cell_type": "markdown",
     "checksum": "fef1ae74dfcbfbd539705eeae7512331",
     "grade": false,
     "grade_id": "cell-a01v01c01",
     "locked": true,
     "schema_version": 3,
     "solution": false,
     "task": false
    },
    "signature": "62010"
   },
   "source": [
    "### 1. Wer bin ich und wenn ja, was mache ich hier?\n",
    "\n",
    "#### 1.1. Deklaration von Variablen (2 Punkte)\n",
    "\n",
    "Erstellen Sie folgende drei Variablen:\n",
    "\n",
    "```python\n",
    "matrikelnummer\n",
    "name\n",
    "studiengang\n",
    "``` \n",
    "\n",
    "Den Variablen sollen entsprechend der Bezeichnung folgende Werte zugewiesen werden:\n",
    "\n",
    "   * Ihre Matrikelnummer als Integerwert\n",
    "   * Ihre Vor- und Nachnamen als Zeichenkette\n",
    "   * Ihren Studiengang als Zeichenkette\n",
    "\n",
    "Die Zeichenketten dürfen Leerzeichen enthalten. \n",
    "Es kommt bei den Zeichenketten nicht auf exakte Wiedergabe an, jedoch sollten Sie und Ihr Studiengang identifizierbar sein."
   ]
  },
  {
   "cell_type": "code",
   "execution_count": 57,
   "id": "ef4478eb",
   "metadata": {
    "deletable": false,
    "nbgrader": {
     "cell_type": "code",
     "checksum": "aada870a441c02b0dc3c9f16eed9cad2",
     "grade": false,
     "grade_id": "cell-a01v01c02",
     "locked": false,
     "schema_version": 3,
     "solution": true,
     "task": false
    },
    "signature": "62010"
   },
   "outputs": [],
   "source": [
    "# Hier eigenen Code schreiben ...\n",
    "matrikelnummer = 401424\n",
    "name = \"Joscha Lasse Bisping\"\n",
    "studiengang = \"Wirtschaftsingenieurwesen\"\n"
   ]
  },
  {
   "cell_type": "code",
   "execution_count": 58,
   "id": "ef4478ec",
   "metadata": {
    "deletable": false,
    "editable": false,
    "nbgrader": {
     "cell_type": "code",
     "checksum": "e92445163df5381fa953dd3f473823a5",
     "grade": true,
     "grade_id": "cell-a01v01c03",
     "locked": true,
     "points": 1,
     "schema_version": 3,
     "solution": false,
     "task": false
    },
    "signature": "62010"
   },
   "outputs": [],
   "source": [
    "# Hier ist ein Plausibilitäts-Test:\n",
    "assert (matrikelnummer*3)//10000 == 120"
   ]
  },
  {
   "cell_type": "code",
   "execution_count": 59,
   "id": "ef4478ed",
   "metadata": {
    "deletable": false,
    "editable": false,
    "nbgrader": {
     "cell_type": "code",
     "checksum": "13bec05b95d641cca339a3bb46609aa1",
     "grade": true,
     "grade_id": "cell-a01v01c04",
     "locked": true,
     "points": 1,
     "schema_version": 3,
     "solution": false,
     "task": false
    },
    "signature": "62010"
   },
   "outputs": [],
   "source": [
    "# Hier ist ein Plausibilitäts-Test:\n",
    "assert type(name) == type(studiengang)"
   ]
  },
  {
   "cell_type": "markdown",
   "id": "ef4478ee",
   "metadata": {
    "deletable": false,
    "editable": false,
    "nbgrader": {
     "cell_type": "markdown",
     "checksum": "3962c4ff74a05671b740afdb4e895b93",
     "grade": false,
     "grade_id": "cell-a01v01c05",
     "locked": true,
     "schema_version": 3,
     "solution": false,
     "task": false
    },
    "signature": "62010"
   },
   "source": [
    "#### 1.2. Sequenzen verarbeiten (3 Punkte)\n",
    "\n",
    "  * Bestimmen Sie die Anzahl der Zeichen in `studiengang` (inkl. Leerzeichen, falls vorhanden) und weisen Sie den Wert der Variable `laenge_studium` zu.\n",
    "  * Erstellen Sie eine neue Zeichenkette `viele_namen`, die die Zeichenkette `name` 64 Mal hintereinander enthält. \n",
    "  * Berechnen Sie den Quotienten zwischen  `matrikelnummer` und `laenge_studium` und vermerken Sie das Ergebnis als Fließkommazahl unter `quotient`.\n",
    "  "
   ]
  },
  {
   "cell_type": "code",
   "execution_count": 60,
   "id": "ef4478ef",
   "metadata": {
    "deletable": false,
    "nbgrader": {
     "cell_type": "code",
     "checksum": "4ea6d17e7d57fb17c7b8220772792110",
     "grade": false,
     "grade_id": "cell-a01v01c06",
     "locked": false,
     "schema_version": 3,
     "solution": true,
     "task": false
    },
    "signature": "62010"
   },
   "outputs": [],
   "source": [
    "# Hier eigenen Code schreiben ...\n",
    "laenge_studium = len(studiengang)\n",
    "# viele_namen = f\"{name}, \"*64\n",
    "viele_namen = name*64\n",
    "\n",
    "# Quotient berechnen:\n",
    "quotient = matrikelnummer / laenge_studium\n",
    "\n",
    "\n",
    "# print(laenge_studium)\n",
    "# print(viele_namen)\n",
    "# print(quotient)"
   ]
  },
  {
   "cell_type": "code",
   "execution_count": 61,
   "id": "ef4478f0",
   "metadata": {
    "deletable": false,
    "editable": false,
    "nbgrader": {
     "cell_type": "code",
     "checksum": "4facf78ddb126d268417b5ad5ee19b60",
     "grade": true,
     "grade_id": "cell-a01v01c07",
     "locked": true,
     "points": 1,
     "schema_version": 3,
     "solution": false,
     "task": false
    },
    "signature": "62010"
   },
   "outputs": [],
   "source": [
    "# Hier ist ein Plausibilitäts-Test:\n",
    "assert laenge_studium"
   ]
  },
  {
   "cell_type": "code",
   "execution_count": 62,
   "id": "ef4478f1",
   "metadata": {
    "deletable": false,
    "editable": false,
    "nbgrader": {
     "cell_type": "code",
     "checksum": "11e0cb00e652b94e08ecd09045a3a4e6",
     "grade": true,
     "grade_id": "cell-a01v01c08",
     "locked": true,
     "points": 1,
     "schema_version": 3,
     "solution": false,
     "task": false
    },
    "signature": "62010"
   },
   "outputs": [],
   "source": [
    "# Hier sind einige Plausibilitäts-Tests:\n",
    "assert name in viele_namen\n",
    "assert viele_namen[0]==name[0]"
   ]
  },
  {
   "cell_type": "code",
   "execution_count": 63,
   "id": "ef4478f2",
   "metadata": {
    "deletable": false,
    "editable": false,
    "nbgrader": {
     "cell_type": "code",
     "checksum": "a2028d40eb323e391b8d4608ad8f1ab8",
     "grade": true,
     "grade_id": "cell-a01v01c09",
     "locked": true,
     "points": 1,
     "schema_version": 3,
     "solution": false,
     "task": false
    },
    "signature": "62010"
   },
   "outputs": [],
   "source": [
    "# Hier ist ein Plausibilitäts-Test:\n",
    "assert quotient<matrikelnummer"
   ]
  },
  {
   "cell_type": "markdown",
   "id": "ef4478f3",
   "metadata": {
    "deletable": false,
    "editable": false,
    "nbgrader": {
     "cell_type": "markdown",
     "checksum": "daa4378946297bdbb8fb929e62e5d2af",
     "grade": false,
     "grade_id": "cell-a02v01c01",
     "locked": true,
     "schema_version": 3,
     "solution": false,
     "task": false
    },
    "signature": "62010"
   },
   "source": [
    "### 2. Array mit Zufallszahlen"
   ]
  },
  {
   "cell_type": "code",
   "execution_count": 64,
   "id": "ef4478f4",
   "metadata": {
    "deletable": false,
    "editable": false,
    "nbgrader": {
     "cell_type": "code",
     "checksum": "f060548f961363726c1ffb437da12193",
     "grade": false,
     "grade_id": "cell-a02v01c02",
     "locked": true,
     "schema_version": 3,
     "solution": false,
     "task": false
    },
    "signature": "62010"
   },
   "outputs": [],
   "source": [
    "import numpy as np\n",
    "np.random.seed(55)"
   ]
  },
  {
   "cell_type": "markdown",
   "id": "ef4478f5",
   "metadata": {
    "deletable": false,
    "editable": false,
    "nbgrader": {
     "cell_type": "markdown",
     "checksum": "e02ec37ca97cfa974ad1176ecb9f6104",
     "grade": false,
     "grade_id": "cell-a02v01c03",
     "locked": true,
     "schema_version": 3,
     "solution": false,
     "task": false
    },
    "signature": "62010"
   },
   "source": [
    "#### 2.1. Erzeugung (2 Punkte)\n",
    "Erstellen Sie ein NumPy-Array `a` mit 6 Zeilen und 15 Spalten, das Zufallszahlen aus einer Normalverteilung (Mittelwert: 0; Standardabweichung: 3.0) enthält."
   ]
  },
  {
   "cell_type": "code",
   "execution_count": 65,
   "id": "ef4478f6",
   "metadata": {
    "deletable": false,
    "nbgrader": {
     "cell_type": "code",
     "checksum": "16a94f6b628f4f1fead4a979dfc4ecdc",
     "grade": false,
     "grade_id": "cell-a02v01c04",
     "locked": false,
     "schema_version": 3,
     "solution": true,
     "task": false
    },
    "signature": "62010"
   },
   "outputs": [],
   "source": [
    "a = None\n",
    "# Hier eigenen Code schreiben ...\n",
    "mu = 0\n",
    "sigma = 3\n",
    "a = np.random.normal(mu, sigma, size=(6,15))\n",
    "\n",
    "# print(a.shape)\n",
    "# print(a.size)\n",
    "# print(a.mean())\n",
    "# print(a)\n",
    "# print(a.T)"
   ]
  },
  {
   "cell_type": "code",
   "execution_count": 66,
   "id": "ef4478f7",
   "metadata": {
    "deletable": false,
    "editable": false,
    "nbgrader": {
     "cell_type": "code",
     "checksum": "cf0e205986c6112d68c93b287452d276",
     "grade": true,
     "grade_id": "cell-a02v01c05",
     "locked": true,
     "points": 2,
     "schema_version": 3,
     "solution": false,
     "task": false
    },
    "signature": "62010"
   },
   "outputs": [
    {
     "name": "stdout",
     "output_type": "stream",
     "text": [
      "[[-4.87 -0.31 -5.43  0.79  0.78 -1.14 -0.01  1.02  2.69 -1.08  4.97 -3.57\n",
      "   5.   -6.01 -1.43]\n",
      " [ 4.11  0.77  2.11  2.67  2.17 -4.15 -2.98 -0.51  0.86  0.89 -0.56 -1.1\n",
      "   4.35  0.66  1.34]\n",
      " [-0.63 -1.52  1.2   3.05  3.63  1.36 -4.07  2.39 -4.71 -3.48 -1.93 -2.41\n",
      "   2.7   1.34  1.89]\n",
      " [-2.07  0.45  3.79 -3.64 -1.57 -1.7  -3.01  0.59  2.18  0.83  0.43  4.66\n",
      "  -2.18 -0.26  3.9 ]\n",
      " [ 2.04 -4.74  7.28  2.97  2.21 -2.46 -2.05  3.72  0.9   0.18  2.6  -4.36\n",
      "   1.58 -0.68  3.39]\n",
      " [-0.33 -1.73 -2.54  1.74 -4.97  4.92 -0.17  1.22 -5.32 -2.73  9.78  0.38\n",
      "   1.57 -4.5  -6.02]]\n"
     ]
    }
   ],
   "source": [
    "# Hier sind einige Plausibilitäts-Tests:\n",
    "assert a is not None\n",
    "assert type(a) == np.ndarray\n",
    "print(np.around(a,2))"
   ]
  },
  {
   "cell_type": "markdown",
   "id": "ef4478f8",
   "metadata": {
    "deletable": false,
    "editable": false,
    "nbgrader": {
     "cell_type": "markdown",
     "checksum": "913ea973786837352af78460e1f8dee7",
     "grade": false,
     "grade_id": "cell-a02v01c06",
     "locked": true,
     "schema_version": 3,
     "solution": false,
     "task": false
    },
    "signature": "62010"
   },
   "source": [
    "#### 2.2. Indizierung von vorn (2 Punkte)\n",
    "\n",
    "Holen Sie die ersten 3 Werte aus den ersten 2 Zeilen des Arrays `a` und speichern Sie das Ergebnis im Array `a_linksoben` (mit entsprechend 3 Spalten und 2 Zeilen)."
   ]
  },
  {
   "cell_type": "code",
   "execution_count": 67,
   "id": "ef4478f9",
   "metadata": {
    "deletable": false,
    "nbgrader": {
     "cell_type": "code",
     "checksum": "a7a7c69b3bc50a1259d8574040512f33",
     "grade": false,
     "grade_id": "cell-a02v01c07",
     "locked": false,
     "schema_version": 3,
     "solution": true,
     "task": false
    },
    "signature": "62010"
   },
   "outputs": [
    {
     "name": "stdout",
     "output_type": "stream",
     "text": [
      "[[-4.87119334 -0.3053518  -5.42937329]\n",
      " [ 4.10639571  0.77450554  2.1070557 ]]\n"
     ]
    }
   ],
   "source": [
    "a_linksoben = None\n",
    "# Hier eigenen Code schreiben ...\n",
    "a_linksoben = a[0:2,0:3]\n",
    "\n",
    "print(a_linksoben)"
   ]
  },
  {
   "cell_type": "code",
   "execution_count": 68,
   "id": "ef4478fa",
   "metadata": {
    "deletable": false,
    "editable": false,
    "nbgrader": {
     "cell_type": "code",
     "checksum": "c163bbcf2775ce3a4346667aff0a35a9",
     "grade": true,
     "grade_id": "cell-a02v01c08",
     "locked": true,
     "points": 2,
     "schema_version": 3,
     "solution": false,
     "task": false
    },
    "signature": "62010"
   },
   "outputs": [],
   "source": [
    "# Hier sind einige Plausibilitäts-Tests:\n",
    "assert a_linksoben is not None\n",
    "assert type(a_linksoben) == np.ndarray\n",
    "assert a_linksoben.shape[0] <= a.shape[0]"
   ]
  },
  {
   "cell_type": "markdown",
   "id": "ef4478fb",
   "metadata": {
    "deletable": false,
    "editable": false,
    "nbgrader": {
     "cell_type": "markdown",
     "checksum": "08dea10d390a85a4a02ca05d6cb933fa",
     "grade": false,
     "grade_id": "cell-a02v01c09",
     "locked": true,
     "schema_version": 3,
     "solution": false,
     "task": false
    },
    "signature": "62010"
   },
   "source": [
    "#### 2.3. Indizierung von hinten (2 Punkte)\n",
    "\n",
    "Holen Sie die _letzten_ 3 Werte aus den _letzten_ 2 Zeilen des Arrays `a` und speichern Sie das Ergebnis im Array `a_rechtsunten` (mit entsprechend 2 Zeilen und 3 Spalten)."
   ]
  },
  {
   "cell_type": "code",
   "execution_count": 69,
   "id": "ef4478fc",
   "metadata": {
    "deletable": false,
    "nbgrader": {
     "cell_type": "code",
     "checksum": "033037614ababded2fe82109ea421e3c",
     "grade": false,
     "grade_id": "cell-a02v01c10",
     "locked": false,
     "schema_version": 3,
     "solution": true,
     "task": false
    },
    "signature": "62010"
   },
   "outputs": [
    {
     "name": "stdout",
     "output_type": "stream",
     "text": [
      "[[ 1.57991897 -0.67558565  3.39229596]\n",
      " [ 1.56714868 -4.50355266 -6.01801312]]\n"
     ]
    }
   ],
   "source": [
    "a_rechtsunten = None\n",
    "# Hier eigenen Code schreiben ...\n",
    "a_rechtsunten = a[-2:, -3:]\n",
    "print(a_rechtsunten)"
   ]
  },
  {
   "cell_type": "code",
   "execution_count": 70,
   "id": "ef4478fd",
   "metadata": {
    "deletable": false,
    "editable": false,
    "nbgrader": {
     "cell_type": "code",
     "checksum": "dba583e895a6e1d8bd65a64fe36382cc",
     "grade": true,
     "grade_id": "cell-a02v01c11",
     "locked": true,
     "points": 2,
     "schema_version": 3,
     "solution": false,
     "task": false
    },
    "signature": "62010"
   },
   "outputs": [],
   "source": [
    "# Hier sind einige Plausibilitäts-Tests:\n",
    "assert a_rechtsunten is not None\n",
    "assert type(a_rechtsunten) == np.ndarray\n",
    "assert a_rechtsunten.shape[0] <= a.shape[0]"
   ]
  },
  {
   "cell_type": "markdown",
   "id": "ef4478fe",
   "metadata": {
    "deletable": false,
    "editable": false,
    "nbgrader": {
     "cell_type": "markdown",
     "checksum": "0e6f49972b20779d1d98f2a11ec55414",
     "grade": false,
     "grade_id": "cell-a02v01c12",
     "locked": true,
     "schema_version": 3,
     "solution": false,
     "task": false
    },
    "signature": "62010"
   },
   "source": [
    "#### 2.4. Mittelwert (1 Punkt)\n",
    "\n",
    "Berechnen Sie den _tatsächlichen_ Mittelwert der Einträge des Arrays `a` und speichern Sie das Ergebnis in der Variable `a_mw`."
   ]
  },
  {
   "cell_type": "code",
   "execution_count": 71,
   "id": "ef4478ff",
   "metadata": {
    "deletable": false,
    "nbgrader": {
     "cell_type": "code",
     "checksum": "a885b1427853fa6477d5239bbb400197",
     "grade": false,
     "grade_id": "cell-a02v01c13",
     "locked": false,
     "schema_version": 3,
     "solution": true,
     "task": false
    },
    "signature": "62010"
   },
   "outputs": [
    {
     "name": "stdout",
     "output_type": "stream",
     "text": [
      "0.07829870111348847\n"
     ]
    }
   ],
   "source": [
    "a_mw = None\n",
    "# Hier eigenen Code schreiben ...\n",
    "a_mw = a.mean()\n",
    "\n",
    "\n",
    "print(a_mw)"
   ]
  },
  {
   "cell_type": "code",
   "execution_count": 72,
   "id": "ef447900",
   "metadata": {
    "deletable": false,
    "editable": false,
    "nbgrader": {
     "cell_type": "code",
     "checksum": "eb5faf786bc147c4579313ed4fd33f45",
     "grade": true,
     "grade_id": "cell-a02v01c14",
     "locked": true,
     "points": 1,
     "schema_version": 3,
     "solution": false,
     "task": false
    },
    "signature": "62010"
   },
   "outputs": [],
   "source": [
    "# Hier sind einige Plausibilitäts-Tests:\n",
    "assert a_mw is not None\n",
    "assert a_mw != 0"
   ]
  },
  {
   "cell_type": "markdown",
   "id": "ef447901",
   "metadata": {
    "deletable": false,
    "editable": false,
    "nbgrader": {
     "cell_type": "markdown",
     "checksum": "d4a4f3823d8c4bf900bffc0010d03269",
     "grade": false,
     "grade_id": "cell-a02v01c15",
     "locked": true,
     "schema_version": 3,
     "solution": false,
     "task": false
    },
    "signature": "62010"
   },
   "source": [
    "#### 2.5. Standardabweichung (1 Punkt)\n",
    "\n",
    "Berechnen Sie die _tatsächliche_ Standardabweichung der Einträge des Arrays `a` und speichern Sie das Ergebnis in der Variable `a_stab`."
   ]
  },
  {
   "cell_type": "code",
   "execution_count": 73,
   "id": "ef447902",
   "metadata": {
    "deletable": false,
    "nbgrader": {
     "cell_type": "code",
     "checksum": "098c7d0f718deeff8cdbbc95e19c1c65",
     "grade": false,
     "grade_id": "cell-a02v01c16",
     "locked": false,
     "schema_version": 3,
     "solution": true,
     "task": false
    },
    "signature": "62010"
   },
   "outputs": [
    {
     "name": "stdout",
     "output_type": "stream",
     "text": [
      "3.096644730273739\n"
     ]
    }
   ],
   "source": [
    "a_stab = None\n",
    "# Hier eigenen Code schreiben ...\n",
    "a_stab = np.std(a,) # dtype=np.float64)\n",
    "\n",
    "print(a_stab)"
   ]
  },
  {
   "cell_type": "code",
   "execution_count": 74,
   "id": "ef447903",
   "metadata": {
    "deletable": false,
    "editable": false,
    "nbgrader": {
     "cell_type": "code",
     "checksum": "e7c49545916a5ce20ed310f9bbe54f62",
     "grade": true,
     "grade_id": "cell-a02v01c17",
     "locked": true,
     "points": 1,
     "schema_version": 3,
     "solution": false,
     "task": false
    },
    "signature": "62010"
   },
   "outputs": [],
   "source": [
    "# Hier sind einige Plausibilitäts-Tests:\n",
    "assert a_stab is not None\n",
    "assert a_stab != 0"
   ]
  },
  {
   "cell_type": "markdown",
   "id": "ef447904",
   "metadata": {
    "deletable": false,
    "editable": false,
    "nbgrader": {
     "cell_type": "markdown",
     "checksum": "d5c9a1bf6bbfd2500a4740077cb287fc",
     "grade": false,
     "grade_id": "cell-a02v01c18",
     "locked": true,
     "schema_version": 3,
     "solution": false,
     "task": false
    },
    "signature": "62010"
   },
   "source": [
    "#### 2.6. Werteverschiebung (2 Punkte)\n",
    "\n",
    "Ändern Sie die Einträge im Array `a` so ab, dass die relative Verteilung der Werte (=Standardabweichung) genau gleich bleibt, der Mittelwert jedoch tatsächlich bei 0 liegt (mindestens bis zur 4. Nachkommastelle)."
   ]
  },
  {
   "cell_type": "code",
   "execution_count": 75,
   "id": "ef447905",
   "metadata": {
    "deletable": false,
    "nbgrader": {
     "cell_type": "code",
     "checksum": "f50902374cfdd26d2bdaf226d5087183",
     "grade": false,
     "grade_id": "cell-a02v01c19",
     "locked": false,
     "schema_version": 3,
     "solution": true,
     "task": false
    },
    "signature": "62010"
   },
   "outputs": [
    {
     "name": "stdout",
     "output_type": "stream",
     "text": [
      "0.0\n",
      "3.096644730273739\n",
      "True\n"
     ]
    }
   ],
   "source": [
    "# Hier eigenen Code schreiben ...\n",
    "\n",
    "b = a.copy() - a.copy().mean()\n",
    "print(round(b.mean(), ndigits=16) )\n",
    "print(b.std())\n",
    "print(b.std() == a.std())\n",
    "a = b"
   ]
  },
  {
   "cell_type": "code",
   "execution_count": 76,
   "id": "ef447906",
   "metadata": {
    "deletable": false,
    "editable": false,
    "nbgrader": {
     "cell_type": "code",
     "checksum": "c0558dd024cd831f19cae837da30191b",
     "grade": true,
     "grade_id": "cell-a02v01c20",
     "locked": true,
     "points": 2,
     "schema_version": 3,
     "solution": false,
     "task": false
    },
    "signature": "62010"
   },
   "outputs": [],
   "source": [
    "# Hier ist ein Plausibilitäts-Test:\n",
    "assert a is not None"
   ]
  },
  {
   "cell_type": "markdown",
   "id": "ef447907",
   "metadata": {
    "deletable": false,
    "editable": false,
    "nbgrader": {
     "cell_type": "markdown",
     "checksum": "3fc5761a66d638e6ba88fae08f0a34cd",
     "grade": false,
     "grade_id": "cell-a03v01c01",
     "locked": true,
     "schema_version": 3,
     "solution": false,
     "task": false
    },
    "signature": "62010"
   },
   "source": [
    "### 3. Funktion auf Zahlenreihe\n",
    "\n",
    "  * Schreiben Sie eine Funktion namens `addsub`. (_3 Punkte_)\n",
    "  * Sie soll als Parameter ein 1D-Array und ein Skalar übergeben bekommen.\n",
    "  * Die Einträge des Arrays werden jeweils mit dem Skalar potenziert und alternierend addiert bzw. subtrahiert. (_3 Punkte_)\n",
    "  * Die Rechnung lautet z.B. mit Skalar $n=2$ für ein Array $\\pmb{b}$:\n",
    "$$\n",
    "{b_1}^2 - {b_2}^2 + {b_3}^2 - {b_4}^2 + {b_5}^2 \\ldots\n",
    "$$\n",
    "\n",
    "  * Die Funktion soll das skalare Ergebnis der Rechnung zurückgeben. (_3 Punkte_)\n",
    "  * Verwenden Sie NumPy-Arrays und verzichten Sie nach Möglichkeit auf if-Klauseln und Schleifen. (_3 Punkte_)\n",
    "  * Das Array muss als Parameter übergeben werden. Das Skalar $n$ soll als optionaler Parameter übergeben werden können und als Default den Wert 2 erhalten. (_3 Punkte_)\n"
   ]
  },
  {
   "cell_type": "code",
   "execution_count": 77,
   "id": "ef447908",
   "metadata": {
    "deletable": false,
    "nbgrader": {
     "cell_type": "code",
     "checksum": "f387a5f25b71f909f7e7173577afe055",
     "grade": false,
     "grade_id": "cell-a03v01c02",
     "locked": false,
     "schema_version": 3,
     "solution": true,
     "task": false
    },
    "signature": "62010"
   },
   "outputs": [],
   "source": [
    "addsub = None # Definieren Sie addsub als Funktion!\n",
    "# Hier eigenen Code schreiben ...\n",
    "def addsub(array1D, skalar=2) : \n",
    "    b = np.array(array1D)\n",
    "    return sum(b[::2]**skalar) - sum(b[1::2]**skalar)\n",
    "\n",
    "    # value = 0\n",
    "    # arr = iter(array1D)\n",
    "    # arr = zip(arr,arr)\n",
    "    # for bi, bj in arr:\n",
    "    #     print(bi, bj)\n",
    "    #     value += bi**skalar - bj**skalar\n",
    "    # #test, ob das array gerade ist:\n",
    "    # if(len(array1D) % 2 == 0):\n",
    "    #     return value\n",
    "    # else:\n",
    "    #     return value + array1D[-1]**skalar\n",
    "\n",
    "\n",
    "# print(a[0,0])\n",
    "# print(addsub([1,1.2,1,1.1,1,1,10], 2))\n",
    "# b = np.array([1,2,1,2,1,2])\n",
    "\n",
    "# print(addsub(b))"
   ]
  },
  {
   "cell_type": "code",
   "execution_count": 78,
   "id": "ef447909",
   "metadata": {
    "deletable": false,
    "editable": false,
    "nbgrader": {
     "cell_type": "code",
     "checksum": "2ad75696372f0591068cea66fc3ea752",
     "grade": true,
     "grade_id": "cell-a03v01c03",
     "locked": true,
     "points": 3,
     "schema_version": 3,
     "solution": false,
     "task": false
    },
    "signature": "62010"
   },
   "outputs": [],
   "source": [
    "# Hier ist ein Plausibilitäts-Test:\n",
    "assert addsub is not None"
   ]
  },
  {
   "cell_type": "code",
   "execution_count": 79,
   "id": "ef44790a",
   "metadata": {
    "deletable": false,
    "editable": false,
    "nbgrader": {
     "cell_type": "code",
     "checksum": "3ba7dde315868b407316c547d969f9be",
     "grade": true,
     "grade_id": "cell-a03v01c04",
     "locked": true,
     "points": 3,
     "schema_version": 3,
     "solution": false,
     "task": false
    },
    "signature": "62010"
   },
   "outputs": [],
   "source": [
    "# Hier ist ein Plausibilitäts-Test:\n",
    "testarray = np.array([-3.1, -3.0, 2.9, 1.8, 0.0, -2.1, 3.2, -0.2, -2.5, -1.5, 1.3, -1.2, 0.2, -0.5, -0.0, -3.2])\n",
    "assert addsub(testarray,2) is not None"
   ]
  },
  {
   "cell_type": "code",
   "execution_count": 80,
   "id": "ef44790b",
   "metadata": {
    "deletable": false,
    "editable": false,
    "nbgrader": {
     "cell_type": "code",
     "checksum": "aac3ef2ba56df0b855def79742ff163c",
     "grade": true,
     "grade_id": "cell-a03v01c05",
     "locked": true,
     "points": 3,
     "schema_version": 3,
     "solution": false,
     "task": false
    },
    "signature": "62010"
   },
   "outputs": [],
   "source": [
    "# Hier ist ein Plausibilitäts-Test:\n",
    "assert np.isclose(addsub(testarray,2),5.37,atol=1e-3)"
   ]
  },
  {
   "cell_type": "code",
   "execution_count": 81,
   "id": "ef44790c",
   "metadata": {
    "deletable": false,
    "editable": false,
    "nbgrader": {
     "cell_type": "code",
     "checksum": "5edf37a582780161a481125dae85d2ee",
     "grade": true,
     "grade_id": "cell-a03v01c06",
     "locked": true,
     "points": 3,
     "schema_version": 3,
     "solution": false,
     "task": false
    },
    "signature": "62010"
   },
   "outputs": [],
   "source": [
    "# Hier ist ein Plausibilitäts-Test:\n",
    "assert addsub(testarray,3) is not None"
   ]
  },
  {
   "cell_type": "code",
   "execution_count": 82,
   "id": "ef44790d",
   "metadata": {
    "deletable": false,
    "editable": false,
    "nbgrader": {
     "cell_type": "code",
     "checksum": "b7b56f966da165fca31a415611bdbc9f",
     "grade": true,
     "grade_id": "cell-a03v01c07",
     "locked": true,
     "points": 3,
     "schema_version": 3,
     "solution": false,
     "task": false
    },
    "signature": "62010"
   },
   "outputs": [],
   "source": [
    "# Hier ist ein Plausibilitäts-Test:\n",
    "assert addsub(testarray,2) != addsub(testarray,3)"
   ]
  },
  {
   "cell_type": "markdown",
   "id": "ef44790e",
   "metadata": {
    "deletable": false,
    "editable": false,
    "nbgrader": {
     "cell_type": "markdown",
     "checksum": "23921399e432db0cebb50dfcd67aeeac",
     "grade": false,
     "grade_id": "cell-a04v01c01",
     "locked": true,
     "schema_version": 3,
     "solution": false,
     "task": false
    },
    "signature": "62010"
   },
   "source": [
    "### 4. Visualisierung\n",
    "\n",
    "#### 4.1. Array mit aufsteigenden Werten (2 Punkte)\n",
    "\n",
    "Erstellen Sie einen Vektor `x` (1-dimensionales NumPy-Array), der genau 234 äquidistant verteilte aufsteigende Zahlen im Intervall von (jeweils inklusive) -3 bis 27 enthält."
   ]
  },
  {
   "cell_type": "code",
   "execution_count": 83,
   "id": "ef44790f",
   "metadata": {
    "deletable": false,
    "nbgrader": {
     "cell_type": "code",
     "checksum": "8ee99307576fc62e76e6bf7874c4238e",
     "grade": false,
     "grade_id": "cell-a04v01c02",
     "locked": false,
     "schema_version": 3,
     "solution": true,
     "task": false
    },
    "signature": "62010"
   },
   "outputs": [],
   "source": [
    "x = None\n",
    "# Hier eigenen Code schreiben ...\n",
    "\n",
    "# äquidistant = gleich weit verteilt\n",
    "\n",
    "x = np.linspace(-3,27, 234)\n",
    "# print(x.size)\n",
    "# print(x.shape)\n",
    "# print(x.mean())\n",
    "# print(np.median(x))\n"
   ]
  },
  {
   "cell_type": "code",
   "execution_count": 84,
   "id": "ef447910",
   "metadata": {
    "deletable": false,
    "editable": false,
    "nbgrader": {
     "cell_type": "code",
     "checksum": "62170decbf1a9fd281bb4242c9fd9c36",
     "grade": true,
     "grade_id": "cell-a04v01c03",
     "locked": true,
     "points": 2,
     "schema_version": 3,
     "solution": false,
     "task": false
    },
    "signature": "62010"
   },
   "outputs": [],
   "source": [
    "# Hier ist ein Plausibilitäts-Test:\n",
    "assert x is not None"
   ]
  },
  {
   "cell_type": "markdown",
   "id": "ef447911",
   "metadata": {
    "deletable": false,
    "editable": false,
    "nbgrader": {
     "cell_type": "markdown",
     "checksum": "46b40aa5621dc97085739431678371a8",
     "grade": false,
     "grade_id": "cell-a04v01c04",
     "locked": true,
     "schema_version": 3,
     "solution": false,
     "task": false
    },
    "signature": "62010"
   },
   "source": [
    "#### 4.2. Funktionswerte (2 Punkte)\n",
    "\n",
    "Führen Sie für alle Werte in `x` die Berechnung\n",
    "\n",
    "$$\n",
    "y = 10 \\cdot \\sin(1.8\\,x)\n",
    "$$\n",
    "\n",
    "durch und speichern Sie das Ergebnis in einem Array `y`."
   ]
  },
  {
   "cell_type": "code",
   "execution_count": 85,
   "id": "ef447912",
   "metadata": {
    "deletable": false,
    "nbgrader": {
     "cell_type": "code",
     "checksum": "1c566c3190d00991c08c3e971edad207",
     "grade": false,
     "grade_id": "cell-a04v01c05",
     "locked": false,
     "schema_version": 3,
     "solution": true,
     "task": false
    },
    "signature": "62010"
   },
   "outputs": [],
   "source": [
    "y = None\n",
    "# Hier eigenen Code schreiben ...\n",
    "y = 10 * np.sin(1.8*x)\n",
    "# print(y.size)\n",
    "# print(y.shape)\n"
   ]
  },
  {
   "cell_type": "code",
   "execution_count": 86,
   "id": "ef447913",
   "metadata": {
    "deletable": false,
    "editable": false,
    "nbgrader": {
     "cell_type": "code",
     "checksum": "23cedd265f54ab5d27e75be58e972405",
     "grade": true,
     "grade_id": "cell-a04v01c06",
     "locked": true,
     "points": 2,
     "schema_version": 3,
     "solution": false,
     "task": false
    },
    "signature": "62010"
   },
   "outputs": [],
   "source": [
    "# Hier ist ein Plausibilitäts-Test:\n",
    "assert y is not None"
   ]
  },
  {
   "attachments": {
    "yZ.png": {
     "image/png": "[encoded data removed]"
    }
   },
   "cell_type": "markdown",
   "id": "ef447914",
   "metadata": {
    "deletable": false,
    "editable": false,
    "nbgrader": {
     "cell_type": "markdown",
     "checksum": "7149a9338914351b336764f1162ba4ac",
     "grade": false,
     "grade_id": "cell-a04v01c07",
     "locked": true,
     "schema_version": 3,
     "solution": false,
     "task": false
    },
    "signature": "62010"
   },
   "source": [
    "#### 4.3. Umsortieren (2 Punkte)\n",
    "\n",
    "Teilen Sie den Vektor `y` in 9 gleich große Abschnitte und schreiben Sie diese untereinander in ein 2D-Array `A` mit 9 Zeilen.\n",
    "\n",
    "Orientieren Sie sich an folgendem Beispiel-Schema zur Umsortierung (dies hat jedoch nur 5 Zeilen!):\n",
    "\n",
    "![yZ.png](attachment:yZ.png)"
   ]
  },
  {
   "cell_type": "code",
   "execution_count": 87,
   "id": "ef447915",
   "metadata": {
    "deletable": false,
    "nbgrader": {
     "cell_type": "code",
     "checksum": "f47032b296cb31cbf74db33ef9719b59",
     "grade": false,
     "grade_id": "cell-a04v01c08",
     "locked": false,
     "schema_version": 3,
     "solution": true,
     "task": false
    },
    "signature": "62010"
   },
   "outputs": [],
   "source": [
    "A = None\n",
    "# Hier eigenen Code schreiben ...\n",
    "A = np.reshape(y, (9,-1))\n",
    "# print(A.shape)\n",
    "# print(A.size)\n",
    "# print(A.ndim)"
   ]
  },
  {
   "cell_type": "code",
   "execution_count": 88,
   "id": "ef447916",
   "metadata": {
    "deletable": false,
    "editable": false,
    "nbgrader": {
     "cell_type": "code",
     "checksum": "eae12e80d91a89c5b1d8b5617bd933bb",
     "grade": true,
     "grade_id": "cell-a04v01c09",
     "locked": true,
     "points": 2,
     "schema_version": 3,
     "solution": false,
     "task": false
    },
    "signature": "62010"
   },
   "outputs": [],
   "source": [
    "# Hier ist ein Plausibilitäts-Test:\n",
    "assert A is not None"
   ]
  },
  {
   "attachments": {
    "figure401424.png": {
     "image/png": "[encoded data removed]"
    }
   },
   "cell_type": "markdown",
   "id": "ef447917",
   "metadata": {
    "deletable": false,
    "editable": false,
    "nbgrader": {
     "cell_type": "markdown",
     "checksum": "bc4027cb3714da3b9e27cfefcd02c128",
     "grade": false,
     "grade_id": "cell-a04v01c10",
     "locked": true,
     "schema_version": 3,
     "solution": false,
     "task": false
    },
    "signature": "62010"
   },
   "source": [
    "#### 4.4. Abbildungen (10 Punkte)\n",
    "\n",
    "Erstellen Sie aus den generierten Daten eine mehrteilige Abbildung, die der folgenden entspricht: \n",
    "\n",
    "![figure401424.png](attachment:figure401424.png)\n",
    "\n",
    "Hinweise:\n",
    "  * Wenn Sie obige Berechnung korrekt umgesetzt haben, sollte Ihre Abbildung sehr ähnlich aussehen.\n",
    "  * Linker Plot: visualisiert `y` über `x`. Beachten Sie Beschriftung *und* Gleichskalierung der Achsen sowie die Darstellung eines hinterlegten Gitters.\n",
    "  * Mittlerer Plot: Inhalt von `A` wird visualisiert. Die Farbskala ordnet den Farben Werte zu.\n",
    "  * Rechter Plot:\n",
    "    * Hier werden die mittlere Zeile von `A` als x-Koordinate und die **anderen** Zeilen jeweils für eine Farbe als y-Koordinaten interpretiert.\n",
    "    * Eine Legende macht die Zuordnung zu den Zeilen deutlich.\n",
    "    * Die Größe der Punkte soll abhängig von der Spalte variieren (z.B. wie oben: [60, 58, 56, ... , 12, 10]).\n",
    "  * Beachten Sie auch die Kommentare unterhalb der folgenden Codezelle, um die Korrektheit Ihrer Lösung zu überprüfen."
   ]
  },
  {
   "cell_type": "code",
   "execution_count": 89,
   "id": "75b6952d",
   "metadata": {},
   "outputs": [
    {
     "data": {
      "text/plain": [
       "5"
      ]
     },
     "execution_count": 89,
     "metadata": {},
     "output_type": "execute_result"
    }
   ],
   "source": [
    "A[int(A.shape[0]/2)+1].shape\n",
    "np.delete(A, int(A.shape[0]/2)+1, 0).shape\n",
    "int(A.shape[0]/2)+1"
   ]
  },
  {
   "cell_type": "code",
   "execution_count": 90,
   "id": "ef447918",
   "metadata": {
    "deletable": false,
    "nbgrader": {
     "cell_type": "code",
     "checksum": "470983c6a8c4315688a9bca8ab25a9a8",
     "grade": false,
     "grade_id": "cell-a04v01c11",
     "locked": false,
     "schema_version": 3,
     "solution": true,
     "task": false
    },
    "signature": "62010"
   },
   "outputs": [
    {
     "data": {
      "image/png": "[encoded data removed]",
      "text/plain": [
       "<Figure size 2160x720 with 4 Axes>"
      ]
     },
     "metadata": {
      "needs_background": "light"
     },
     "output_type": "display_data"
    }
   ],
   "source": [
    "import matplotlib.pyplot as plt\n",
    "# Hier eigenen Code schreiben ...\n",
    "# fig = plt.figure(1, (20,1))\n",
    "\n",
    "plt.figure(1, (30,10))\n",
    "plt.subplot(1,3,1)\n",
    "plt.plot(x,y)\n",
    "plt.axis(\"equal\")\n",
    "plt.xlabel(\"x / m\")\n",
    "plt.ylabel(\"y / m\")\n",
    "plt.grid(True)\n",
    "\n",
    "plt.subplot(1,3,2)\n",
    "# plt.plot(A)\n",
    "plt.imshow(A)\n",
    "plt.colorbar()\n",
    "\n",
    "plt.subplot(1,3,3)\n",
    "# print(int(A.shape[0]/2) +1)\n",
    "\n",
    "A_row = A[int(A.shape[0]/2)+1]\n",
    "A_rows = np.delete(A, int(A.shape[0]/2)+1, 0)\n",
    "markersize= np.linspace(60,10,A_row.size)\n",
    "# print(markersize)\n",
    "\n",
    "for row in A_rows:\n",
    "    plt.scatter(A_row, row, marker='o',s=markersize, alpha=0.5)\n",
    "\n",
    "legend = [f\"{i+1}. Zeile\"if i < 4 else f\"{i+2}. Zeile\" for i in range(len(A_rows))]\n",
    "plt.legend(legend)\n",
    "\n",
    "plt.show()\n"
   ]
  },
  {
   "cell_type": "markdown",
   "id": "ef447919",
   "metadata": {
    "deletable": false,
    "editable": false,
    "nbgrader": {
     "cell_type": "markdown",
     "checksum": "f830b67a08bc15ce8e75408778e05398",
     "grade": false,
     "grade_id": "cell-a04v01c10desc",
     "locked": true,
     "schema_version": 3,
     "solution": false,
     "task": false
    },
    "signature": "62010"
   },
   "source": [
    "Ihre Abbildung wird auf folgende Kriterien untersucht:"
   ]
  },
  {
   "cell_type": "code",
   "execution_count": 91,
   "id": "ef44791a",
   "metadata": {
    "deletable": false,
    "editable": false,
    "nbgrader": {
     "cell_type": "code",
     "checksum": "0f1f0185aa2f1b213fa5c68074ed0f06",
     "grade": true,
     "grade_id": "cell-a04v01c11auto01",
     "locked": true,
     "points": 1,
     "schema_version": 3,
     "solution": false,
     "task": false
    },
    "signature": "62010"
   },
   "outputs": [],
   "source": [
    "# Sind die 3 Abbildungen nebeneinander dargestellt?\n"
   ]
  },
  {
   "cell_type": "code",
   "execution_count": 92,
   "id": "ef44791b",
   "metadata": {
    "deletable": false,
    "editable": false,
    "nbgrader": {
     "cell_type": "code",
     "checksum": "04474ce1e3b1ed378037d0e3e14bcf97",
     "grade": true,
     "grade_id": "cell-a04v01c11auto02",
     "locked": true,
     "points": 1,
     "schema_version": 3,
     "solution": false,
     "task": false
    },
    "signature": "62010"
   },
   "outputs": [],
   "source": [
    "# Wird links y über x geplottet?\n"
   ]
  },
  {
   "cell_type": "code",
   "execution_count": 93,
   "id": "ef44791c",
   "metadata": {
    "deletable": false,
    "editable": false,
    "nbgrader": {
     "cell_type": "code",
     "checksum": "3ba48adc0209364edfd9f84e6dc0e36f",
     "grade": true,
     "grade_id": "cell-a04v01c11auto03",
     "locked": true,
     "points": 1,
     "schema_version": 3,
     "solution": false,
     "task": false
    },
    "signature": "62010"
   },
   "outputs": [],
   "source": [
    "# Ist ein Gitter hinterlegt?\n"
   ]
  },
  {
   "cell_type": "code",
   "execution_count": 94,
   "id": "ef44791d",
   "metadata": {
    "deletable": false,
    "editable": false,
    "nbgrader": {
     "cell_type": "code",
     "checksum": "ba278bc5432c530d347fb6bc206c0f9a",
     "grade": true,
     "grade_id": "cell-a04v01c11auto04",
     "locked": true,
     "points": 1,
     "schema_version": 3,
     "solution": false,
     "task": false
    },
    "signature": "62010"
   },
   "outputs": [],
   "source": [
    "# Sind die Achsen beschriftet?\n"
   ]
  },
  {
   "cell_type": "code",
   "execution_count": 95,
   "id": "ef44791e",
   "metadata": {
    "deletable": false,
    "editable": false,
    "nbgrader": {
     "cell_type": "code",
     "checksum": "2a1a3cb3ce72a5b640c49182bd41c51b",
     "grade": true,
     "grade_id": "cell-a04v01c11auto05",
     "locked": true,
     "points": 1,
     "schema_version": 3,
     "solution": false,
     "task": false
    },
    "signature": "62010"
   },
   "outputs": [],
   "source": [
    "# Sind die Achsen links gleichskaliert?\n"
   ]
  },
  {
   "cell_type": "code",
   "execution_count": 96,
   "id": "ef44791f",
   "metadata": {
    "deletable": false,
    "editable": false,
    "nbgrader": {
     "cell_type": "code",
     "checksum": "e1e73010866badffa91d1a4a96351a98",
     "grade": true,
     "grade_id": "cell-a04v01c11auto06",
     "locked": true,
     "points": 1,
     "schema_version": 3,
     "solution": false,
     "task": false
    },
    "signature": "62010"
   },
   "outputs": [],
   "source": [
    "# Entspricht die mittlere Visualisierung von A der Vorgabe?\n"
   ]
  },
  {
   "cell_type": "code",
   "execution_count": 97,
   "id": "ef447920",
   "metadata": {
    "deletable": false,
    "editable": false,
    "nbgrader": {
     "cell_type": "code",
     "checksum": "d6a1df208a4cb598406dbb61883e56bd",
     "grade": true,
     "grade_id": "cell-a04v01c11auto07",
     "locked": true,
     "points": 1,
     "schema_version": 3,
     "solution": false,
     "task": false
    },
    "signature": "62010"
   },
   "outputs": [],
   "source": [
    "# Ist eine Farbskala vorhanden?\n"
   ]
  },
  {
   "cell_type": "code",
   "execution_count": 98,
   "id": "ef447921",
   "metadata": {
    "deletable": false,
    "editable": false,
    "nbgrader": {
     "cell_type": "code",
     "checksum": "902c7d6d9e7446c5e74b26693583d63b",
     "grade": true,
     "grade_id": "cell-a04v01c11auto08",
     "locked": true,
     "points": 2,
     "schema_version": 3,
     "solution": false,
     "task": false
    },
    "signature": "62010"
   },
   "outputs": [],
   "source": [
    "# Sind im rechten Plot die Daten aus A korrekt zugeordnet und dargestellt?\n"
   ]
  },
  {
   "cell_type": "code",
   "execution_count": 99,
   "id": "ef447922",
   "metadata": {
    "deletable": false,
    "editable": false,
    "nbgrader": {
     "cell_type": "code",
     "checksum": "f07cef6f97c83059e6c41a8e14b662f0",
     "grade": true,
     "grade_id": "cell-a04v01c11auto09",
     "locked": true,
     "points": 1,
     "schema_version": 3,
     "solution": false,
     "task": false
    },
    "signature": "62010"
   },
   "outputs": [],
   "source": [
    "# Ist die Legende vorhanden und korrekt?\n"
   ]
  },
  {
   "cell_type": "markdown",
   "id": "ef447923",
   "metadata": {
    "deletable": false,
    "editable": false,
    "nbgrader": {
     "cell_type": "markdown",
     "checksum": "9be27675a22eeaba751fafc52a7e8cf1",
     "grade": false,
     "grade_id": "cell-a04v01c12",
     "locked": true,
     "schema_version": 3,
     "solution": false,
     "task": false
    },
    "signature": "62010"
   },
   "source": [
    "#### 4.5. Boole'sches Array (2 Punkte)\n",
    "\n",
    "Erstellen Sie ein Array `B` mit exakt denselben Dimensionen wie `A`, das an den Positionen, wo in `A` eine negative Zahl steht, den Wert `True` hat und an allen anderen Stellen den Wert `False`. Verwenden Sie keine Schleifen oder if-Klauseln zur Erstellung."
   ]
  },
  {
   "cell_type": "code",
   "execution_count": 100,
   "id": "ef447924",
   "metadata": {
    "deletable": false,
    "nbgrader": {
     "cell_type": "code",
     "checksum": "38b633ab009988ff1487af591ee9d4a1",
     "grade": false,
     "grade_id": "cell-a04v01c13",
     "locked": false,
     "schema_version": 3,
     "solution": true,
     "task": false
    },
    "signature": "62010"
   },
   "outputs": [],
   "source": [
    "B = None # <-- Es ist durchaus möglich, dass Ihre Lösung kürzer ist als dieser Befehl.\n",
    "# Hier eigenen Code schreiben ...\n",
    "B = A < 0\n",
    "# print(B.shape)\n",
    "# print(B[0])\n",
    "# print(A[0])\n"
   ]
  },
  {
   "cell_type": "code",
   "execution_count": 101,
   "id": "ef447925",
   "metadata": {
    "deletable": false,
    "editable": false,
    "nbgrader": {
     "cell_type": "code",
     "checksum": "17a16c75a401e6e4b42bade0c05969d7",
     "grade": true,
     "grade_id": "cell-a04v01c14",
     "locked": true,
     "points": 2,
     "schema_version": 3,
     "solution": false,
     "task": false
    },
    "signature": "62010"
   },
   "outputs": [],
   "source": [
    "# Hier ist ein Plausibilitäts-Test\n",
    "assert B is not None and B.shape==A.shape"
   ]
  },
  {
   "cell_type": "markdown",
   "id": "ef447926",
   "metadata": {
    "deletable": false,
    "editable": false,
    "nbgrader": {
     "cell_type": "markdown",
     "checksum": "5ec0a87cfcbb059af52390cfc1891d14",
     "grade": false,
     "grade_id": "cell-a04v01c15",
     "locked": true,
     "schema_version": 3,
     "solution": false,
     "task": false
    },
    "signature": "62010"
   },
   "source": [
    "#### 4.6. Bedingte Array-Indizierung (2 Punkte)\n",
    "\n",
    "Erstellen Sie eine Kopie des Arrays `A` mit dem Namen `C`. Ändern Sie `C` so, dass alle negativen Werte auf den Wert 0 gesetzt werden. Achten Sie darauf, dass das Array A hierbei nicht geändert wird. Verwenden Sie keine Schleifen oder if-Klauseln zur Erstellung."
   ]
  },
  {
   "cell_type": "code",
   "execution_count": 102,
   "id": "ef447927",
   "metadata": {
    "deletable": false,
    "nbgrader": {
     "cell_type": "code",
     "checksum": "8974132d03cd466cd52e9739c709b38e",
     "grade": false,
     "grade_id": "cell-a04v01c16",
     "locked": false,
     "schema_version": 3,
     "solution": true,
     "task": false
    },
    "signature": "62010"
   },
   "outputs": [],
   "source": [
    "C = None\n",
    "# Hier eigenen Code schreiben ...\n",
    "C = A.copy()\n",
    "C[B] = 0\n",
    "# C"
   ]
  },
  {
   "cell_type": "code",
   "execution_count": 103,
   "id": "ef447928",
   "metadata": {
    "deletable": false,
    "editable": false,
    "nbgrader": {
     "cell_type": "code",
     "checksum": "1a22d5501dbc8677b2b068a17ff64a31",
     "grade": true,
     "grade_id": "cell-a04v01c17",
     "locked": true,
     "points": 1,
     "schema_version": 3,
     "solution": false,
     "task": false
    },
    "signature": "62010"
   },
   "outputs": [],
   "source": [
    "# Hier ist ein Plausibilitäts-Test:\n",
    "assert C is not None and C.shape==A.shape"
   ]
  },
  {
   "cell_type": "code",
   "execution_count": 104,
   "id": "ef447929",
   "metadata": {
    "deletable": false,
    "editable": false,
    "nbgrader": {
     "cell_type": "code",
     "checksum": "61688d0c816d7b5a9262853cffeac1e7",
     "grade": true,
     "grade_id": "cell-a04v01c18",
     "locked": true,
     "points": 1,
     "schema_version": 3,
     "solution": false,
     "task": false
    },
    "signature": "62010"
   },
   "outputs": [],
   "source": [
    "# Hier ist ein Plausibilitäts-Test:\n",
    "assert C.sum() > 0"
   ]
  },
  {
   "cell_type": "markdown",
   "id": "ef44792a",
   "metadata": {
    "deletable": false,
    "editable": false,
    "nbgrader": {
     "cell_type": "markdown",
     "checksum": "1622872cc9f363f269f701020303e5e1",
     "grade": false,
     "grade_id": "cell-a05v01c01",
     "locked": true,
     "schema_version": 3,
     "solution": false,
     "task": false
    },
    "signature": "62010"
   },
   "source": [
    "### 5. Mehrere Wege zum gleichen Ziel\n",
    "\n",
    "#### 5.1. List Comprehension (10 Punkte)\n",
    "\n",
    "Gegeben sei folgende Liste:"
   ]
  },
  {
   "cell_type": "code",
   "execution_count": 105,
   "id": "ef44792b",
   "metadata": {
    "deletable": false,
    "editable": false,
    "nbgrader": {
     "cell_type": "code",
     "checksum": "2289604e5d22c1b584fe20ca6dc8d45f",
     "grade": false,
     "grade_id": "cell-a05v01c02",
     "locked": true,
     "schema_version": 3,
     "solution": false,
     "task": false
    },
    "signature": "62010"
   },
   "outputs": [],
   "source": [
    "liste = [ -1,  2, -5,  9, -9, -3,  5, -1, -8,  6, -4, -2,-10, -6,  1,  5, -5, -5,\n",
    "  -8,  5, -8, -4]"
   ]
  },
  {
   "cell_type": "markdown",
   "id": "ef44792c",
   "metadata": {
    "deletable": false,
    "editable": false,
    "nbgrader": {
     "cell_type": "markdown",
     "checksum": "c09adf75fb8d053b1ada126cc58c7f3e",
     "grade": false,
     "grade_id": "cell-a05v01c03",
     "locked": true,
     "schema_version": 3,
     "solution": false,
     "task": false
    },
    "signature": "62010"
   },
   "source": [
    "Der Befehl \n",
    "\n",
    "```python\n",
    "sum([zahl for zahl in liste])\n",
    "```\n",
    "\n",
    "führt eine Berechnung der _Summe_ der Zahlen durch. \n",
    "\n",
    "Schreiben Sie in der folgenden Zelle einen Befehl mit dem Ergebnis, dass die Variable `anzahl1` die _Anzahl_ der Zahlen enthält, die _außerhalb_ des Intervalls $[-5.5, 5.5]$ liegen. Verwenden Sie neben geeigneten Werten und Operatoren nach wie vor nur eine List Comprehension und die `sum`-Funktion."
   ]
  },
  {
   "cell_type": "code",
   "execution_count": 113,
   "id": "ef44792d",
   "metadata": {
    "deletable": false,
    "nbgrader": {
     "cell_type": "code",
     "checksum": "dfaca9204d918293ee0caac18ecc4eb0",
     "grade": false,
     "grade_id": "cell-a05v01c04",
     "locked": false,
     "schema_version": 3,
     "solution": true,
     "task": false
    },
    "signature": "62010"
   },
   "outputs": [
    {
     "name": "stdout",
     "output_type": "stream",
     "text": [
      "8\n"
     ]
    }
   ],
   "source": [
    "anzahl1 = None\n",
    "# Hier eigenen Code schreiben ...\n",
    "anzahl1 = sum([i//i for i in liste if -5.5 >= i or i >= 5.5])\n",
    "print(anzahl1)\n"
   ]
  },
  {
   "cell_type": "code",
   "execution_count": 107,
   "id": "ef44792e",
   "metadata": {
    "deletable": false,
    "editable": false,
    "nbgrader": {
     "cell_type": "code",
     "checksum": "41d0dfc4c11b9bed68c4a497f154835e",
     "grade": true,
     "grade_id": "cell-a05v01c05",
     "locked": true,
     "points": 3,
     "schema_version": 3,
     "solution": false,
     "task": false
    },
    "signature": "62010"
   },
   "outputs": [],
   "source": [
    "# Hier ist ein Plausibilitäts-Test:\n",
    "assert type(anzahl1) == int"
   ]
  },
  {
   "cell_type": "code",
   "execution_count": 108,
   "id": "ef44792f",
   "metadata": {
    "deletable": false,
    "editable": false,
    "nbgrader": {
     "cell_type": "code",
     "checksum": "aaea7d6efaeb6be708c10b7903be2249",
     "grade": true,
     "grade_id": "cell-a05v01c06",
     "locked": true,
     "points": 7,
     "schema_version": 3,
     "solution": false,
     "task": false
    },
    "signature": "62010"
   },
   "outputs": [],
   "source": [
    "# Hier ist ein Plausibilitäts-Test:\n",
    "assert anzahl1 > 0\n"
   ]
  },
  {
   "cell_type": "markdown",
   "id": "ef447930",
   "metadata": {
    "deletable": false,
    "editable": false,
    "nbgrader": {
     "cell_type": "markdown",
     "checksum": "a55a9a9e5028eca35419bf79fc6ea145",
     "grade": false,
     "grade_id": "cell-a05v01c07",
     "locked": true,
     "schema_version": 3,
     "solution": false,
     "task": false
    },
    "signature": "62010"
   },
   "source": [
    "#### 5.2. Schleifenalternative (10 Punkte)\n",
    "\n",
    "Schreiben Sie einen Code-Abschnitt, der für die Liste `liste` dasselbe Ergebnis wie in 5.1. ermittelt (der Ergebniswert in `anzahl2` sei also die Anzahl der Zahlen, die außerhalb des obigen Intervalls liegen). Lösen Sie das Problem jedoch _ohne_ Verwendung einer `for`-Schleife (also auch nicht in einer List Comprehension). Verwenden Sie z.B. eine `while`-Schleife."
   ]
  },
  {
   "cell_type": "code",
   "execution_count": 114,
   "id": "ef447931",
   "metadata": {
    "deletable": false,
    "nbgrader": {
     "cell_type": "code",
     "checksum": "e57a1387ab20fdd7361da494c472f310",
     "grade": false,
     "grade_id": "cell-a05v01c08",
     "locked": false,
     "schema_version": 3,
     "solution": true,
     "task": false
    },
    "signature": "62010"
   },
   "outputs": [
    {
     "name": "stdout",
     "output_type": "stream",
     "text": [
      "8\n"
     ]
    }
   ],
   "source": [
    "anzahl2 = 0\n",
    "# Hier eigenen Code schreiben ...\n",
    "# why\n",
    "i = 0\n",
    "while i < len(liste):\n",
    "    if liste[i] >= 5.5 or liste[i] <= -5.5:\n",
    "        anzahl2 += 1\n",
    "    i += 1\n",
    "\n",
    "print(anzahl2)"
   ]
  },
  {
   "cell_type": "code",
   "execution_count": 110,
   "id": "ef447932",
   "metadata": {
    "deletable": false,
    "editable": false,
    "nbgrader": {
     "cell_type": "code",
     "checksum": "f115a20a9ab858c845dc62595ab4bd4f",
     "grade": true,
     "grade_id": "cell-a05v01c09",
     "locked": true,
     "points": 3,
     "schema_version": 3,
     "solution": false,
     "task": false
    },
    "signature": "62010"
   },
   "outputs": [],
   "source": [
    "# Hier ist ein Plausibilitäts-Test:\n",
    "assert anzahl2 is not None"
   ]
  },
  {
   "cell_type": "code",
   "execution_count": 111,
   "id": "ef447933",
   "metadata": {
    "deletable": false,
    "editable": false,
    "nbgrader": {
     "cell_type": "code",
     "checksum": "9dedc2a8ccaf6c9861945edf2e9b79c8",
     "grade": true,
     "grade_id": "cell-a05v01c10",
     "locked": true,
     "points": 7,
     "schema_version": 3,
     "solution": false,
     "task": false
    },
    "signature": "62010"
   },
   "outputs": [],
   "source": [
    "# Hier ist ein Plausibilitäts-Test:\n",
    "assert anzahl2 != 0\n"
   ]
  },
  {
   "cell_type": "code",
   "execution_count": 112,
   "id": "4754e5a8",
   "metadata": {},
   "outputs": [],
   "source": [
    "# Danke für dieses Modul"
   ]
  }
 ],
 "metadata": {
  "kernelspec": {
   "display_name": "Python 3 (ipykernel)",
   "language": "python",
   "name": "python3"
  },
  "language_info": {
   "codemirror_mode": {
    "name": "ipython",
    "version": 3
   },
   "file_extension": ".py",
   "mimetype": "text/x-python",
   "name": "python",
   "nbconvert_exporter": "python",
   "pygments_lexer": "ipython3",
   "version": "3.9.12"
  },
  "vscode": {
   "interpreter": {
    "hash": "feec554b88b5bfacc6e2c3545e667bca870d15aa77d8e44edccd02c2cd8d17a8"
   }
  }
 },
 "nbformat": 4,
 "nbformat_minor": 5
}
