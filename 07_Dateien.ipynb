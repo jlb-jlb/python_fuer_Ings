{
 "cells": [
  {
   "cell_type": "markdown",
   "metadata": {},
   "source": [
    "# **Python für Ingenieure**\n",
    "<!-- Lizensiert unter (CC BY 4.0) Gert Herold -->\n",
    "# 7. Dateien lesen und schreiben\n",
    "\n",
    "Daten können in sehr unterschiedlichen Formaten vorliegen. \n",
    "Dieses Notebook enthält Beispiele, wie man unter Python:\n",
    "\n",
    " * Daten aus häufig vorkommenden Dateitypen einlesen kann\n",
    " * Daten effizient abspeichern kann\n",
    "\n",
    "\n",
    "## 7.1. Textdateien\n",
    "\n",
    "Öffnen:"
   ]
  },
  {
   "cell_type": "code",
   "execution_count": 1,
   "metadata": {},
   "outputs": [],
   "source": [
    "datei = open(\"eine_datei.txt\",'w')"
   ]
  },
  {
   "cell_type": "markdown",
   "metadata": {},
   "source": [
    "|Schalter|Bedeutung|\n",
    "|-|-|\n",
    "|`'r'`| Öffne Datei zum Lesen (Standard, Fehlermeldung, falls Datei nicht existiert)|\n",
    "|`'w'`| Öffne Datei zum Schreiben (neue Datei erzeugen / bestehende Datei überschreiben) |\n",
    "|`'x'`| Öffne Datei zum Schreiben (neue Datei erzeugen / Fehlermeldung, falls Datei schon existiert) |\n",
    "|`'a'`| Öffne Datei zum Schreiben (bestehende Datei erweitern, Inhalte werden angehängt) |\n",
    "\n",
    "Anmerkungen: Sollen Binärdaten abgespeichert werden, muss dem Schalter noch ein 'b' angehängt werden (z.B. `'wb'`). Wird eine Datei mit der Option '+' geöffnet (z.B. `'r+'`), kann sowohl geschrieben als auch gelesen werden.\n",
    "\n",
    "\n",
    "Schließen:"
   ]
  },
  {
   "cell_type": "code",
   "execution_count": 2,
   "metadata": {},
   "outputs": [],
   "source": [
    "datei.close()"
   ]
  },
  {
   "cell_type": "markdown",
   "metadata": {},
   "source": [
    "Text in Datei schreiben:"
   ]
  },
  {
   "cell_type": "code",
   "execution_count": 3,
   "metadata": {},
   "outputs": [],
   "source": [
    "datei = open(\"eine_datei.txt\",'w')\n",
    "datei.write('Hier steht jetzt ein Text.\\nUnd hier noch Text in der zweiten Zeile.')\n",
    "datei.close()"
   ]
  },
  {
   "cell_type": "code",
   "execution_count": 4,
   "metadata": {},
   "outputs": [
    {
     "name": "stdout",
     "output_type": "stream",
     "text": [
      "Hier steht jetzt ein Text.\n",
      "Und hier noch Text in der zweiten Zeile.\n"
     ]
    }
   ],
   "source": [
    "datei = open(\"eine_datei.txt\",'r')\n",
    "print(datei.read())"
   ]
  },
  {
   "cell_type": "markdown",
   "metadata": {},
   "source": [
    "Bestehende Datei erweitern:"
   ]
  },
  {
   "cell_type": "code",
   "execution_count": 5,
   "metadata": {},
   "outputs": [],
   "source": [
    "datei = open(\"eine_datei.txt\",'a')"
   ]
  },
  {
   "cell_type": "code",
   "execution_count": 6,
   "metadata": {},
   "outputs": [
    {
     "data": {
      "text/plain": [
       "25"
      ]
     },
     "execution_count": 6,
     "metadata": {},
     "output_type": "execute_result"
    }
   ],
   "source": [
    "datei.write('\\nEine weitere Zeile hier.')"
   ]
  },
  {
   "cell_type": "code",
   "execution_count": 7,
   "metadata": {},
   "outputs": [],
   "source": [
    "datei.close()"
   ]
  },
  {
   "cell_type": "markdown",
   "metadata": {},
   "source": [
    "## 7.2. Beliebige Datenstrukturen in Dateien abspeichern"
   ]
  },
  {
   "cell_type": "code",
   "execution_count": 8,
   "metadata": {},
   "outputs": [
    {
     "data": {
      "text/plain": [
       "{'eins': 'ein Wort', 1: [2, 3, 4], 1.2: 3}"
      ]
     },
     "execution_count": 8,
     "metadata": {},
     "output_type": "execute_result"
    }
   ],
   "source": [
    "meine_daten = {'eins':'ein Wort',\n",
    "               1: [2,3,4],\n",
    "               1.2 : 3}\n",
    "meine_daten"
   ]
  },
  {
   "cell_type": "markdown",
   "metadata": {},
   "source": [
    "### 7.2.1. [*pickle*](https://docs.python.org/3/library/pickle.html)\n",
    "\n",
    "Schreiben:"
   ]
  },
  {
   "cell_type": "code",
   "execution_count": 9,
   "metadata": {},
   "outputs": [],
   "source": [
    "import pickle\n",
    "datei = open('gepicklete.daten','wb')\n",
    "pickle.dump(meine_daten,datei)\n",
    "datei.close()"
   ]
  },
  {
   "cell_type": "markdown",
   "metadata": {},
   "source": [
    "Lesen:"
   ]
  },
  {
   "cell_type": "code",
   "execution_count": 10,
   "metadata": {},
   "outputs": [
    {
     "data": {
      "text/plain": [
       "dict"
      ]
     },
     "execution_count": 10,
     "metadata": {},
     "output_type": "execute_result"
    }
   ],
   "source": [
    "xyz = pickle.load(open('gepicklete.daten','rb'))\n",
    "type(xyz)"
   ]
  },
  {
   "cell_type": "markdown",
   "metadata": {},
   "source": [
    "### 7.2.1. [*json*](https://docs.python.org/3/library/json.html#module-json)\n",
    "\n",
    "JSON: *JavaScript Object Notation*\n",
    "\n",
    "Schreiben:"
   ]
  },
  {
   "cell_type": "code",
   "execution_count": 11,
   "metadata": {},
   "outputs": [],
   "source": [
    "import json\n",
    "datei = open('gejsonte.daten','w')\n",
    "json.dump(meine_daten,datei)\n",
    "datei.close()"
   ]
  },
  {
   "cell_type": "markdown",
   "metadata": {},
   "source": [
    "Lesen:"
   ]
  },
  {
   "cell_type": "code",
   "execution_count": 12,
   "metadata": {},
   "outputs": [
    {
     "data": {
      "text/plain": [
       "{'eins': 'ein Wort', '1': [2, 3, 4], '1.2': 3}"
      ]
     },
     "execution_count": 12,
     "metadata": {},
     "output_type": "execute_result"
    }
   ],
   "source": [
    "xyz = json.load(open('gejsonte.daten','r'))\n",
    "xyz"
   ]
  },
  {
   "cell_type": "markdown",
   "metadata": {},
   "source": [
    "**Pickle vs. JSON**\n",
    "  \n",
    "  * json: direkt lesbar, kompatibel mit anderen Systemen\n",
    "  * pickle: geringer Speicherbedarf, kann beliebige Objektstrukturen (und -typen) abbilden"
   ]
  },
  {
   "cell_type": "markdown",
   "metadata": {},
   "source": [
    "## 7.3. Numpy-Arrays in Dateien speichern"
   ]
  },
  {
   "cell_type": "code",
   "execution_count": 13,
   "metadata": {},
   "outputs": [
    {
     "data": {
      "text/plain": [
       "array([0. , 0.5, 1. , 1.5, 2. ])"
      ]
     },
     "execution_count": 13,
     "metadata": {},
     "output_type": "execute_result"
    }
   ],
   "source": [
    "import numpy as np\n",
    "\n",
    "a = np.arange(5)*0.5\n",
    "a"
   ]
  },
  {
   "cell_type": "markdown",
   "metadata": {},
   "source": [
    "Schreiben:"
   ]
  },
  {
   "cell_type": "code",
   "execution_count": 14,
   "metadata": {},
   "outputs": [],
   "source": [
    "np.save('array_daten',a)"
   ]
  },
  {
   "cell_type": "markdown",
   "metadata": {},
   "source": [
    "Lesen:"
   ]
  },
  {
   "cell_type": "code",
   "execution_count": 15,
   "metadata": {},
   "outputs": [
    {
     "data": {
      "text/plain": [
       "array([0. , 0.5, 1. , 1.5, 2. ])"
      ]
     },
     "execution_count": 15,
     "metadata": {},
     "output_type": "execute_result"
    }
   ],
   "source": [
    "b = np.load('array_daten.npy')\n",
    "b"
   ]
  },
  {
   "cell_type": "markdown",
   "metadata": {},
   "source": [
    "## 7.4. CSV-Dateien\n",
    "\n",
    "CSV: \"Comma-separated values\" (Trennzeichen nicht notwendigerweise Kommas), Daten in Zeilen und Spalten (2D-Arrays)"
   ]
  },
  {
   "cell_type": "code",
   "execution_count": 16,
   "metadata": {},
   "outputs": [
    {
     "data": {
      "text/plain": [
       "array([[ 1.62434536, -0.61175641, -0.52817175, -1.07296862,  0.86540763],\n",
       "       [-2.3015387 ,  1.74481176, -0.7612069 ,  0.3190391 , -0.24937038],\n",
       "       [ 1.46210794, -2.06014071, -0.3224172 , -0.38405435,  1.13376944],\n",
       "       [-1.09989127, -0.17242821, -0.87785842,  0.04221375,  0.58281521]])"
      ]
     },
     "execution_count": 16,
     "metadata": {},
     "output_type": "execute_result"
    }
   ],
   "source": [
    "import numpy as np\n",
    "\n",
    "np.random.seed(1)\n",
    "c = np.random.randn(20).reshape(4,5)\n",
    "c"
   ]
  },
  {
   "cell_type": "markdown",
   "metadata": {},
   "source": [
    "Schreiben: [*numpy.savetxt*](https://docs.scipy.org/doc/numpy/reference/generated/numpy.savetxt.html)"
   ]
  },
  {
   "cell_type": "code",
   "execution_count": 17,
   "metadata": {},
   "outputs": [],
   "source": [
    "np.savetxt('daten.csv', c, \n",
    "           fmt='%3.3f', delimiter=',', header='Spalte 1, Spalte 2, Spalte Drei, Spalte 4, Spalte 5')"
   ]
  },
  {
   "cell_type": "markdown",
   "metadata": {},
   "source": [
    "Lesen: [*numpy.loadtxt*](https://docs.scipy.org/doc/numpy/reference/generated/numpy.loadtxt.html)"
   ]
  },
  {
   "cell_type": "code",
   "execution_count": 18,
   "metadata": {},
   "outputs": [
    {
     "data": {
      "text/plain": [
       "array([[ 1.624, -0.612, -0.528, -1.073,  0.865],\n",
       "       [-2.302,  1.745, -0.761,  0.319, -0.249],\n",
       "       [ 1.462, -2.06 , -0.322, -0.384,  1.134],\n",
       "       [-1.1  , -0.172, -0.878,  0.042,  0.583]])"
      ]
     },
     "execution_count": 18,
     "metadata": {},
     "output_type": "execute_result"
    }
   ],
   "source": [
    "c_geladen = np.loadtxt('daten.csv', delimiter = ',')\n",
    "c_geladen"
   ]
  },
  {
   "cell_type": "markdown",
   "metadata": {},
   "source": [
    "## 7.5. [HDF5](https://www.hdfgroup.org/solutions/hdf5/)-Dateien\n",
    "\n",
    "HDF: *Hierarchical Data Format*\n",
    "\n",
    "Mögliche Python-Module:\n",
    "  * [h5py](https://docs.h5py.org/en/stable/)\n",
    "  * [tables](https://www.pytables.org/usersguide/tutorials.html) (PyTables)"
   ]
  },
  {
   "cell_type": "code",
   "execution_count": 19,
   "metadata": {},
   "outputs": [
    {
     "name": "stdout",
     "output_type": "stream",
     "text": [
      "[[[-0.41675785 -0.05626683 -2.1361961   1.64027081]\n",
      "  [-1.79343559 -0.84174737  0.50288142 -1.24528809]\n",
      "  [-1.05795222 -0.90900761  0.55145404  2.29220801]]\n",
      "\n",
      " [[ 0.04153939 -1.11792545  0.53905832 -0.5961597 ]\n",
      "  [-0.0191305   1.17500122 -0.74787095  0.00902525]\n",
      "  [-0.87810789 -0.15643417  0.25657045 -0.98877905]]]\n"
     ]
    }
   ],
   "source": [
    "import numpy as np\n",
    "\n",
    "x = 2\n",
    "info = 'Infos zu den Daten'\n",
    "np.random.seed(2)\n",
    "die_daten = np.random.randn(24).reshape(2,3,4)\n",
    "print(die_daten)"
   ]
  },
  {
   "cell_type": "markdown",
   "metadata": {},
   "source": [
    "Schreiben:"
   ]
  },
  {
   "cell_type": "code",
   "execution_count": 20,
   "metadata": {},
   "outputs": [
    {
     "ename": "ModuleNotFoundError",
     "evalue": "No module named 'h5py'",
     "output_type": "error",
     "traceback": [
      "\u001b[1;31m---------------------------------------------------------------------------\u001b[0m",
      "\u001b[1;31mModuleNotFoundError\u001b[0m                       Traceback (most recent call last)",
      "\u001b[1;32mc:\\Users\\josch\\Projects\\python_fuer_Ings\\07_Dateien.ipynb Cell 38'\u001b[0m in \u001b[0;36m<cell line: 1>\u001b[1;34m()\u001b[0m\n\u001b[1;32m----> <a href='vscode-notebook-cell:/c%3A/Users/josch/Projects/python_fuer_Ings/07_Dateien.ipynb#ch0000037?line=0'>1</a>\u001b[0m \u001b[39mimport\u001b[39;00m \u001b[39mh5py\u001b[39;00m\n\u001b[0;32m      <a href='vscode-notebook-cell:/c%3A/Users/josch/Projects/python_fuer_Ings/07_Dateien.ipynb#ch0000037?line=2'>3</a>\u001b[0m datei \u001b[39m=\u001b[39m h5py\u001b[39m.\u001b[39mFile(\u001b[39m'\u001b[39m\u001b[39mhdf_daten.h5\u001b[39m\u001b[39m'\u001b[39m, \u001b[39m'\u001b[39m\u001b[39mw\u001b[39m\u001b[39m'\u001b[39m)\n\u001b[0;32m      <a href='vscode-notebook-cell:/c%3A/Users/josch/Projects/python_fuer_Ings/07_Dateien.ipynb#ch0000037?line=3'>4</a>\u001b[0m datei\u001b[39m.\u001b[39mcreate_dataset(\u001b[39m'\u001b[39m\u001b[39mdaten\u001b[39m\u001b[39m'\u001b[39m, data\u001b[39m=\u001b[39mdie_daten)\n",
      "\u001b[1;31mModuleNotFoundError\u001b[0m: No module named 'h5py'"
     ]
    }
   ],
   "source": [
    "import h5py\n",
    "\n",
    "datei = h5py.File('hdf_daten.h5', 'w')\n",
    "datei.create_dataset('daten', data=die_daten)\n",
    "datei.attrs['info']=info # metadaten\n",
    "datei.attrs['nr']=x # noch mehr metadaten\n",
    "datei.close()"
   ]
  },
  {
   "cell_type": "markdown",
   "metadata": {},
   "source": [
    "Lesen:"
   ]
  },
  {
   "cell_type": "code",
   "execution_count": null,
   "metadata": {},
   "outputs": [],
   "source": [
    "datei = h5py.File('hdf_daten.h5', 'r')\n",
    "print(datei.keys())\n",
    "print(datei['daten'][:])\n",
    "for key in datei.attrs.keys():\n",
    "    print(key,':', datei.attrs[key])\n",
    "datei.close()"
   ]
  },
  {
   "cell_type": "markdown",
   "metadata": {},
   "source": [
    "## 7.6. Weitere Dateitypen\n",
    "\n",
    "### 7.6.1 Matlab-Dateien\n",
    "\n",
    "[Schreiben](https://docs.scipy.org/doc/scipy/reference/generated/scipy.io.savemat.html) und [Lesen](https://docs.scipy.org/doc/scipy/reference/generated/scipy.io.loadmat.html) alter Matlab-Dateien (bis [Version 7.2](https://de.mathworks.com/help/matlab/import_export/mat-file-versions.html))"
   ]
  },
  {
   "cell_type": "code",
   "execution_count": null,
   "metadata": {},
   "outputs": [],
   "source": [
    "from scipy.io import loadmat, savemat\n",
    "# Schreiben:\n",
    "savemat('datei.mat', {'daten':die_daten, 'info':info, 'nr':x})\n",
    "# Lesen:\n",
    "mat_dictionary = loadmat('datei.mat')\n",
    "mat_dictionary"
   ]
  },
  {
   "cell_type": "markdown",
   "metadata": {},
   "source": [
    "MAT-Dateien ab [Version 7.3](https://de.mathworks.com/help/matlab/import_export/mat-file-versions.html) sind HDF-Dateien. Schreiben und Lesen dieser Dateien siehe oben (7.5.)."
   ]
  },
  {
   "cell_type": "markdown",
   "metadata": {},
   "source": [
    "### 7.6.2. WAV-Dateien\n",
    "\n",
    "[Schreiben](https://docs.scipy.org/doc/scipy-0.14.0/reference/generated/scipy.io.wavfile.write.html) und [Lesen](https://docs.scipy.org/doc/scipy-0.14.0/reference/generated/scipy.io.wavfile.read.html) mit Funktionen aus dem Modul [*scipy.io*](https://docs.scipy.org/doc/scipy/reference/io.html)."
   ]
  },
  {
   "cell_type": "code",
   "execution_count": null,
   "metadata": {},
   "outputs": [],
   "source": [
    "import numpy as np\n",
    "from scipy.io.wavfile import write\n",
    "\n",
    "fs = 44100\n",
    "tn = 3\n",
    "n = fs*tn\n",
    "\n",
    "f1 = 440\n",
    "f2 = f1*2**(1/3)\n",
    "t = np.linspace(0,3,n,endpoint=False)\n",
    "p = np.sin(2*np.pi*f1*t) + np.sin(2*np.pi*f2*t) + 0.5*np.random.randn(n)\n",
    "\n",
    "\n",
    "fname = 'ton_%dHz_%dHz_rauschen.wav' % (int(f1), int(f2))\n",
    "write(fname, fs, p)\n",
    "#sample_rate, data = read(fname)"
   ]
  },
  {
   "cell_type": "markdown",
   "metadata": {},
   "source": [
    "### 7.6.2. Excel-Dateien\n",
    "\n",
    "Import z.B. mit der Funktion [*read_excel*](https://pandas.pydata.org/pandas-docs/stable/reference/api/pandas.read_excel.html) aus dem umfangreichen Datenanalyse-Modul [*pandas*](https://pandas.pydata.org/)."
   ]
  },
  {
   "cell_type": "code",
   "execution_count": null,
   "metadata": {},
   "outputs": [],
   "source": [
    "import pandas\n",
    "xls_inhalt=pandas.read_excel('eine_datei.xlsx') # liefert die erste Tabelle\n",
    "#xls_inhalt=pandas.read_excel('eine_datei.xlsx', sheet_name='Tabelle 2') # liefert \"Tabelle 2\"\n",
    "xls_inhalt"
   ]
  },
  {
   "cell_type": "markdown",
   "metadata": {},
   "source": [
    "Darüber hinaus können mit *pandas* auch viele [weitere Dateiformate](https://pandas.pydata.org/pandas-docs/stable/user_guide/io.html) verwendet werden, unter anderem auch JSON, HTML, HDF5, SQL und CSV."
   ]
  },
  {
   "cell_type": "code",
   "execution_count": null,
   "metadata": {},
   "outputs": [],
   "source": [
    "import pandas\n",
    "c_geladen_pandas=pandas.read_csv('daten.csv')\n",
    "c_geladen_pandas"
   ]
  },
  {
   "cell_type": "markdown",
   "metadata": {},
   "source": [
    "### 7.6.3. Bild-Dateien\n",
    "\n",
    "Mehrere Module bieten passende Funktionen zum Einlesen:\n",
    "\n",
    "  * [_**matplotlib**.pyplot.imread()_](https://matplotlib.org/3.1.1/api/_as_gen/matplotlib.pyplot.imread.html)\n",
    "  * [_**PIL**.Image.open()_](https://pillow.readthedocs.io/en/3.1.x/reference/Image.html)  \n",
    "  * [_**cv2**.imread()_](https://docs.opencv.org/2.4/modules/highgui/doc/reading_and_writing_images_and_video.html#imread) (hierfür muss ggf. [OpenCV](https://opencv.org/) nachinstalliert werden: `conda install opencv`)"
   ]
  }
 ],
 "metadata": {
  "interpreter": {
   "hash": "0c571aff4d4843af1b0b44e83f2cfef10b2caf11bb4e5b92dfe50fcc2a9b14f9"
  },
  "kernelspec": {
   "display_name": "Python 3.10.2 ('venv': venv)",
   "language": "python",
   "name": "python3"
  },
  "language_info": {
   "codemirror_mode": {
    "name": "ipython",
    "version": 3
   },
   "file_extension": ".py",
   "mimetype": "text/x-python",
   "name": "python",
   "nbconvert_exporter": "python",
   "pygments_lexer": "ipython3",
   "version": "3.10.2"
  }
 },
 "nbformat": 4,
 "nbformat_minor": 4
}
