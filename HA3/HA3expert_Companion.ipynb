{
 "cells": [
  {
   "cell_type": "markdown",
   "metadata": {
    "deletable": false,
    "editable": false,
    "tags": []
   },
   "source": [
    "# Hausaufgabe 3 (Expert Edition) − Companion\n",
    "<!-- Lizensiert unter (CC BY 4.0), Gert Herold -->\n",
    "\n",
    ">When tears are in your eyes, I will dry them all<br>\n",
    ">I'm on your side, when times get rough<br>\n",
    "> &emsp;&emsp;&emsp;&emsp;&emsp;&emsp;&emsp;&emsp;&emsp;&emsp;&mdash; <cite>[Paul Simon](https://www.youtube.com/watch?v=4G-YQA_bsOU)</cite>\n",
    "\n",
    "\n",
    "Wenn Sie bei der Bearbeitung der Hausaufgabe das Gefühl haben, nicht weiterzukommen oder nicht einmal einen Ansatz zur Lösung zu sehen − keine Sorge: Sie sind nicht die ersten und Sie sind nicht allein. Und: bisher haben es noch alle geschafft. Also, machen Sie sich einen Tee in einer Tasse, die nicht so leicht umkippt, legen Sie eine entspannte Musik auf und setzen Sie sich gemütlich an die Tastatur.\n",
    "Im Folgenden werden wir einige konkrete Schritte durchführen, um der Lösung von HA 3 näher zu kommen. \n",
    "\n",
    "_Dieses Dokument ist **nicht** Teil Ihrer HA3-Abgabe/-Abnahme, sondern nur zur optionalen Unterstützung oder z.B. als Grundlage für Fragen da._"
   ]
  },
  {
   "cell_type": "markdown",
   "metadata": {
    "deletable": false,
    "editable": false,
    "tags": []
   },
   "source": [
    "## Hilfreiche Übungsaufgaben\n",
    "\n",
    "Im Folgenden finden Sie einige Teilaufgaben, die Ihnen möglicherweise bei der Lösung helfen. Bearbeiten Sie auch das Notebook \"Hinweise zur Kreuzkorrelation\".\n",
    "Zunächst importieren wir dieselben Pakete wie in der HA und erstellen uns ein Array mit Zufallszahlen:"
   ]
  },
  {
   "cell_type": "code",
   "execution_count": null,
   "metadata": {},
   "outputs": [],
   "source": [
    "%matplotlib inline\n",
    "import matplotlib.pyplot as plt\n",
    "import numpy as np\n",
    "from scipy import signal\n",
    "\n",
    "np.random.seed(17)\n",
    "a = np.random.randn(10,10)\n",
    "a-=a.min()"
   ]
  },
  {
   "cell_type": "markdown",
   "metadata": {
    "deletable": false,
    "editable": false,
    "tags": []
   },
   "source": [
    "Als nächstes wollen wir das Array ein wenig kennenlernen.\n",
    "\n",
    "**HA3C.1) Finden Sie das Maximum im 2D-Array `a` und zeichnen Sie an der entsprechenden Stelle ein rotes 'x' in das Bild ein.**"
   ]
  },
  {
   "cell_type": "code",
   "execution_count": null,
   "metadata": {},
   "outputs": [],
   "source": [
    "plt.figure(1,(7,7))\n",
    "plt.imshow(a)\n",
    "\n",
    "# Hier eigenen Code schreiben ...\n"
   ]
  },
  {
   "attachments": {
    "fig3x3.png": {
     "image/png": "[encoded data removed]"
    }
   },
   "cell_type": "markdown",
   "metadata": {
    "deletable": false,
    "editable": false,
    "tags": []
   },
   "source": [
    "In der HA soll das Bild ja in Unterbereiche aufgeteilt werden. Das können wir ja gleich hier mal üben.\n",
    "\n",
    "**HA3C.2) Teilen Sie das Array `a` in 3x3 Unter-Arrays mit je 3x3 Einträgen auf und stellen Sie diese Arrays entsprechend ihrer [Anordnung](https://matplotlib.org/api/_as_gen/matplotlib.pyplot.subplot.html) im Ausgangs-Array dar. Verwerfen Sie Daten, die nicht mehr in das 3x3-Schema passen.**  \n",
    "\n",
    "Die Lösung sollte in etwa so aussehen:\n",
    "\n",
    "![fig3x3.png](attachment:fig3x3.png) \n",
    "\n",
    "Diskutieren Sie die Unterschiede zur Visualisierung in der vorangegangenen Aufgabe. (*Warum sind die Farben anders?*)"
   ]
  },
  {
   "cell_type": "code",
   "execution_count": null,
   "metadata": {},
   "outputs": [],
   "source": [
    "plt.figure(2,(7,7))\n",
    "# Hier eigenen Code schreiben ...\n"
   ]
  },
  {
   "attachments": {
    "fig1x5.png": {
     "image/png": "[encoded data removed]"
    },
    "fig2x4.png": {
     "image/png": "[encoded data removed]"
    },
    "fig4x2.png": {
     "image/png": "[encoded data removed]"
    }
   },
   "cell_type": "markdown",
   "metadata": {
    "deletable": false,
    "editable": false,
    "tags": []
   },
   "source": [
    "**HA3C.3) Wiederholen Sie Aufgabe HA3C.2, aber teilen Sie `a` nun in Unter-Arrays mit je 2x4 Einträgen auf (verwenden Sie so viele Daten aus dem Ausgangs-Array wie möglich). Halten Sie ihren Code so allgemein, dass sie nur die Parameter `M` und `N` ändern müssen, um die Dimension der Unter-Arrays zu 4x2 oder 1x5 zu ändern.**\n",
    "\n",
    "![fig2x4.png](attachment:fig2x4.png)&nbsp;&nbsp;&nbsp;&nbsp;&nbsp;&nbsp;&nbsp;&nbsp;&nbsp;&nbsp;&nbsp;&nbsp;\n",
    "![fig4x2.png](attachment:fig4x2.png)&nbsp;&nbsp;&nbsp;&nbsp;&nbsp;&nbsp;&nbsp;&nbsp;&nbsp;&nbsp;&nbsp;&nbsp;\n",
    "![fig1x5.png](attachment:fig1x5.png) \n"
   ]
  },
  {
   "cell_type": "code",
   "execution_count": null,
   "metadata": {},
   "outputs": [],
   "source": [
    "plt.figure(3,(3,4))\n",
    "M = 2\n",
    "N = 4\n",
    "\n",
    "# Hier eigenen Code schreiben ...\n"
   ]
  },
  {
   "cell_type": "markdown",
   "metadata": {
    "deletable": false,
    "editable": false,
    "tags": []
   },
   "source": [
    "Überlegen Sie, [wie](https://de.wikipedia.org/wiki/Padding_(Informatik)) wir es realisieren könnten, dass unabhängig von der gewählten Größe der Unterarrays doch alle Daten verwertet werden (also *keine* Daten verworfen, falls die Anzahl nicht aufgeht). Ob Sie für die Lösung von HA 3 einige Daten vom Bildrand verwerfen oder nicht, ist Ihnen überlassen.\n",
    "\n",
    "Nebem dem Aufteilen in Unter-Arrays ist es in HA 3 auch notwendig, Berechnungen mit den einzelnen \"herausgeschnittenen\" Arrays vorzunehmen. Darum soll es in den folgenden Übungen gehen. Als exemplarisches Unter-Array nehmen wir hier das gesamte Array `a` und kopieren seinen Inhalt in zwei neue Arrays.\n",
    "\n",
    "**HA3C.4) Setzen Sie den Werte `b1[2,5]` und `c1[-5,-2]` auf `8`. Erzeugen Sie zwei weitere Arrays `b2` und `c2` als Kopien von `b1` und `c1` , wo Sie bei denselben Indizes jeweils noch einmal `8` hinzuaddieren. Berechnen Sie die Mittelwerte aller Arrays.**\n",
    "\n",
    "$$\n",
    "\\bar{a} \\approx 3{,}511\\\\\n",
    "\\bar{b}_1 \\approx 3{,}556\\\\\n",
    "\\bar{c}_1 \\approx 3{,}565\\\\\n",
    "\\bar{b}_2 \\approx 3{,}636\\\\\n",
    "\\bar{c}_2 \\approx 3{,}645\\\\\n",
    "$$"
   ]
  },
  {
   "cell_type": "code",
   "execution_count": null,
   "metadata": {},
   "outputs": [],
   "source": [
    "b1=a.copy()\n",
    "c1=a.copy()\n",
    "# Hier eigenen Code schreiben ...\n"
   ]
  },
  {
   "cell_type": "markdown",
   "metadata": {
    "deletable": false,
    "editable": false,
    "tags": []
   },
   "source": [
    "Unsere Arrays haben nur positive Werte. Das ist erstmal ja nicht schlimm, aber wir haben ja aus den \"Hinweisen zur Kreuzkorrelation\" gelernt, dass das beim Korrelieren zu Problemen führen kann.\n",
    "\n",
    "**HA3C.5) Erzeugen Sie für jedes Array aus der letzten Teilaufgabe ein Array (z.B. für `b1` ein Array `b1m`), das dieselbe relative Verteilung an Werten hat, jedoch den Mittelwert 0. Visualisieren Sie die Arraywerte in einer Abbildung mit der Anordnung:**\n",
    "```\n",
    "[b1 ] [c1 ] [b2 ] [c2 ]\n",
    "[b1m] [c1m] [b2m] [c2m]\n",
    "```"
   ]
  },
  {
   "cell_type": "code",
   "execution_count": null,
   "metadata": {},
   "outputs": [],
   "source": [
    "plt.figure(4,(13,5))\n",
    "# Hier eigenen Code schreiben ...\n"
   ]
  },
  {
   "cell_type": "markdown",
   "metadata": {
    "deletable": false,
    "editable": false,
    "tags": []
   },
   "source": [
    "Die beiden Zeilen sollten identisch aussehen bzw. sich dann unterscheiden, wenn Sie nach der Visualisierung für jedes Array noch eine Farbskala hinzufügen (`plt.colorbar()`).\n",
    "\n",
    "**HA3C.6) Bestimmen Sie die [Kreuzkorrelationen](https://docs.scipy.org/doc/scipy/reference/generated/scipy.signal.correlate2d.html):**\n",
    "\n",
    "$$\n",
    "k_1 = b_1 \\star c_1\\\\\n",
    "k_{1m} = b_{1m} \\star c_{1m}\\\\\n",
    "k_2 = b_2 \\star c_2\\\\\n",
    "k_{2m} = b_{2m} \\star c_{2m}\\\\\n",
    "$$\n",
    "\n",
    "**und stellen Sie die sich ergebenden Arrays in folgender Anordnung dar:**\n",
    "\n",
    "```\n",
    "[k1 ] [k2 ]\n",
    "[k1m] [k2m]\n",
    "```"
   ]
  },
  {
   "cell_type": "code",
   "execution_count": null,
   "metadata": {},
   "outputs": [],
   "source": [
    "plt.figure(5,(8,8))\n",
    "# Hier eigenen Code schreiben ...\n"
   ]
  },
  {
   "cell_type": "markdown",
   "metadata": {
    "deletable": false,
    "editable": false,
    "tags": []
   },
   "source": [
    "Diskutieren Sie: Was bedeuten diese Abbildungen und warum unterscheiden sich diesmal die Zeilen? Wie sähe das Ergebnis für ($a \\star a$) und ($a_m \\star a_m$) aus? Testen Sie auch mal, was passiert, wenn Sie das Ausgangs-Array `a` statt mit Zufallszahlen komplett mit Einsen füllen.\n",
    "\n",
    "**HA3C.7) Berechnen Sie aus dem Ergebnis der vorangegangenen Teilaufgabe, wie viele vertikale und horizontale Pixel die hinzugefügten Werte in `b2` und `c2` auseinanderliegen.**\n",
    "\n",
    "Wir wissen natürlich, wie weit diese auseinanderliegen, weil wir sie oben selbst hinzugefügt haben. Vergessen Sie dieses Wissen aber zunächst und versuchen Sie, die Abstände der Pixel aus den Korrelationsergebnissen zu ermitteln. Schauen Sie sich dazu ggf. auch noch mal den *Versatz* in den \"Hinweisen zur Kreuzkorrelation\" an. Am Ende sollten Sie sich wieder an unser Vorwissen erinnern, um zu überprüfen, ob das Rechenergebnis korrekt ist."
   ]
  },
  {
   "cell_type": "code",
   "execution_count": null,
   "metadata": {},
   "outputs": [],
   "source": [
    "# Hier eigenen Code schreiben ...\n",
    "\n"
   ]
  },
  {
   "cell_type": "markdown",
   "metadata": {
    "deletable": false,
    "editable": false,
    "tags": []
   },
   "source": [
    "Variieren Sie gern auch mal die entsprechenden Indizes in HA3C.4), um Ihren Code zu testen. Diskutieren Sie Teillösungen gern im \"Python-Hilfe\"-Forum, in Ihrem Freundeskreis oder mit Ihren Eltern oder Kindern. Reichen Sie *dieses* Dokument wie gesagt bitte *nicht* mit Ihrer HA3-Abgabe ein.\n",
    "\n",
    "Wenn Sie hier alles korrekt berechnet und verstanden haben, sind Sie aber fast schon fertig mit HA 3 (Expert Edition) und können Ihr Wissen direkt in die eigentliche Hausaufgabe übertragen. **Viel Erfolg!**"
   ]
  }
 ],
 "metadata": {
  "kernelspec": {
   "display_name": "Python 3 (ipykernel)",
   "language": "python",
   "name": "python3"
  },
  "language_info": {
   "codemirror_mode": {
    "name": "ipython",
    "version": 3
   },
   "file_extension": ".py",
   "mimetype": "text/x-python",
   "name": "python",
   "nbconvert_exporter": "python",
   "pygments_lexer": "ipython3",
   "version": "3.9.5"
  }
 },
 "nbformat": 4,
 "nbformat_minor": 4
}
