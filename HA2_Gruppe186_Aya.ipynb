{
 "cells": [
  {
   "cell_type": "markdown",
   "metadata": {},
   "source": [
    "# Hausaufgabe 2\n",
    "## Ablassung eines Stausees\n",
    "<!-- Lizensiert unter (CC BY 4.0) Gert Herold, 2021 -->\n",
    "\n",
    "Wegen Reparaturarbeiten an der Staumauer einer Talsperre soll das Wasser abgelassen werden. Der See habe ein Fassungsvermögen von $215 \\cdot 10^6\\,\\text{m}^3$. Die Oberfläche des Stausees erstrecke sich über $10\\,\\text{km}^2$. Der Wasserauslass auf Grundhöhe habe einen Querschnitt von $2\\,\\text{m}^2$. Der Fluss selbst werde so umgeleitet, dass kein Wasser in den See nachfließen kann."
   ]
  },
  {
   "cell_type": "markdown",
   "metadata": {},
   "source": [
    "### 1) Anfangsbedingungen\n",
    "\n",
    "**1.1) Es werde angenommen, die Form des Sees lasse sich mit einem umgedrehten [Kegel](https://de.wikipedia.org/wiki/Kegel_(Geometrie)) annähern. Wie tief ist dann der See?**\n",
    "\n",
    "Speichern Sie das Ergebnis (in Metern) in der Variablen `h0` und geben Sie sie aus."
   ]
  },
  {
   "cell_type": "code",
   "execution_count": 1,
   "metadata": {},
   "outputs": [
    {
     "name": "stdout",
     "output_type": "stream",
     "text": [
      "Die Tiefe des Sees: 64.5 m\n"
     ]
    }
   ],
   "source": [
    "h0 = None \n",
    "# Hier eigenen Code schreiben ...\n",
    "\n",
    "V = 215 * 10**6 # Fassungsvermögen: m^3\n",
    "oberflaeche = 10 * 10**6 # km^2 ->m^2\n",
    "grundflaeche = 2 # m^2\n",
    "\n",
    "# Tiefe = 3 * fassungsvermoegen / oberflaeche\n",
    "h0 = 3 * V / oberflaeche\n",
    "print(f'Die Tiefe des Sees: {h0} m')"
   ]
  },
  {
   "cell_type": "code",
   "execution_count": 2,
   "metadata": {
    "deletable": false,
    "editable": false,
    "tags": []
   },
   "outputs": [],
   "source": [
    "# Hier ist ein Plausibilitäts-Test:\n",
    "assert 60 < h0 < 80"
   ]
  },
  {
   "cell_type": "markdown",
   "metadata": {},
   "source": [
    "Vereinfachend werde angenommen, dass die sich ausbildende Strömung sich mithilfe der [Bernoulli-Gleichung](https://de.wikipedia.org/wiki/Bernoulli-Gleichung) beschreiben lasse:\n",
    "\n",
    "$$\n",
    "\\frac{u^2}{2}+\\frac{p}{\\rho}+g \\, z = \\text{const}\n",
    "$$\n",
    "\n",
    "Dabei beschreibt $u$ die Strömungsgeschwindigkeit des Fluids an einer beliebigen betrachteten Stelle, $p$ den hydrodynamischen Druck, $\\rho$ die Dichte und $z$ die Höhe. $g=9{,}81\\frac{\\text{m}}{\\text{s}^2}$ ist die Erdbeschleunigung. Werden nur die Seeoberfläche und der Ausfluss betrachtet, so kann der Druck $p$ ebenfalls als konstant angenommen werden, da er dem Umgebungsdruck entspricht. Ebenso wird die Dichte als konstant angenommen, und die obige Gleichung vereinfacht sich zu \n",
    "\n",
    "$$\n",
    "\\frac{u^2}{2}+g \\, z = \\text{const}\n",
    "$$\n",
    "\n",
    "bzw. für oben und unten:\n",
    "\n",
    "$$\n",
    "\\frac{u_\\text{oben}^2}{2}+g \\, z_\\text{oben} = \\frac{u_\\text{unten}^2}{2}+g \\, z_\\text{unten}\n",
    "$$"
   ]
  },
  {
   "cell_type": "markdown",
   "metadata": {},
   "source": [
    "**1.2) Berechnen Sie die sich anfangs ausbildende Strömungsgeschwindigkeit am Ausfluss $u_\\text{unten,0}$ (`u_unten0`) in m/s sowie den Volumenstrom $\\dot{V_0}$ (`Vdot0`) in m³/s unter der Annahme, dass die Bewegung der Seeoberfläche vernachlässigbar ist.**"
   ]
  },
  {
   "cell_type": "code",
   "execution_count": 3,
   "metadata": {},
   "outputs": [],
   "source": [
    "import numpy as np"
   ]
  },
  {
   "cell_type": "code",
   "execution_count": 4,
   "metadata": {},
   "outputs": [
    {
     "name": "stdout",
     "output_type": "stream",
     "text": [
      "Strömungsgeschwindigkeit u_unten0: 35.57 m/s\n",
      "Volumenstrom Vdot0: 71.15 m^3/s\n"
     ]
    }
   ],
   "source": [
    "u_unten0 = None # Strömungsgeschwindigkeit der Grundfläche\n",
    "Vdot0 = None\n",
    "# Hier eigenen Code schreiben ...\n",
    "\n",
    "g = 9.81 # Erdbeschleunigung:  m/s^2\n",
    "z_oben = h0 # 64.5m\n",
    "z_unten = z_oben - h0 # = 0m\n",
    "#u_oben = 0\n",
    "\n",
    "'''\n",
    "Strömungsgeschwindigkeit u_unten0\n",
    "Formel: u^2_oben /2 + g * z_oben = u^2_unten / 2 + g * z_unten\n",
    "=> u_unten^2 = 2 * g * z_oben\n",
    "'''\n",
    "u_unten0 = np.sqrt(2 * g * z_oben)\n",
    "print(f'Strömungsgeschwindigkeit u_unten0: {u_unten0:.2f} m/s')\n",
    "#type(u_unten0)\n",
    "\n",
    "'''\n",
    "Volumenstrom Vdot0\n",
    "Formel: Volumenstrom(m^3/s) = Strömgeschwindigkeit * Querschnittfläche\n",
    "'''\n",
    "Vdot0 = u_unten0 * grundflaeche\n",
    "print(f'Volumenstrom Vdot0: {Vdot0:.2f} m^3/s')\n",
    "\n",
    "#const = u_unten0 /2 + g * z_unten\n",
    "#print(f'const: {const:.2f}')\n"
   ]
  },
  {
   "cell_type": "code",
   "execution_count": 5,
   "metadata": {
    "deletable": false,
    "editable": false,
    "tags": []
   },
   "outputs": [],
   "source": [
    "# Hier sind einige Plausibilitäts-Tests:\n",
    "assert u_unten0 > 30\n",
    "assert Vdot0 < 80"
   ]
  },
  {
   "cell_type": "markdown",
   "metadata": {},
   "source": [
    "Tipp: Um die Kreiszahl $\\pi$ unter Python verwenden zu können, muss man sie entweder selbst definieren oder z.B. aus dem [NumPy-Modul](https://numpy.org/) importieren. Für ein Beispiel den folgenden Code-Abschnitt öffnen."
   ]
  },
  {
   "cell_type": "code",
   "execution_count": 6,
   "metadata": {
    "tags": []
   },
   "outputs": [
    {
     "name": "stdout",
     "output_type": "stream",
     "text": [
      "Radius: 1.78 km\n"
     ]
    }
   ],
   "source": [
    "# Importiere pi aus numpy\n",
    "from numpy import pi\n",
    "\n",
    "# Berechne den \"Radius\" der Seeoberfläche\n",
    "r0 = (oberflaeche/pi)**0.5\n",
    "print(f'Radius: {r0/1000:.2f} km')"
   ]
  },
  {
   "cell_type": "markdown",
   "metadata": {},
   "source": [
    "### 2) Leerung des Sees\n",
    "\n",
    "**2.1) Schreiben Sie eine Funktion, die die Tiefe des \"Kegel\"-Sees (in Metern) allgemein abhängig von der enthaltenen Wassermenge bestimmt.**"
   ]
  },
  {
   "cell_type": "code",
   "execution_count": 7,
   "metadata": {},
   "outputs": [],
   "source": [
    "# radius der Oberfläche mit maximaler Wassermenge\n",
    "r = r0\n",
    "# tiefe(höhe) mit maximaler Wassermenge\n",
    "h = h0\n",
    "\n",
    "def tiefe(V):\n",
    "    # Hier eigenen Code schreiben ...\n",
    "    '''\n",
    "    r / h = r0 / h0  => r0 = h0 * r / h ----(1)\n",
    "    \n",
    "    V = 1/3 * pi * r0**2 * h0\n",
    "      = 1/3 * pi * (h0 * r / h)**2 *h0 [mit (1)]\n",
    "      = 1/3 * pi * (r / h)**2 * h0**3\n",
    "      \n",
    "    => h0 = (3 * V / (pi * r**2 / h**2))**(1/3)\n",
    "    '''\n",
    "    \n",
    "    h0 = (3 * V / (np.pi * r**2 / h**2))**(1/3)\n",
    "    # print(f'Bei der Wassermenge {V/10**6:} km^3 ist die Tiefe {h0:.2f} m.')\n",
    "    return h0"
   ]
  },
  {
   "cell_type": "code",
   "execution_count": 8,
   "metadata": {},
   "outputs": [
    {
     "name": "stdout",
     "output_type": "stream",
     "text": [
      "Bei der Wassermenge 215 km^3 ist die Tiefe 64.50 m.\n"
     ]
    }
   ],
   "source": [
    "h0 = tiefe(V)\n",
    "print(f'Bei der Wassermenge {V/10**6:.0f} km^3 ist die Tiefe {h0:.2f} m.')"
   ]
  },
  {
   "cell_type": "code",
   "execution_count": 9,
   "metadata": {},
   "outputs": [
    {
     "name": "stdout",
     "output_type": "stream",
     "text": [
      "Bei der Wassermenge 10 km^3 ist die Tiefe 23.20 m.\n"
     ]
    }
   ],
   "source": [
    "h0_1 = tiefe(10*10**6)\n",
    "print(f'Bei der Wassermenge {10*10**6/10**6:.0f} km^3 ist die Tiefe {h0_1:.2f} m.')"
   ]
  },
  {
   "cell_type": "code",
   "execution_count": 10,
   "metadata": {},
   "outputs": [
    {
     "name": "stdout",
     "output_type": "stream",
     "text": [
      "Bei der Wassermenge 1 km^3 ist die Tiefe 10.77 m.\n"
     ]
    }
   ],
   "source": [
    "h0_2 = tiefe(1* 10**6)\n",
    "print(f'Bei der Wassermenge {1*10**6/10**6:.0f} km^3 ist die Tiefe {h0_2:.2f} m.')"
   ]
  },
  {
   "cell_type": "code",
   "execution_count": 11,
   "metadata": {
    "deletable": false,
    "editable": false,
    "tags": []
   },
   "outputs": [],
   "source": [
    "# Hier sind einige Plausibilitäts-Tests:\n",
    "assert abs(h0-tiefe(215e6)) < 1e-5\n",
    "assert abs(50-tiefe(1e8)) < 0.1"
   ]
  },
  {
   "cell_type": "markdown",
   "metadata": {},
   "source": [
    "**2.2) Schreiben Sie eine Funktion, die den diskreten Zeitverlauf der Wassertiefe $h(t)$ bis zur Leerung des Sees zurückgibt.**\n",
    "\n",
    "  * Die Funktion soll ein Startvolumen $V_0$ und eine Zeitschrittweite $\\Delta t$ übergeben bekommen.\n",
    "  * Verwenden Sie in den Berechnungen standardmäßig [SI-Einheiten](https://de.wikipedia.org/wiki/Internationales_Einheitensystem).\n",
    "  * Beachten Sie, dass sich auch der Volumenstrom zeitlich ändert.\n",
    "  * Die Funktion soll alle berechneten Zeiten und die jeweils zugehörigen Tiefen in zwei getrennten Listen zurückgeben.\n",
    "  \n",
    "Hinweis: Die Änderung des Volumens lässt sich annähernd über $V_{n+1}=V_n-\\dot{V_n} \\cdot \\Delta t$ beschreiben."
   ]
  },
  {
   "cell_type": "code",
   "execution_count": 12,
   "metadata": {},
   "outputs": [],
   "source": [
    "def abfluss(V0, dt): # dt: Zeitschrittweite\n",
    "    # Hier eigenen Code schreiben ...\n",
    "    # Zeitverlauf\n",
    "    t = 0\n",
    "    # Zeiten in List\n",
    "    zeiten = []\n",
    "    # die zugehörige Tiefen\n",
    "    tiefen = []\n",
    "    \n",
    "    while V0 > 0:\n",
    "        # Zeit\n",
    "        #print(t)\n",
    "        zeiten.append(t)\n",
    "        \n",
    "        # Tiefe\n",
    "        ht = tiefe(V0) \n",
    "        #print(h0)\n",
    "        tiefen.append(ht)\n",
    "        \n",
    "        # Strömungsgeschwindigkeit\n",
    "        u_unten0 = np.sqrt(2 * g * ht)\n",
    "        \n",
    "        # Volumenstrom\n",
    "        Vdot0 = u_unten0 * grundflaeche\n",
    "        \n",
    "        # Aktualisierung des Volumenstroms\n",
    "        V0 = V0 - Vdot0 * dt\n",
    "        \n",
    "        # aktualisierung der Zeit \n",
    "        t = t + dt\n",
    "    #print(zeiten)\n",
    "    #print(tiefen)\n",
    "    return zeiten, tiefen"
   ]
  },
  {
   "cell_type": "code",
   "execution_count": 13,
   "metadata": {},
   "outputs": [
    {
     "name": "stdout",
     "output_type": "stream",
     "text": [
      "Zeiten: [0, 1000000, 2000000, 3000000]\n",
      "Tiefen: [64.49999999999999, 56.41389428871544, 45.866946877355986, 27.855155353239425]\n"
     ]
    }
   ],
   "source": [
    "zeiten, tiefen = abfluss(V, 10**6)\n",
    "print(f'Zeiten: {zeiten}')\n",
    "print(f'Tiefen: {tiefen}')"
   ]
  },
  {
   "cell_type": "code",
   "execution_count": 14,
   "metadata": {
    "deletable": false,
    "editable": false,
    "tags": []
   },
   "outputs": [],
   "source": [
    "# Hier sind einige Plausibilitäts-Tests:\n",
    "assert len(abfluss(10,1))==2\n",
    "assert type(abfluss(10,1)[0])==type(abfluss(10,1)[1])==list"
   ]
  },
  {
   "cell_type": "markdown",
   "metadata": {},
   "source": [
    "**2.3) Wie lange dauert es, bis der Stausee komplett abgelassen wurde?** \n",
    "\n",
    "Plotten Sie den Zeitverlauf der Wassertiefe bis zur Leerung für zwei Zeitschrittweiten:\n",
    "  * $\\Delta t_1$ = 1 Minute\n",
    "  * $\\Delta t_2$ = 4 Tage\n",
    "\n",
    "**Diskutieren Sie Auffälligkeiten.**"
   ]
  },
  {
   "cell_type": "code",
   "execution_count": 15,
   "metadata": {},
   "outputs": [],
   "source": [
    "%matplotlib inline\n",
    "from matplotlib.pyplot import plot, show\n",
    "# Plotbefehl: plot(x_werte_liste, y_werte_liste)\n",
    "\n",
    "# Hier eigenen Code schreiben ...\n",
    "\n",
    "def plotTiefen(V):\n",
    "    import matplotlib.pyplot as plt\n",
    "    \n",
    "    plt. figure(figsize=(8,5))\n",
    "\n",
    "    dt1 = 1 * 60\n",
    "    dt2 = 4 * 24 * 60 * 60\n",
    "    zeiten_1, tiefen_1 = abfluss(V, dt1)\n",
    "    plot(zeiten_1, tiefen_1, label='dt2= 1 minute')\n",
    "    #print(zeiten_1)\n",
    "\n",
    "    zeiten_2,tiefen_2 = abfluss(V, dt2)\n",
    "    plot(zeiten_2, tiefen_2,label='dt2 = 4 Tage')\n",
    "    plt.legend()\n",
    "    plt.xlabel('Zeit [s]')\n",
    "    plt.ylabel('Tiefe [m]')\n",
    "    plt.grid()\n",
    "\n",
    "    show()"
   ]
  },
  {
   "cell_type": "code",
   "execution_count": 16,
   "metadata": {},
   "outputs": [
    {
     "data": {
      "image/png": "[encoded data removed]",
      "text/plain": [
       "<Figure size 576x360 with 1 Axes>"
      ]
     },
     "metadata": {
      "needs_background": "light"
     },
     "output_type": "display_data"
    }
   ],
   "source": [
    "plotTiefen(V)"
   ]
  },
  {
   "cell_type": "markdown",
   "metadata": {},
   "source": [
    "Der Graph impliziert, dass die Tiefe sich im Laufe der Zeit schneller (exponentiell) kleiner wird.\n",
    "Bei der Zeitschrittweit 4 Tage sind die Werte nicht genau zu messen."
   ]
  },
  {
   "cell_type": "markdown",
   "metadata": {},
   "source": [
    "### 3) Anderer See\n",
    "\n",
    "Wiederholen Sie Aufgabenteil 2.3) unter der Annahme, dass der See bei gleichem Volumen und gleicher Oberfläche annähernd durch einen *Zylinder* beschrieben wird. Schreiben Sie hierfür möglichst wenig neuen Code."
   ]
  },
  {
   "cell_type": "code",
   "execution_count": 17,
   "metadata": {},
   "outputs": [],
   "source": [
    "# Hier eigenen Code schreiben ...\n",
    "'''\n",
    "Formel für Zylinder\n",
    "V = oberfläche * Tiefe\n",
    "'''\n",
    "def tiefe(V):\n",
    "    h0_zyl = V / oberflaeche\n",
    "    return h0_zyl"
   ]
  },
  {
   "cell_type": "code",
   "execution_count": 18,
   "metadata": {},
   "outputs": [
    {
     "data": {
      "text/plain": [
       "21.5"
      ]
     },
     "execution_count": 18,
     "metadata": {},
     "output_type": "execute_result"
    }
   ],
   "source": [
    "tiefe(V)"
   ]
  },
  {
   "cell_type": "code",
   "execution_count": 19,
   "metadata": {},
   "outputs": [
    {
     "name": "stdout",
     "output_type": "stream",
     "text": [
      "Zeiten bei Zylinder: [0, 1000000, 2000000, 3000000, 4000000, 5000000, 6000000, 7000000, 8000000]\n",
      "Tiefen bei Zylinder: [21.5, 17.39229991357694, 13.697780056792414, 10.419058081910938, 7.559534208486605, 5.12381615279537, 3.1185304083903973, 1.5541063404009074, 0.4497229577177776]\n"
     ]
    }
   ],
   "source": [
    "zeiten_zyl, tiefen_zyl = abfluss(V, 10**6)\n",
    "print(f'Zeiten bei Zylinder: {zeiten_zyl}')\n",
    "print(f'Tiefen bei Zylinder: {tiefen_zyl}')"
   ]
  },
  {
   "cell_type": "code",
   "execution_count": 62,
   "metadata": {},
   "outputs": [
    {
     "data": {
      "image/png": "[encoded data removed]",
      "text/plain": [
       "<Figure size 576x360 with 1 Axes>"
      ]
     },
     "metadata": {
      "needs_background": "light"
     },
     "output_type": "display_data"
    }
   ],
   "source": [
    "plotTiefen(V)"
   ]
  },
  {
   "cell_type": "code",
   "execution_count": null,
   "metadata": {},
   "outputs": [],
   "source": []
  }
 ],
 "metadata": {
  "interpreter": {
   "hash": "05c41107b0fab1ebc25dac63fe2cf121cec9e3bed0c404a43af7500cb00b791b"
  },
  "kernelspec": {
   "display_name": "Python 3.10.4 ('venv': venv)",
   "language": "python",
   "name": "python3"
  },
  "language_info": {
   "codemirror_mode": {
    "name": "ipython",
    "version": 3
   },
   "file_extension": ".py",
   "mimetype": "text/x-python",
   "name": "python",
   "nbconvert_exporter": "python",
   "pygments_lexer": "ipython3",
   "version": "3.10.4"
  }
 },
 "nbformat": 4,
 "nbformat_minor": 4
}
