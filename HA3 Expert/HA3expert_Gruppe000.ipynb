{
 "cells": [
  {
   "cell_type": "markdown",
   "metadata": {
    "deletable": false,
    "editable": false,
    "tags": []
   },
   "source": [
    "# Hausaufgabe 3 (Expert Edition)\n",
    "## \"Where do you go to, my particles?\"\n",
    "<!-- Lizensiert unter (CC BY 4.0), Gert Herold -->\n",
    "\n",
    "Zur Charakterisierung der Bewegung in einem Strömungsfeldes findet häufig das optische Messverfahren [Particle Image Velocimetry (PIV)](https://de.wikipedia.org/wiki/Particle_Image_Velocimetry) Anwendung.\n",
    "Hierfür werden in das Fluid eingebrachte Partikel mit einem zur Ebene aufgeweiteten Laserstrahl beleuchtet und in kurzen Abständen [nacheinander fotografiert](https://www.youtube.com/watch?v=JbuuhpQCWz8).\n",
    "Aus der Ortsveränderung der Partikel und dem bekannten Abstand zwischen den Aufnahmen können die Geschwindigkeitsvektoren bestimmt werden.\n",
    "\n",
    "Es sollen Funktionen geschrieben werden, mit deren Hilfe sich Berechnung und Visualisierung eines Geschwindigkeits-Vektorfeldes basierend auf zwei aufgenommenen Bildern realisieren lassen.\n",
    "\n",
    "Zunächst werden einige Module importiert, die hilfreiche Funktionen zur Verfügung stellen:"
   ]
  },
  {
   "cell_type": "code",
   "execution_count": null,
   "metadata": {
    "deletable": false,
    "editable": false,
    "tags": []
   },
   "outputs": [],
   "source": [
    "%matplotlib inline\n",
    "import matplotlib.pyplot as plt\n",
    "import numpy as np\n",
    "from scipy import signal"
   ]
  },
  {
   "cell_type": "markdown",
   "metadata": {
    "tags": []
   },
   "source": [
    "### 1) Einlesen der Daten\n",
    "\n",
    "Zusammen mit diesem Dokument gehört zu dieser HA noch das Archiv \"*img_HA3.zip*\". \n",
    "Entpacken Sie die Datei (gern ohne Python), sodass der Ordner \"_img_\" im selben Arbeitsverzeichnis wie dieses Notebook liegt.\n",
    "Die Bilddateien im _img_-Ordner sind Testfälle der \"PIV Challenge\"-Benchmark-Initiative (http://www.pivchallenge.org/). \n",
    "Folgende Bildpaare sollten vorhanden sein:\n",
    "\n",
    "|Bild 1| Bild 2|\n",
    "|-|-|\n",
    "|[B005_1.tif](http://www.pivchallenge.org/pub/index.html#b)|[B005_2.tif](http://www.pivchallenge.org/pub/index.html#b)|\n",
    "|[B038a.bmp](http://www.pivchallenge.org/pub03/index.html#b)|[B038b.bmp](http://www.pivchallenge.org/pub03/index.html#b)|\n",
    "|[B_010.TIF](http://www.pivchallenge.org/pub05/index.html#b)|[B_014.TIF](http://www.pivchallenge.org/pub05/index.html#b)|\n",
    "|[A001_1.tif](http://www.pivchallenge.org/pub/index.html#a)|[A001_2.tif](http://www.pivchallenge.org/pub/index.html#a)|\n",
    "|[A045a.tif](http://www.pivchallenge.org/pub03/index.html#a)|[A045b.tif](http://www.pivchallenge.org/pub03/index.html#a)|\n",
    "\n",
    "Die Quellen der jeweiligen Bilder sind in der Tabelle verlinkt.\n",
    "Ein Bildpaar charakterisiert jeweils ein Strömungsfeld.\n",
    "Zusätzlich liegen im Ordner noch die kleineren Bildausschnitte \"B005_1c_i.jpg\" und \"B005_1c_s.jpg\".\n",
    "\n",
    "**1.1) Schreiben Sie eine Funktion *loaddata()* die zwei Arrays mit (Bildhöhe) $\\times$ (Bildbreite) Einträgen zurückgibt, die die Bildinformationen (Helligkeitswerte als Zahl) enthalten.**\n",
    "\n",
    "  * Als Parameter sollen hierfür zwei Dateipfade übergeben werden. Das Einlesen kann z.B. mittels [imread](https://matplotlib.org/3.1.1/api/_as_gen/matplotlib.pyplot.imread.html) geschehen.\n",
    "  * Eventuell im Bild enthaltene Farbinformationen sind hier nicht weiter von Interesse. Sind im Bild mehrere Farbkanäle pro Pixel enthalten (z.B. [RGB](https://de.wikipedia.org/wiki/RGB-Farbraum)), soll die Information auf einen Kanal reduziert werden, z.B. durch Auswahl oder Aufsummierung der Kanäle.\n",
    "  * Es soll direkt überprüft werden, ob beide Bilder dieselben Abmaße haben. Andernfalls ist eine Fehlermeldung auszugeben: \n",
    "  ```python \n",
    "        raise ValueError('Dimensions of input images do not match!')\n",
    "  ```"
   ]
  },
  {
   "cell_type": "code",
   "execution_count": null,
   "metadata": {},
   "outputs": [],
   "source": [
    "# Hier eigenen Code schreiben ...\n",
    "\n"
   ]
  },
  {
   "cell_type": "code",
   "execution_count": null,
   "metadata": {
    "deletable": false,
    "editable": false,
    "tags": []
   },
   "outputs": [],
   "source": [
    "# Hier sind einige Plausibilitätstests:\n",
    "assert len(loaddata('img/B005_1.tif', 'img/B005_1.tif'))==2, 'Anzahl Rückgabewerte.'\n",
    "_test_1 = loaddata('img/B005_1.tif', 'img/B005_1.tif')\n",
    "_test_2 = loaddata('img/B038a.bmp', 'img/B038b.bmp')\n",
    "assert _test_1[0].shape[0] == _test_1[0].shape[1] == _test_2[1].shape[0]\n",
    "assert _test_2[0].shape[0] < _test_2[0].shape[1] \n",
    "try:\n",
    "    loaddata('img/B038a.bmp', 'img/A001_1.tif')\n",
    "    assert False, 'Fehlermeldung erwartet.'\n",
    "except Exception as e:\n",
    "    assert str(e)=='Dimensions of input images do not match!', 'Fehlermeldung passt nicht.'    "
   ]
  },
  {
   "cell_type": "markdown",
   "metadata": {
    "deletable": false,
    "editable": false,
    "tags": []
   },
   "source": [
    "**1.2) Geben Sie für alle Dateipaare aus obiger Tabelle die Dimensionen der zurückgegebenen Arrays an.**"
   ]
  },
  {
   "cell_type": "code",
   "execution_count": null,
   "metadata": {},
   "outputs": [],
   "source": [
    "# Hier eigenen Code schreiben ...\n",
    "\n"
   ]
  },
  {
   "cell_type": "markdown",
   "metadata": {
    "deletable": false,
    "editable": false,
    "tags": []
   },
   "source": [
    "**1.3) Laden Sie die Daten aus dem Dateipaar (`B005_1.tif`, `B005_2.tif`) und visualisieren Sie den jeweiligen Array-Inhalt in zwei benachbarten Plots.**"
   ]
  },
  {
   "cell_type": "code",
   "execution_count": null,
   "metadata": {},
   "outputs": [],
   "source": [
    "# Hier eigenen Code schreiben ...\n",
    "\n"
   ]
  },
  {
   "cell_type": "markdown",
   "metadata": {
    "deletable": false,
    "editable": false,
    "tags": []
   },
   "source": [
    "### 2) Berechnen eines Translationsvektors\n",
    "\n",
    "__2.1) Schreiben Sie eine Funktion *velocity_vector()*, die zwei 2D-Arrays übergeben bekommt, einen 2D-Verschiebungsvektor zwischen beiden berechnet und diesen zurückgibt.__\n",
    "\n",
    "  * erstes Array: Suchfenster, zweites Array: Interrogationsfenster\n",
    "  * \"Wie weit muss ich das Interrogationsfenster verschieben, damit es genau das Suchfenster überlagert?\"\n",
    "  * Es genügt, wenn Sie quadratische Arrays betrachten.\n",
    "  * Falls die Arrays unterschiedlich groß sind, soll die Verschiebung relativ zur Zentrierung beider Arrays miteinander berechnet werden.\n",
    "  * Shape des zurückgegeben Verschiebungsvektors: (2,)\n",
    "  \n",
    "Hinweise:\n",
    "\n",
    "  * Eine zweidimensionale Kreuzkorrelation lässt sich z.B. mit den Funktionen [*correlate2d()*](https://docs.scipy.org/doc/scipy/reference/generated/scipy.signal.correlate2d.html) oder [*fftconvolve()*](https://docs.scipy.org/doc/scipy/reference/generated/scipy.signal.fftconvolve.html) aus dem Paket *scipy.signal* berechnen."
   ]
  },
  {
   "cell_type": "code",
   "execution_count": null,
   "metadata": {},
   "outputs": [],
   "source": [
    "# Hier eigenen Code schreiben ...\n",
    "\n"
   ]
  },
  {
   "cell_type": "code",
   "execution_count": null,
   "metadata": {
    "deletable": false,
    "editable": false,
    "tags": []
   },
   "outputs": [],
   "source": [
    "# Hier sind einige Plausibilitäts-Test:\n",
    "assert velocity_vector(np.eye(10,k=-1),np.eye(10,k=1)).shape == (2,)\n",
    "_test_3=np.zeros((7,7))\n",
    "_test_3[3,3]=1\n",
    "assert np.array_equal(velocity_vector(_test_3[3:6,3:6],_test_3),np.array([1,1]))"
   ]
  },
  {
   "cell_type": "markdown",
   "metadata": {
    "deletable": false,
    "editable": false,
    "tags": []
   },
   "source": [
    "**2.2) Testen Sie die Funktion, indem Sie die Translation der Teilchen von Bild `B005_1c_i.jpg` zu `B005_1c_s.jpg` berechnen und ausgeben.**"
   ]
  },
  {
   "cell_type": "code",
   "execution_count": null,
   "metadata": {},
   "outputs": [],
   "source": [
    "# Hier eigenen Code schreiben ...\n",
    "\n"
   ]
  },
  {
   "cell_type": "markdown",
   "metadata": {
    "deletable": false,
    "editable": false,
    "tags": []
   },
   "source": [
    "### 3) Berechnen und Visualisieren eines Geschwindigkeitsfeldes\n",
    "\n",
    "**3.1) Schreiben Sie eine Funktion _piv()_, die zwei Dateipfade übergeben bekommt und basierend auf den Bilddaten ein Geschwindigkeitsvektorfeld berechnet.**\n",
    "\n",
    "  * **Zusätzlich zu den beiden Dateipfaden sollen optional mindestens folgende Parameter an die Funktion übergeben werden können:**\n",
    "    * *size_interr_window*: Seitenlänge (in Pixel) des quadratischen Ausschnitts, dessen Bewegung untersucht werden soll. Standardwert: 20\n",
    "    * *size_search_window*: Seitenlänge (in Pixel) des quadratischen Ausschnitts, innerhalb dessen die höchste Korrelation gesucht werden soll. Der Wert muss sinnvollerweise mindestens so groß wie *size_interr_window* sein (andernfalls Fehlermeldung ausgeben). Standardwert: *None* (setzen auf *size_interr_window*, falls nicht angegeben)\n",
    "  * **Folgende Werte sollen _zurückgegeben_ werden:**\n",
    "    * *X*, *Y*: jeweils 2D-Arrays, die das Pixel-Koordinatengitter zum Vektorfeld definieren.\n",
    "    * *U*, *V*: jeweils 2D-Arrays (Dimensionen entsprechen (*len(x), len(y)*), die die Geschwindigkeitskomponenten in x- und y-Richtung enthalten.\n",
    "\n",
    "Hinweise:\n",
    "\n",
    "  * Sinnvollerweise sollten zum Laden der Dateien und zum Berechnen einzelner Geschwindigkeitsvektoren bereits von Ihnen geschriebene Funktionen verwendet werden.\n",
    "  * Die Größe des zurückgegebenen Vektorfeldes bestimmt sich aus der Größe der Ausgangsbilder, der Größe der Interrogationsfenster sowie der Suchfenster. \n",
    "    * Für jedes Interrogationsfenster wird genau ein Vektor berechnet.\n",
    "    * Die quadratischen *Interrogations*fenster grenzen immer direkt aneinander. \n",
    "    * Ein zu einem Interrogationsfenster gehörendes *Such*fenster hat den gleichen Mittelpunkt wie das Interrogationsfenster.\n",
    "    * Je nach Größe der Interrogationsfenster kann es vorkommen, dass verbleibende Werte am \"Bildrand\" nicht ein volles Interrogationsfenster füllen können.\n",
    "  * Ein mit Nullen gefülltes Array lässt sich z.B. mit NumPys [*zeros()*](https://docs.scipy.org/doc/numpy/reference/generated/numpy.zeros.html)-Funktion erzeugen.\n",
    "  * Für eine leichtere Fehlersuche ist es sinnvoll, mit Testausgaben (oder -plots) zu überprüfen, ob Zwischenschritte den Erwartungen entsprechen.\n",
    "  * Um aus einem Vektor mit x-Koordinaten und einem Vektor mit y-Koordinaten ein 2D-Gitter aufzuspannen (auf dem alle x- und y-Koordinaten kombiniert werden), kann die NumPy-Funktion [*meshgrid()*](https://docs.scipy.org/doc/numpy/reference/generated/numpy.meshgrid.html) verwendet werden.\n",
    "\n",
    "    "
   ]
  },
  {
   "cell_type": "code",
   "execution_count": null,
   "metadata": {},
   "outputs": [],
   "source": [
    "# Hier eigenen Code schreiben ...\n",
    "\n"
   ]
  },
  {
   "cell_type": "markdown",
   "metadata": {
    "deletable": false,
    "editable": false,
    "tags": []
   },
   "source": [
    "**3.2) Erstellen Sie mit Hilfe der _piv()_-Funktion für jeden Datensatz drei nebeneinander liegende Darstellungen:**\n",
    "  1. Einen Plot mit [Vektorpfeilen](https://matplotlib.org/api/_as_gen/matplotlib.pyplot.quiver.html), der die Strömungsrichtungen der Partikel(-Gruppen) visualisiert. *Hinweis: Beachten Sie den optionalen Parameter \"angles\" für eine korrekte Darstellung.*\n",
    "  2. Eine [Stromlinienvisualisierung](https://matplotlib.org/api/_as_gen/matplotlib.pyplot.streamplot.html).\n",
    "  3. Einen [Konturplot](https://matplotlib.org/api/_as_gen/matplotlib.pyplot.contourf.html), der den Betrag der Geschwindigkeitsverteilung abbildet.\n",
    "\n",
    "  * **Wichtig:** Hinterlegen Sie den 3 Sub-Plots zur besseren Übersicht eines der jeweiligen Partikelbilder. \n",
    "  * Verändern Sie ggf. die Farbwahl und weitere Darstellungsparameter so, dass die Visualisierung der Strömung gut erkennbar ist.\n",
    "  * Variieren Sie die Parameter der *piv()*-Funktion sowie der jeweiligen Plot-Funktion, um eine möglichst aussagekräftige Abbildung zu erhalten. "
   ]
  },
  {
   "cell_type": "code",
   "execution_count": null,
   "metadata": {},
   "outputs": [],
   "source": [
    "# Hier eigenen Code schreiben und für die Datenpaare jeweils weitere Zellen hinzufügen ...\n",
    "\n"
   ]
  },
  {
   "cell_type": "markdown",
   "metadata": {
    "deletable": false,
    "editable": false,
    "tags": []
   },
   "source": [
    "**3.3) Zusatzaufgaben (freiwillig):**\n",
    "  * Fügen Sie einen optionalen Parameter \"overlap\" – und die entsprechende Implementierung – für überlappende Interrogationsfenster hinzu.\n",
    "  * Aktuell können nur Geschwindigkeits-Vektoren mit Pixelgenauigkeit gefunden werden. Überlegen Sie, ob bzw. wie genauere Werte berechnet werden könnten.\n",
    "  * Wie könnte das Ergebnis verbessert werden, wenn die auftretenden Geschwindigkeiten lokal stark variieren?"
   ]
  }
 ],
 "metadata": {
  "kernelspec": {
   "display_name": "Python 3 (ipykernel)",
   "language": "python",
   "name": "python3"
  },
  "language_info": {
   "codemirror_mode": {
    "name": "ipython",
    "version": 3
   },
   "file_extension": ".py",
   "mimetype": "text/x-python",
   "name": "python",
   "nbconvert_exporter": "python",
   "pygments_lexer": "ipython3",
   "version": "3.9.5"
  }
 },
 "nbformat": 4,
 "nbformat_minor": 4
}
